{
 "cells": [
  {
   "cell_type": "markdown",
   "id": "e985154c",
   "metadata": {},
   "source": [
    "# Import niezbędnych bibliotek."
   ]
  },
  {
   "cell_type": "code",
   "execution_count": 1,
   "id": "d90c854a",
   "metadata": {},
   "outputs": [],
   "source": [
    "import numpy as np\n",
    "import pandas as pd\n",
    "import seaborn as sns\n",
    "import matplotlib.pyplot as plt"
   ]
  },
  {
   "cell_type": "markdown",
   "id": "7c463b7d",
   "metadata": {},
   "source": [
    "# Wczytanie danych."
   ]
  },
  {
   "cell_type": "code",
   "execution_count": 2,
   "id": "17802a13",
   "metadata": {},
   "outputs": [],
   "source": [
    "df = pd.read_csv('df1.csv', index_col=0 )\n",
    "df_2 = pd.read_csv('df2.csv', index_col=0)\n",
    "df_3 = pd.read_csv('attrition.csv', index_col=0)\n",
    "df_4 = pd.read_csv('sample_output.csv', index_col=0)"
   ]
  },
  {
   "cell_type": "markdown",
   "id": "d12f0fe7",
   "metadata": {},
   "source": [
    "# Połączenie plików w jeden główny.\n",
    "Sprawdzamy liczbę kolumn i wierszy."
   ]
  },
  {
   "cell_type": "code",
   "execution_count": 3,
   "id": "e5495cb0",
   "metadata": {},
   "outputs": [
    {
     "name": "stdout",
     "output_type": "stream",
     "text": [
      "(4449, 19)\n",
      "(4449, 16)\n",
      "(4449, 1)\n",
      "(147, 1)\n"
     ]
    }
   ],
   "source": [
    "print(df.shape)\n",
    "print(df_2.shape)\n",
    "print(df_3.shape)\n",
    "print(df_4.shape)"
   ]
  },
  {
   "cell_type": "code",
   "execution_count": 4,
   "id": "73dcd965",
   "metadata": {},
   "outputs": [
    {
     "data": {
      "text/html": [
       "<div>\n",
       "<style scoped>\n",
       "    .dataframe tbody tr th:only-of-type {\n",
       "        vertical-align: middle;\n",
       "    }\n",
       "\n",
       "    .dataframe tbody tr th {\n",
       "        vertical-align: top;\n",
       "    }\n",
       "\n",
       "    .dataframe thead th {\n",
       "        text-align: right;\n",
       "    }\n",
       "</style>\n",
       "<table border=\"1\" class=\"dataframe\">\n",
       "  <thead>\n",
       "    <tr style=\"text-align: right;\">\n",
       "      <th></th>\n",
       "      <th>Age</th>\n",
       "      <th>BusinessTravel</th>\n",
       "      <th>DailyRate</th>\n",
       "      <th>Department</th>\n",
       "      <th>DistanceFromHome</th>\n",
       "      <th>Education</th>\n",
       "      <th>EducationField</th>\n",
       "      <th>EmployeeCount</th>\n",
       "      <th>EnvironmentSatisfaction</th>\n",
       "      <th>Gender</th>\n",
       "      <th>HourlyRate</th>\n",
       "      <th>JobInvolvement</th>\n",
       "      <th>JobLevel</th>\n",
       "      <th>JobRole</th>\n",
       "      <th>JobSatisfaction</th>\n",
       "      <th>MaritalStatus</th>\n",
       "      <th>MonthlyIncome</th>\n",
       "      <th>MonthlyRate</th>\n",
       "      <th>NumCompaniesWorked</th>\n",
       "    </tr>\n",
       "    <tr>\n",
       "      <th>EmployeeNumber</th>\n",
       "      <th></th>\n",
       "      <th></th>\n",
       "      <th></th>\n",
       "      <th></th>\n",
       "      <th></th>\n",
       "      <th></th>\n",
       "      <th></th>\n",
       "      <th></th>\n",
       "      <th></th>\n",
       "      <th></th>\n",
       "      <th></th>\n",
       "      <th></th>\n",
       "      <th></th>\n",
       "      <th></th>\n",
       "      <th></th>\n",
       "      <th></th>\n",
       "      <th></th>\n",
       "      <th></th>\n",
       "      <th></th>\n",
       "    </tr>\n",
       "  </thead>\n",
       "  <tbody>\n",
       "    <tr>\n",
       "      <th>104</th>\n",
       "      <td>30.0</td>\n",
       "      <td>Travel_Rarely</td>\n",
       "      <td>852.0</td>\n",
       "      <td>Research &amp; Development</td>\n",
       "      <td>1.0</td>\n",
       "      <td>1.0</td>\n",
       "      <td>Life Sciences</td>\n",
       "      <td>1.0</td>\n",
       "      <td>4.0</td>\n",
       "      <td>Male</td>\n",
       "      <td>55.0</td>\n",
       "      <td>2.0</td>\n",
       "      <td>2.0</td>\n",
       "      <td>Laboratory Technician</td>\n",
       "      <td>4.0</td>\n",
       "      <td>Married</td>\n",
       "      <td>5126.0</td>\n",
       "      <td>15998.0</td>\n",
       "      <td>1.0</td>\n",
       "    </tr>\n",
       "    <tr>\n",
       "      <th>1638</th>\n",
       "      <td>38.0</td>\n",
       "      <td>Travel_Rarely</td>\n",
       "      <td>397.0</td>\n",
       "      <td>Research &amp; Development</td>\n",
       "      <td>2.0</td>\n",
       "      <td>2.0</td>\n",
       "      <td>Medical</td>\n",
       "      <td>1.0</td>\n",
       "      <td>4.0</td>\n",
       "      <td>Female</td>\n",
       "      <td>54.0</td>\n",
       "      <td>2.0</td>\n",
       "      <td>3.0</td>\n",
       "      <td>Manufacturing Director</td>\n",
       "      <td>3.0</td>\n",
       "      <td>Married</td>\n",
       "      <td>7756.0</td>\n",
       "      <td>14199.0</td>\n",
       "      <td>3.0</td>\n",
       "    </tr>\n",
       "    <tr>\n",
       "      <th>164</th>\n",
       "      <td>26.0</td>\n",
       "      <td>Travel_Rarely</td>\n",
       "      <td>841.0</td>\n",
       "      <td>Research &amp; Development</td>\n",
       "      <td>6.0</td>\n",
       "      <td>3.0</td>\n",
       "      <td>Other</td>\n",
       "      <td>1.0</td>\n",
       "      <td>3.0</td>\n",
       "      <td>Female</td>\n",
       "      <td>46.0</td>\n",
       "      <td>2.0</td>\n",
       "      <td>1.0</td>\n",
       "      <td>Research Scientist</td>\n",
       "      <td>2.0</td>\n",
       "      <td>Married</td>\n",
       "      <td>2368.0</td>\n",
       "      <td>23300.0</td>\n",
       "      <td>1.0</td>\n",
       "    </tr>\n",
       "    <tr>\n",
       "      <th>395</th>\n",
       "      <td>28.0</td>\n",
       "      <td>Travel_Rarely</td>\n",
       "      <td>1117.0</td>\n",
       "      <td>Research &amp; Development</td>\n",
       "      <td>8.0</td>\n",
       "      <td>2.0</td>\n",
       "      <td>Life Sciences</td>\n",
       "      <td>1.0</td>\n",
       "      <td>4.0</td>\n",
       "      <td>Female</td>\n",
       "      <td>66.0</td>\n",
       "      <td>3.0</td>\n",
       "      <td>1.0</td>\n",
       "      <td>Research Scientist</td>\n",
       "      <td>4.0</td>\n",
       "      <td>Single</td>\n",
       "      <td>3310.0</td>\n",
       "      <td>4488.0</td>\n",
       "      <td>1.0</td>\n",
       "    </tr>\n",
       "    <tr>\n",
       "      <th>53</th>\n",
       "      <td>35.0</td>\n",
       "      <td>Travel_Rarely</td>\n",
       "      <td>464.0</td>\n",
       "      <td>Research &amp; Development</td>\n",
       "      <td>4.0</td>\n",
       "      <td>2.0</td>\n",
       "      <td>Other</td>\n",
       "      <td>1.0</td>\n",
       "      <td>3.0</td>\n",
       "      <td>Male</td>\n",
       "      <td>75.0</td>\n",
       "      <td>3.0</td>\n",
       "      <td>1.0</td>\n",
       "      <td>Laboratory Technician</td>\n",
       "      <td>4.0</td>\n",
       "      <td>Divorced</td>\n",
       "      <td>1951.0</td>\n",
       "      <td>10910.0</td>\n",
       "      <td>1.0</td>\n",
       "    </tr>\n",
       "    <tr>\n",
       "      <th>...</th>\n",
       "      <td>...</td>\n",
       "      <td>...</td>\n",
       "      <td>...</td>\n",
       "      <td>...</td>\n",
       "      <td>...</td>\n",
       "      <td>...</td>\n",
       "      <td>...</td>\n",
       "      <td>...</td>\n",
       "      <td>...</td>\n",
       "      <td>...</td>\n",
       "      <td>...</td>\n",
       "      <td>...</td>\n",
       "      <td>...</td>\n",
       "      <td>...</td>\n",
       "      <td>...</td>\n",
       "      <td>...</td>\n",
       "      <td>...</td>\n",
       "      <td>...</td>\n",
       "      <td>...</td>\n",
       "    </tr>\n",
       "    <tr>\n",
       "      <th>7975</th>\n",
       "      <td>8823.0</td>\n",
       "      <td>Travel_Rarely</td>\n",
       "      <td>621.0</td>\n",
       "      <td>Research &amp; Development</td>\n",
       "      <td>15.0</td>\n",
       "      <td>3.0</td>\n",
       "      <td>Medical</td>\n",
       "      <td>1.0</td>\n",
       "      <td>1.0</td>\n",
       "      <td>Female</td>\n",
       "      <td>73.0</td>\n",
       "      <td>3.0</td>\n",
       "      <td>3.0</td>\n",
       "      <td>Healthcare Representative</td>\n",
       "      <td>4.0</td>\n",
       "      <td>Married</td>\n",
       "      <td>7978.0</td>\n",
       "      <td>14075.0</td>\n",
       "      <td>1.0</td>\n",
       "    </tr>\n",
       "    <tr>\n",
       "      <th>7976</th>\n",
       "      <td>8823.0</td>\n",
       "      <td>Travel_Rarely</td>\n",
       "      <td>621.0</td>\n",
       "      <td>Research &amp; Development</td>\n",
       "      <td>15.0</td>\n",
       "      <td>3.0</td>\n",
       "      <td>Medical</td>\n",
       "      <td>1.0</td>\n",
       "      <td>1.0</td>\n",
       "      <td>Female</td>\n",
       "      <td>73.0</td>\n",
       "      <td>3.0</td>\n",
       "      <td>3.0</td>\n",
       "      <td>Healthcare Representative</td>\n",
       "      <td>4.0</td>\n",
       "      <td>Married</td>\n",
       "      <td>7978.0</td>\n",
       "      <td>14075.0</td>\n",
       "      <td>1.0</td>\n",
       "    </tr>\n",
       "    <tr>\n",
       "      <th>7977</th>\n",
       "      <td>44.0</td>\n",
       "      <td>Non-Travel</td>\n",
       "      <td>381.0</td>\n",
       "      <td>Research &amp; Development</td>\n",
       "      <td>918785.0</td>\n",
       "      <td>3.0</td>\n",
       "      <td>Medical</td>\n",
       "      <td>1.0</td>\n",
       "      <td>1.0</td>\n",
       "      <td>Male</td>\n",
       "      <td>49.0</td>\n",
       "      <td>1.0</td>\n",
       "      <td>1.0</td>\n",
       "      <td>Laboratory Technician</td>\n",
       "      <td>3.0</td>\n",
       "      <td>Single</td>\n",
       "      <td>3708.0</td>\n",
       "      <td>2104.0</td>\n",
       "      <td>2.0</td>\n",
       "    </tr>\n",
       "    <tr>\n",
       "      <th>7978</th>\n",
       "      <td>44.0</td>\n",
       "      <td>Non-Travel</td>\n",
       "      <td>381.0</td>\n",
       "      <td>Research &amp; Development</td>\n",
       "      <td>918785.0</td>\n",
       "      <td>3.0</td>\n",
       "      <td>Medical</td>\n",
       "      <td>1.0</td>\n",
       "      <td>1.0</td>\n",
       "      <td>Male</td>\n",
       "      <td>49.0</td>\n",
       "      <td>1.0</td>\n",
       "      <td>1.0</td>\n",
       "      <td>Laboratory Technician</td>\n",
       "      <td>3.0</td>\n",
       "      <td>Single</td>\n",
       "      <td>3708.0</td>\n",
       "      <td>2104.0</td>\n",
       "      <td>2.0</td>\n",
       "    </tr>\n",
       "    <tr>\n",
       "      <th>7979</th>\n",
       "      <td>44.0</td>\n",
       "      <td>Non-Travel</td>\n",
       "      <td>381.0</td>\n",
       "      <td>Research &amp; Development</td>\n",
       "      <td>918785.0</td>\n",
       "      <td>3.0</td>\n",
       "      <td>Medical</td>\n",
       "      <td>1.0</td>\n",
       "      <td>1.0</td>\n",
       "      <td>Male</td>\n",
       "      <td>49.0</td>\n",
       "      <td>1.0</td>\n",
       "      <td>1.0</td>\n",
       "      <td>Laboratory Technician</td>\n",
       "      <td>3.0</td>\n",
       "      <td>Single</td>\n",
       "      <td>3708.0</td>\n",
       "      <td>2104.0</td>\n",
       "      <td>2.0</td>\n",
       "    </tr>\n",
       "  </tbody>\n",
       "</table>\n",
       "<p>4449 rows × 19 columns</p>\n",
       "</div>"
      ],
      "text/plain": [
       "                   Age BusinessTravel  DailyRate              Department  \\\n",
       "EmployeeNumber                                                             \n",
       "104               30.0  Travel_Rarely      852.0  Research & Development   \n",
       "1638              38.0  Travel_Rarely      397.0  Research & Development   \n",
       "164               26.0  Travel_Rarely      841.0  Research & Development   \n",
       "395               28.0  Travel_Rarely     1117.0  Research & Development   \n",
       "53                35.0  Travel_Rarely      464.0  Research & Development   \n",
       "...                ...            ...        ...                     ...   \n",
       "7975            8823.0  Travel_Rarely      621.0  Research & Development   \n",
       "7976            8823.0  Travel_Rarely      621.0  Research & Development   \n",
       "7977              44.0     Non-Travel      381.0  Research & Development   \n",
       "7978              44.0     Non-Travel      381.0  Research & Development   \n",
       "7979              44.0     Non-Travel      381.0  Research & Development   \n",
       "\n",
       "                DistanceFromHome  Education EducationField  EmployeeCount  \\\n",
       "EmployeeNumber                                                              \n",
       "104                          1.0        1.0  Life Sciences            1.0   \n",
       "1638                         2.0        2.0        Medical            1.0   \n",
       "164                          6.0        3.0          Other            1.0   \n",
       "395                          8.0        2.0  Life Sciences            1.0   \n",
       "53                           4.0        2.0          Other            1.0   \n",
       "...                          ...        ...            ...            ...   \n",
       "7975                        15.0        3.0        Medical            1.0   \n",
       "7976                        15.0        3.0        Medical            1.0   \n",
       "7977                    918785.0        3.0        Medical            1.0   \n",
       "7978                    918785.0        3.0        Medical            1.0   \n",
       "7979                    918785.0        3.0        Medical            1.0   \n",
       "\n",
       "                EnvironmentSatisfaction  Gender  HourlyRate  JobInvolvement  \\\n",
       "EmployeeNumber                                                                \n",
       "104                                 4.0    Male        55.0             2.0   \n",
       "1638                                4.0  Female        54.0             2.0   \n",
       "164                                 3.0  Female        46.0             2.0   \n",
       "395                                 4.0  Female        66.0             3.0   \n",
       "53                                  3.0    Male        75.0             3.0   \n",
       "...                                 ...     ...         ...             ...   \n",
       "7975                                1.0  Female        73.0             3.0   \n",
       "7976                                1.0  Female        73.0             3.0   \n",
       "7977                                1.0    Male        49.0             1.0   \n",
       "7978                                1.0    Male        49.0             1.0   \n",
       "7979                                1.0    Male        49.0             1.0   \n",
       "\n",
       "                JobLevel                    JobRole  JobSatisfaction  \\\n",
       "EmployeeNumber                                                         \n",
       "104                  2.0      Laboratory Technician              4.0   \n",
       "1638                 3.0     Manufacturing Director              3.0   \n",
       "164                  1.0         Research Scientist              2.0   \n",
       "395                  1.0         Research Scientist              4.0   \n",
       "53                   1.0      Laboratory Technician              4.0   \n",
       "...                  ...                        ...              ...   \n",
       "7975                 3.0  Healthcare Representative              4.0   \n",
       "7976                 3.0  Healthcare Representative              4.0   \n",
       "7977                 1.0      Laboratory Technician              3.0   \n",
       "7978                 1.0      Laboratory Technician              3.0   \n",
       "7979                 1.0      Laboratory Technician              3.0   \n",
       "\n",
       "               MaritalStatus  MonthlyIncome  MonthlyRate  NumCompaniesWorked  \n",
       "EmployeeNumber                                                                \n",
       "104                  Married         5126.0      15998.0                 1.0  \n",
       "1638                 Married         7756.0      14199.0                 3.0  \n",
       "164                  Married         2368.0      23300.0                 1.0  \n",
       "395                   Single         3310.0       4488.0                 1.0  \n",
       "53                  Divorced         1951.0      10910.0                 1.0  \n",
       "...                      ...            ...          ...                 ...  \n",
       "7975                 Married         7978.0      14075.0                 1.0  \n",
       "7976                 Married         7978.0      14075.0                 1.0  \n",
       "7977                  Single         3708.0       2104.0                 2.0  \n",
       "7978                  Single         3708.0       2104.0                 2.0  \n",
       "7979                  Single         3708.0       2104.0                 2.0  \n",
       "\n",
       "[4449 rows x 19 columns]"
      ]
     },
     "execution_count": 4,
     "metadata": {},
     "output_type": "execute_result"
    }
   ],
   "source": [
    "df"
   ]
  },
  {
   "cell_type": "code",
   "execution_count": 5,
   "id": "0b8e0972",
   "metadata": {},
   "outputs": [
    {
     "data": {
      "text/html": [
       "<div>\n",
       "<style scoped>\n",
       "    .dataframe tbody tr th:only-of-type {\n",
       "        vertical-align: middle;\n",
       "    }\n",
       "\n",
       "    .dataframe tbody tr th {\n",
       "        vertical-align: top;\n",
       "    }\n",
       "\n",
       "    .dataframe thead th {\n",
       "        text-align: right;\n",
       "    }\n",
       "</style>\n",
       "<table border=\"1\" class=\"dataframe\">\n",
       "  <thead>\n",
       "    <tr style=\"text-align: right;\">\n",
       "      <th></th>\n",
       "      <th>Age</th>\n",
       "      <th>BusinessTravel</th>\n",
       "      <th>DailyRate</th>\n",
       "      <th>Department</th>\n",
       "      <th>DistanceFromHome</th>\n",
       "      <th>Education</th>\n",
       "      <th>EducationField</th>\n",
       "      <th>EmployeeCount</th>\n",
       "      <th>EnvironmentSatisfaction</th>\n",
       "      <th>Gender</th>\n",
       "      <th>HourlyRate</th>\n",
       "      <th>JobInvolvement</th>\n",
       "      <th>JobLevel</th>\n",
       "      <th>JobRole</th>\n",
       "      <th>JobSatisfaction</th>\n",
       "      <th>MaritalStatus</th>\n",
       "      <th>MonthlyIncome</th>\n",
       "      <th>MonthlyRate</th>\n",
       "      <th>NumCompaniesWorked</th>\n",
       "    </tr>\n",
       "    <tr>\n",
       "      <th>EmployeeNumber</th>\n",
       "      <th></th>\n",
       "      <th></th>\n",
       "      <th></th>\n",
       "      <th></th>\n",
       "      <th></th>\n",
       "      <th></th>\n",
       "      <th></th>\n",
       "      <th></th>\n",
       "      <th></th>\n",
       "      <th></th>\n",
       "      <th></th>\n",
       "      <th></th>\n",
       "      <th></th>\n",
       "      <th></th>\n",
       "      <th></th>\n",
       "      <th></th>\n",
       "      <th></th>\n",
       "      <th></th>\n",
       "      <th></th>\n",
       "    </tr>\n",
       "  </thead>\n",
       "  <tbody>\n",
       "    <tr>\n",
       "      <th>104</th>\n",
       "      <td>30.0</td>\n",
       "      <td>Travel_Rarely</td>\n",
       "      <td>852.0</td>\n",
       "      <td>Research &amp; Development</td>\n",
       "      <td>1.0</td>\n",
       "      <td>1.0</td>\n",
       "      <td>Life Sciences</td>\n",
       "      <td>1.0</td>\n",
       "      <td>4.0</td>\n",
       "      <td>Male</td>\n",
       "      <td>55.0</td>\n",
       "      <td>2.0</td>\n",
       "      <td>2.0</td>\n",
       "      <td>Laboratory Technician</td>\n",
       "      <td>4.0</td>\n",
       "      <td>Married</td>\n",
       "      <td>5126.0</td>\n",
       "      <td>15998.0</td>\n",
       "      <td>1.0</td>\n",
       "    </tr>\n",
       "    <tr>\n",
       "      <th>1638</th>\n",
       "      <td>38.0</td>\n",
       "      <td>Travel_Rarely</td>\n",
       "      <td>397.0</td>\n",
       "      <td>Research &amp; Development</td>\n",
       "      <td>2.0</td>\n",
       "      <td>2.0</td>\n",
       "      <td>Medical</td>\n",
       "      <td>1.0</td>\n",
       "      <td>4.0</td>\n",
       "      <td>Female</td>\n",
       "      <td>54.0</td>\n",
       "      <td>2.0</td>\n",
       "      <td>3.0</td>\n",
       "      <td>Manufacturing Director</td>\n",
       "      <td>3.0</td>\n",
       "      <td>Married</td>\n",
       "      <td>7756.0</td>\n",
       "      <td>14199.0</td>\n",
       "      <td>3.0</td>\n",
       "    </tr>\n",
       "  </tbody>\n",
       "</table>\n",
       "</div>"
      ],
      "text/plain": [
       "                 Age BusinessTravel  DailyRate              Department  \\\n",
       "EmployeeNumber                                                           \n",
       "104             30.0  Travel_Rarely      852.0  Research & Development   \n",
       "1638            38.0  Travel_Rarely      397.0  Research & Development   \n",
       "\n",
       "                DistanceFromHome  Education EducationField  EmployeeCount  \\\n",
       "EmployeeNumber                                                              \n",
       "104                          1.0        1.0  Life Sciences            1.0   \n",
       "1638                         2.0        2.0        Medical            1.0   \n",
       "\n",
       "                EnvironmentSatisfaction  Gender  HourlyRate  JobInvolvement  \\\n",
       "EmployeeNumber                                                                \n",
       "104                                 4.0    Male        55.0             2.0   \n",
       "1638                                4.0  Female        54.0             2.0   \n",
       "\n",
       "                JobLevel                 JobRole  JobSatisfaction  \\\n",
       "EmployeeNumber                                                      \n",
       "104                  2.0   Laboratory Technician              4.0   \n",
       "1638                 3.0  Manufacturing Director              3.0   \n",
       "\n",
       "               MaritalStatus  MonthlyIncome  MonthlyRate  NumCompaniesWorked  \n",
       "EmployeeNumber                                                                \n",
       "104                  Married         5126.0      15998.0                 1.0  \n",
       "1638                 Married         7756.0      14199.0                 3.0  "
      ]
     },
     "execution_count": 5,
     "metadata": {},
     "output_type": "execute_result"
    }
   ],
   "source": [
    "df.head(2)"
   ]
  },
  {
   "cell_type": "code",
   "execution_count": 6,
   "id": "ccb71686",
   "metadata": {},
   "outputs": [
    {
     "data": {
      "text/html": [
       "<div>\n",
       "<style scoped>\n",
       "    .dataframe tbody tr th:only-of-type {\n",
       "        vertical-align: middle;\n",
       "    }\n",
       "\n",
       "    .dataframe tbody tr th {\n",
       "        vertical-align: top;\n",
       "    }\n",
       "\n",
       "    .dataframe thead th {\n",
       "        text-align: right;\n",
       "    }\n",
       "</style>\n",
       "<table border=\"1\" class=\"dataframe\">\n",
       "  <thead>\n",
       "    <tr style=\"text-align: right;\">\n",
       "      <th></th>\n",
       "      <th>Over18</th>\n",
       "      <th>OverTime</th>\n",
       "      <th>PercentSalaryHike</th>\n",
       "      <th>PerformanceRating</th>\n",
       "      <th>RelationshipSatisfaction</th>\n",
       "      <th>StandardHours</th>\n",
       "      <th>StockOptionLevel</th>\n",
       "      <th>TotalWorkingYears</th>\n",
       "      <th>TrainingTimesLastYear</th>\n",
       "      <th>WorkLifeBalance</th>\n",
       "      <th>YearsAtCompany</th>\n",
       "      <th>YearsInCurrentRole</th>\n",
       "      <th>YearsSinceLastPromotion</th>\n",
       "      <th>YearsWithCurrManager</th>\n",
       "      <th>Attrition</th>\n",
       "      <th>YearlyIncome</th>\n",
       "    </tr>\n",
       "    <tr>\n",
       "      <th>EmployeeNumber</th>\n",
       "      <th></th>\n",
       "      <th></th>\n",
       "      <th></th>\n",
       "      <th></th>\n",
       "      <th></th>\n",
       "      <th></th>\n",
       "      <th></th>\n",
       "      <th></th>\n",
       "      <th></th>\n",
       "      <th></th>\n",
       "      <th></th>\n",
       "      <th></th>\n",
       "      <th></th>\n",
       "      <th></th>\n",
       "      <th></th>\n",
       "      <th></th>\n",
       "    </tr>\n",
       "  </thead>\n",
       "  <tbody>\n",
       "    <tr>\n",
       "      <th>104</th>\n",
       "      <td>Y</td>\n",
       "      <td>Yes</td>\n",
       "      <td>12.0</td>\n",
       "      <td>3.0</td>\n",
       "      <td>3.0</td>\n",
       "      <td>80.0</td>\n",
       "      <td>2.0</td>\n",
       "      <td>10.0</td>\n",
       "      <td>1.0</td>\n",
       "      <td>2.0</td>\n",
       "      <td>10.0</td>\n",
       "      <td>8.0</td>\n",
       "      <td>3.0</td>\n",
       "      <td>0.0</td>\n",
       "      <td>No</td>\n",
       "      <td>61512.0</td>\n",
       "    </tr>\n",
       "    <tr>\n",
       "      <th>1638</th>\n",
       "      <td>Y</td>\n",
       "      <td>Yes</td>\n",
       "      <td>19.0</td>\n",
       "      <td>3.0</td>\n",
       "      <td>4.0</td>\n",
       "      <td>80.0</td>\n",
       "      <td>1.0</td>\n",
       "      <td>10.0</td>\n",
       "      <td>6.0</td>\n",
       "      <td>4.0</td>\n",
       "      <td>5.0</td>\n",
       "      <td>4.0</td>\n",
       "      <td>0.0</td>\n",
       "      <td>2.0</td>\n",
       "      <td>No</td>\n",
       "      <td>93072.0</td>\n",
       "    </tr>\n",
       "  </tbody>\n",
       "</table>\n",
       "</div>"
      ],
      "text/plain": [
       "               Over18 OverTime  PercentSalaryHike  PerformanceRating  \\\n",
       "EmployeeNumber                                                         \n",
       "104                 Y      Yes               12.0                3.0   \n",
       "1638                Y      Yes               19.0                3.0   \n",
       "\n",
       "                RelationshipSatisfaction  StandardHours  StockOptionLevel  \\\n",
       "EmployeeNumber                                                              \n",
       "104                                  3.0           80.0               2.0   \n",
       "1638                                 4.0           80.0               1.0   \n",
       "\n",
       "                TotalWorkingYears  TrainingTimesLastYear  WorkLifeBalance  \\\n",
       "EmployeeNumber                                                              \n",
       "104                          10.0                    1.0              2.0   \n",
       "1638                         10.0                    6.0              4.0   \n",
       "\n",
       "                YearsAtCompany  YearsInCurrentRole  YearsSinceLastPromotion  \\\n",
       "EmployeeNumber                                                                \n",
       "104                       10.0                 8.0                      3.0   \n",
       "1638                       5.0                 4.0                      0.0   \n",
       "\n",
       "                YearsWithCurrManager Attrition  YearlyIncome  \n",
       "EmployeeNumber                                                \n",
       "104                              0.0        No       61512.0  \n",
       "1638                             2.0        No       93072.0  "
      ]
     },
     "execution_count": 6,
     "metadata": {},
     "output_type": "execute_result"
    }
   ],
   "source": [
    "df_2.head(2)"
   ]
  },
  {
   "cell_type": "code",
   "execution_count": 7,
   "id": "1d8898af",
   "metadata": {},
   "outputs": [
    {
     "data": {
      "text/html": [
       "<div>\n",
       "<style scoped>\n",
       "    .dataframe tbody tr th:only-of-type {\n",
       "        vertical-align: middle;\n",
       "    }\n",
       "\n",
       "    .dataframe tbody tr th {\n",
       "        vertical-align: top;\n",
       "    }\n",
       "\n",
       "    .dataframe thead th {\n",
       "        text-align: right;\n",
       "    }\n",
       "</style>\n",
       "<table border=\"1\" class=\"dataframe\">\n",
       "  <thead>\n",
       "    <tr style=\"text-align: right;\">\n",
       "      <th></th>\n",
       "      <th>Attrition</th>\n",
       "    </tr>\n",
       "    <tr>\n",
       "      <th>EmployeeNumber</th>\n",
       "      <th></th>\n",
       "    </tr>\n",
       "  </thead>\n",
       "  <tbody>\n",
       "    <tr>\n",
       "      <th>104</th>\n",
       "      <td>No</td>\n",
       "    </tr>\n",
       "    <tr>\n",
       "      <th>1638</th>\n",
       "      <td>No</td>\n",
       "    </tr>\n",
       "  </tbody>\n",
       "</table>\n",
       "</div>"
      ],
      "text/plain": [
       "               Attrition\n",
       "EmployeeNumber          \n",
       "104                   No\n",
       "1638                  No"
      ]
     },
     "execution_count": 7,
     "metadata": {},
     "output_type": "execute_result"
    }
   ],
   "source": [
    "df_3.head(2)"
   ]
  },
  {
   "cell_type": "markdown",
   "id": "d3bd7384",
   "metadata": {},
   "source": [
    "Czwarty dataset dotyczcy pracowników o innych indeksach, zatem nie bierzemy go pod uwagę."
   ]
  },
  {
   "cell_type": "code",
   "execution_count": 8,
   "id": "6e580c92",
   "metadata": {},
   "outputs": [
    {
     "data": {
      "text/html": [
       "<div>\n",
       "<style scoped>\n",
       "    .dataframe tbody tr th:only-of-type {\n",
       "        vertical-align: middle;\n",
       "    }\n",
       "\n",
       "    .dataframe tbody tr th {\n",
       "        vertical-align: top;\n",
       "    }\n",
       "\n",
       "    .dataframe thead th {\n",
       "        text-align: right;\n",
       "    }\n",
       "</style>\n",
       "<table border=\"1\" class=\"dataframe\">\n",
       "  <thead>\n",
       "    <tr style=\"text-align: right;\">\n",
       "      <th></th>\n",
       "      <th>Attrition</th>\n",
       "    </tr>\n",
       "    <tr>\n",
       "      <th>EmployeeNumber</th>\n",
       "      <th></th>\n",
       "    </tr>\n",
       "  </thead>\n",
       "  <tbody>\n",
       "    <tr>\n",
       "      <th>100000</th>\n",
       "      <td>1</td>\n",
       "    </tr>\n",
       "    <tr>\n",
       "      <th>100001</th>\n",
       "      <td>1</td>\n",
       "    </tr>\n",
       "  </tbody>\n",
       "</table>\n",
       "</div>"
      ],
      "text/plain": [
       "                Attrition\n",
       "EmployeeNumber           \n",
       "100000                  1\n",
       "100001                  1"
      ]
     },
     "execution_count": 8,
     "metadata": {},
     "output_type": "execute_result"
    }
   ],
   "source": [
    "df_4.head(2)"
   ]
  },
  {
   "cell_type": "code",
   "execution_count": 9,
   "id": "a8ffe330",
   "metadata": {},
   "outputs": [
    {
     "data": {
      "text/plain": [
       "Int64Index([100000, 100001, 100002, 100003, 100004, 100005, 100006, 100007,\n",
       "            100008, 100009,\n",
       "            ...\n",
       "            100137, 100138, 100139, 100140, 100141, 100142, 100143, 100144,\n",
       "            100145, 100146],\n",
       "           dtype='int64', name='EmployeeNumber', length=147)"
      ]
     },
     "execution_count": 9,
     "metadata": {},
     "output_type": "execute_result"
    }
   ],
   "source": [
    "df_4.index"
   ]
  },
  {
   "cell_type": "code",
   "execution_count": 10,
   "id": "3a053d03",
   "metadata": {},
   "outputs": [
    {
     "data": {
      "text/plain": [
       "Int64Index([ 104, 1638,  164,  395,   53, 1467,  727,  351,  555,  253,\n",
       "            ...\n",
       "            7970, 7971, 7972, 7973, 7974, 7975, 7976, 7977, 7978, 7979],\n",
       "           dtype='int64', name='EmployeeNumber', length=4449)"
      ]
     },
     "execution_count": 10,
     "metadata": {},
     "output_type": "execute_result"
    }
   ],
   "source": [
    "df.index"
   ]
  },
  {
   "cell_type": "markdown",
   "id": "285f278b",
   "metadata": {},
   "source": [
    "Mergujemy dane komendą join, dołączając poszczególne pliki do pierwszego df."
   ]
  },
  {
   "cell_type": "code",
   "execution_count": 11,
   "id": "65bfbb8e",
   "metadata": {},
   "outputs": [],
   "source": [
    "df = df.merge(df_2, left_index=True, right_index=True)"
   ]
  },
  {
   "cell_type": "code",
   "execution_count": 12,
   "id": "79b9fe07",
   "metadata": {},
   "outputs": [],
   "source": [
    "df = df.join(df_4, rsuffix='_sample_output')"
   ]
  },
  {
   "cell_type": "code",
   "execution_count": 13,
   "id": "74fb1ab3",
   "metadata": {},
   "outputs": [],
   "source": [
    "df['Attrition_sample_output'] = df['Attrition_sample_output'].replace(1, 'Yes')"
   ]
  },
  {
   "cell_type": "code",
   "execution_count": 14,
   "id": "f3a57909",
   "metadata": {},
   "outputs": [],
   "source": [
    "df['Attrition'] = np.where(df['Attrition'].isna(), df['Attrition_sample_output'], df['Attrition'])"
   ]
  },
  {
   "cell_type": "code",
   "execution_count": 15,
   "id": "736036ab",
   "metadata": {},
   "outputs": [],
   "source": [
    "df.drop(columns='Attrition_sample_output', inplace=True)"
   ]
  },
  {
   "cell_type": "markdown",
   "id": "8528d055",
   "metadata": {},
   "source": [
    "Sprawdzamy, czy zgadza się liczba kolumn w pliku."
   ]
  },
  {
   "cell_type": "code",
   "execution_count": 16,
   "id": "e40ef746",
   "metadata": {},
   "outputs": [
    {
     "data": {
      "text/plain": [
       "(4449, 35)"
      ]
     },
     "execution_count": 16,
     "metadata": {},
     "output_type": "execute_result"
    }
   ],
   "source": [
    "df.shape"
   ]
  },
  {
   "cell_type": "code",
   "execution_count": 17,
   "id": "c7a32677",
   "metadata": {
    "scrolled": true
   },
   "outputs": [
    {
     "name": "stdout",
     "output_type": "stream",
     "text": [
      "<class 'pandas.core.frame.DataFrame'>\n",
      "Int64Index: 4449 entries, 104 to 7979\n",
      "Data columns (total 35 columns):\n",
      " #   Column                    Non-Null Count  Dtype  \n",
      "---  ------                    --------------  -----  \n",
      " 0   Age                       4449 non-null   float64\n",
      " 1   BusinessTravel            4449 non-null   object \n",
      " 2   DailyRate                 4449 non-null   float64\n",
      " 3   Department                4449 non-null   object \n",
      " 4   DistanceFromHome          4449 non-null   float64\n",
      " 5   Education                 4449 non-null   float64\n",
      " 6   EducationField            4449 non-null   object \n",
      " 7   EmployeeCount             4449 non-null   float64\n",
      " 8   EnvironmentSatisfaction   4449 non-null   float64\n",
      " 9   Gender                    4449 non-null   object \n",
      " 10  HourlyRate                4449 non-null   float64\n",
      " 11  JobInvolvement            4449 non-null   float64\n",
      " 12  JobLevel                  4449 non-null   float64\n",
      " 13  JobRole                   4449 non-null   object \n",
      " 14  JobSatisfaction           4449 non-null   float64\n",
      " 15  MaritalStatus             4449 non-null   object \n",
      " 16  MonthlyIncome             4449 non-null   float64\n",
      " 17  MonthlyRate               4449 non-null   float64\n",
      " 18  NumCompaniesWorked        4449 non-null   float64\n",
      " 19  Over18                    4449 non-null   object \n",
      " 20  OverTime                  4449 non-null   object \n",
      " 21  PercentSalaryHike         4449 non-null   float64\n",
      " 22  PerformanceRating         4449 non-null   float64\n",
      " 23  RelationshipSatisfaction  4449 non-null   float64\n",
      " 24  StandardHours             4449 non-null   float64\n",
      " 25  StockOptionLevel          4449 non-null   float64\n",
      " 26  TotalWorkingYears         4449 non-null   float64\n",
      " 27  TrainingTimesLastYear     4449 non-null   float64\n",
      " 28  WorkLifeBalance           4449 non-null   float64\n",
      " 29  YearsAtCompany            4449 non-null   float64\n",
      " 30  YearsInCurrentRole        4449 non-null   float64\n",
      " 31  YearsSinceLastPromotion   4449 non-null   float64\n",
      " 32  YearsWithCurrManager      4449 non-null   float64\n",
      " 33  Attrition                 4449 non-null   object \n",
      " 34  YearlyIncome              4449 non-null   float64\n",
      "dtypes: float64(26), object(9)\n",
      "memory usage: 1.3+ MB\n"
     ]
    }
   ],
   "source": [
    "df.info()"
   ]
  },
  {
   "cell_type": "code",
   "execution_count": 18,
   "id": "3ba73ec8",
   "metadata": {},
   "outputs": [
    {
     "data": {
      "text/html": [
       "<div>\n",
       "<style scoped>\n",
       "    .dataframe tbody tr th:only-of-type {\n",
       "        vertical-align: middle;\n",
       "    }\n",
       "\n",
       "    .dataframe tbody tr th {\n",
       "        vertical-align: top;\n",
       "    }\n",
       "\n",
       "    .dataframe thead th {\n",
       "        text-align: right;\n",
       "    }\n",
       "</style>\n",
       "<table border=\"1\" class=\"dataframe\">\n",
       "  <thead>\n",
       "    <tr style=\"text-align: right;\">\n",
       "      <th></th>\n",
       "      <th>Age</th>\n",
       "      <th>BusinessTravel</th>\n",
       "      <th>DailyRate</th>\n",
       "      <th>Department</th>\n",
       "      <th>DistanceFromHome</th>\n",
       "      <th>Education</th>\n",
       "      <th>EducationField</th>\n",
       "      <th>EmployeeCount</th>\n",
       "      <th>EnvironmentSatisfaction</th>\n",
       "      <th>Gender</th>\n",
       "      <th>...</th>\n",
       "      <th>StockOptionLevel</th>\n",
       "      <th>TotalWorkingYears</th>\n",
       "      <th>TrainingTimesLastYear</th>\n",
       "      <th>WorkLifeBalance</th>\n",
       "      <th>YearsAtCompany</th>\n",
       "      <th>YearsInCurrentRole</th>\n",
       "      <th>YearsSinceLastPromotion</th>\n",
       "      <th>YearsWithCurrManager</th>\n",
       "      <th>Attrition</th>\n",
       "      <th>YearlyIncome</th>\n",
       "    </tr>\n",
       "    <tr>\n",
       "      <th>EmployeeNumber</th>\n",
       "      <th></th>\n",
       "      <th></th>\n",
       "      <th></th>\n",
       "      <th></th>\n",
       "      <th></th>\n",
       "      <th></th>\n",
       "      <th></th>\n",
       "      <th></th>\n",
       "      <th></th>\n",
       "      <th></th>\n",
       "      <th></th>\n",
       "      <th></th>\n",
       "      <th></th>\n",
       "      <th></th>\n",
       "      <th></th>\n",
       "      <th></th>\n",
       "      <th></th>\n",
       "      <th></th>\n",
       "      <th></th>\n",
       "      <th></th>\n",
       "      <th></th>\n",
       "    </tr>\n",
       "  </thead>\n",
       "  <tbody>\n",
       "  </tbody>\n",
       "</table>\n",
       "<p>0 rows × 35 columns</p>\n",
       "</div>"
      ],
      "text/plain": [
       "Empty DataFrame\n",
       "Columns: [Age, BusinessTravel, DailyRate, Department, DistanceFromHome, Education, EducationField, EmployeeCount, EnvironmentSatisfaction, Gender, HourlyRate, JobInvolvement, JobLevel, JobRole, JobSatisfaction, MaritalStatus, MonthlyIncome, MonthlyRate, NumCompaniesWorked, Over18, OverTime, PercentSalaryHike, PerformanceRating, RelationshipSatisfaction, StandardHours, StockOptionLevel, TotalWorkingYears, TrainingTimesLastYear, WorkLifeBalance, YearsAtCompany, YearsInCurrentRole, YearsSinceLastPromotion, YearsWithCurrManager, Attrition, YearlyIncome]\n",
       "Index: []\n",
       "\n",
       "[0 rows x 35 columns]"
      ]
     },
     "execution_count": 18,
     "metadata": {},
     "output_type": "execute_result"
    }
   ],
   "source": [
    "df[df.isna().any(axis=1)]"
   ]
  },
  {
   "cell_type": "markdown",
   "id": "d83161b1",
   "metadata": {},
   "source": [
    "# Sprawdzenie danych."
   ]
  },
  {
   "cell_type": "markdown",
   "id": "7d07ed9f",
   "metadata": {},
   "source": [
    "## Sprawdzenie, czy dane się nie duplikują."
   ]
  },
  {
   "cell_type": "code",
   "execution_count": 19,
   "id": "cff0471f",
   "metadata": {},
   "outputs": [
    {
     "data": {
      "text/plain": [
       "Index(['Age', 'BusinessTravel', 'DailyRate', 'Department', 'DistanceFromHome',\n",
       "       'Education', 'EducationField', 'EmployeeCount',\n",
       "       'EnvironmentSatisfaction', 'Gender', 'HourlyRate', 'JobInvolvement',\n",
       "       'JobLevel', 'JobRole', 'JobSatisfaction', 'MaritalStatus',\n",
       "       'MonthlyIncome', 'MonthlyRate', 'NumCompaniesWorked', 'Over18',\n",
       "       'OverTime', 'PercentSalaryHike', 'PerformanceRating',\n",
       "       'RelationshipSatisfaction', 'StandardHours', 'StockOptionLevel',\n",
       "       'TotalWorkingYears', 'TrainingTimesLastYear', 'WorkLifeBalance',\n",
       "       'YearsAtCompany', 'YearsInCurrentRole', 'YearsSinceLastPromotion',\n",
       "       'YearsWithCurrManager', 'Attrition', 'YearlyIncome'],\n",
       "      dtype='object')"
      ]
     },
     "execution_count": 19,
     "metadata": {},
     "output_type": "execute_result"
    }
   ],
   "source": [
    "df.columns"
   ]
  },
  {
   "cell_type": "markdown",
   "id": "f1aca9f1",
   "metadata": {},
   "source": [
    "Komendą T.drop_duplicates().T usuwamy zdublikowane kolumny."
   ]
  },
  {
   "cell_type": "code",
   "execution_count": 20,
   "id": "52df81f5",
   "metadata": {},
   "outputs": [],
   "source": [
    "# df = df.T.drop_duplicates().T"
   ]
  },
  {
   "cell_type": "code",
   "execution_count": 21,
   "id": "0ced7d39",
   "metadata": {},
   "outputs": [
    {
     "data": {
      "text/plain": [
       "(4449, 35)"
      ]
     },
     "execution_count": 21,
     "metadata": {},
     "output_type": "execute_result"
    }
   ],
   "source": [
    "df.shape"
   ]
  },
  {
   "cell_type": "code",
   "execution_count": 22,
   "id": "e7510f42",
   "metadata": {},
   "outputs": [
    {
     "data": {
      "text/plain": [
       "2286"
      ]
     },
     "execution_count": 22,
     "metadata": {},
     "output_type": "execute_result"
    }
   ],
   "source": [
    "df.duplicated(keep=False).sum()"
   ]
  },
  {
   "cell_type": "markdown",
   "id": "9a3ba3d4",
   "metadata": {},
   "source": [
    "Usuneliśmy trzy zdublikowane komulny, następnie komendą duplicated(keep=False).sum() sprawdzimiśmy, czy napewno wszystkie powtarzające dane zostały usunięte."
   ]
  },
  {
   "cell_type": "markdown",
   "id": "28dd6985",
   "metadata": {},
   "source": [
    "## Sprawdzamy braki w danych."
   ]
  },
  {
   "cell_type": "code",
   "execution_count": 23,
   "id": "b1368d79",
   "metadata": {},
   "outputs": [
    {
     "data": {
      "image/png": "[encoded data removed]",
      "text/plain": [
       "<Figure size 1080x576 with 1 Axes>"
      ]
     },
     "metadata": {
      "needs_background": "light"
     },
     "output_type": "display_data"
    }
   ],
   "source": [
    "plt.figure(figsize=(15, 8))\n",
    "\n",
    "sns.boxplot(data=df)\n",
    "\n",
    "plt.yscale('log')\n",
    "plt.xticks(rotation=90)\n",
    "plt.show()"
   ]
  },
  {
   "cell_type": "code",
   "execution_count": 24,
   "id": "1dbc3487",
   "metadata": {},
   "outputs": [
    {
     "name": "stdout",
     "output_type": "stream",
     "text": [
      "<class 'pandas.core.frame.DataFrame'>\n",
      "Int64Index: 4449 entries, 104 to 7979\n",
      "Data columns (total 35 columns):\n",
      " #   Column                    Non-Null Count  Dtype  \n",
      "---  ------                    --------------  -----  \n",
      " 0   Age                       4449 non-null   float64\n",
      " 1   BusinessTravel            4449 non-null   object \n",
      " 2   DailyRate                 4449 non-null   float64\n",
      " 3   Department                4449 non-null   object \n",
      " 4   DistanceFromHome          4449 non-null   float64\n",
      " 5   Education                 4449 non-null   float64\n",
      " 6   EducationField            4449 non-null   object \n",
      " 7   EmployeeCount             4449 non-null   float64\n",
      " 8   EnvironmentSatisfaction   4449 non-null   float64\n",
      " 9   Gender                    4449 non-null   object \n",
      " 10  HourlyRate                4449 non-null   float64\n",
      " 11  JobInvolvement            4449 non-null   float64\n",
      " 12  JobLevel                  4449 non-null   float64\n",
      " 13  JobRole                   4449 non-null   object \n",
      " 14  JobSatisfaction           4449 non-null   float64\n",
      " 15  MaritalStatus             4449 non-null   object \n",
      " 16  MonthlyIncome             4449 non-null   float64\n",
      " 17  MonthlyRate               4449 non-null   float64\n",
      " 18  NumCompaniesWorked        4449 non-null   float64\n",
      " 19  Over18                    4449 non-null   object \n",
      " 20  OverTime                  4449 non-null   object \n",
      " 21  PercentSalaryHike         4449 non-null   float64\n",
      " 22  PerformanceRating         4449 non-null   float64\n",
      " 23  RelationshipSatisfaction  4449 non-null   float64\n",
      " 24  StandardHours             4449 non-null   float64\n",
      " 25  StockOptionLevel          4449 non-null   float64\n",
      " 26  TotalWorkingYears         4449 non-null   float64\n",
      " 27  TrainingTimesLastYear     4449 non-null   float64\n",
      " 28  WorkLifeBalance           4449 non-null   float64\n",
      " 29  YearsAtCompany            4449 non-null   float64\n",
      " 30  YearsInCurrentRole        4449 non-null   float64\n",
      " 31  YearsSinceLastPromotion   4449 non-null   float64\n",
      " 32  YearsWithCurrManager      4449 non-null   float64\n",
      " 33  Attrition                 4449 non-null   object \n",
      " 34  YearlyIncome              4449 non-null   float64\n",
      "dtypes: float64(26), object(9)\n",
      "memory usage: 1.3+ MB\n"
     ]
    }
   ],
   "source": [
    "df.info()"
   ]
  },
  {
   "cell_type": "code",
   "execution_count": 25,
   "id": "75b5621e",
   "metadata": {},
   "outputs": [
    {
     "data": {
      "text/plain": [
       "Age                         0\n",
       "BusinessTravel              0\n",
       "DailyRate                   0\n",
       "Department                  0\n",
       "DistanceFromHome            0\n",
       "Education                   0\n",
       "EducationField              0\n",
       "EmployeeCount               0\n",
       "EnvironmentSatisfaction     0\n",
       "Gender                      0\n",
       "HourlyRate                  0\n",
       "JobInvolvement              0\n",
       "JobLevel                    0\n",
       "JobRole                     0\n",
       "JobSatisfaction             0\n",
       "MaritalStatus               0\n",
       "MonthlyIncome               0\n",
       "MonthlyRate                 0\n",
       "NumCompaniesWorked          0\n",
       "Over18                      0\n",
       "OverTime                    0\n",
       "PercentSalaryHike           0\n",
       "PerformanceRating           0\n",
       "RelationshipSatisfaction    0\n",
       "StandardHours               0\n",
       "StockOptionLevel            0\n",
       "TotalWorkingYears           0\n",
       "TrainingTimesLastYear       0\n",
       "WorkLifeBalance             0\n",
       "YearsAtCompany              0\n",
       "YearsInCurrentRole          0\n",
       "YearsSinceLastPromotion     0\n",
       "YearsWithCurrManager        0\n",
       "Attrition                   0\n",
       "YearlyIncome                0\n",
       "dtype: int64"
      ]
     },
     "execution_count": 25,
     "metadata": {},
     "output_type": "execute_result"
    }
   ],
   "source": [
    "df.isnull().sum()"
   ]
  },
  {
   "cell_type": "code",
   "execution_count": 26,
   "id": "860f64b2",
   "metadata": {},
   "outputs": [
    {
     "data": {
      "text/plain": [
       "array(['No', 'Yes'], dtype=object)"
      ]
     },
     "execution_count": 26,
     "metadata": {},
     "output_type": "execute_result"
    }
   ],
   "source": [
    "df['Attrition'].unique()"
   ]
  },
  {
   "cell_type": "code",
   "execution_count": 27,
   "id": "6a8fd1a5",
   "metadata": {},
   "outputs": [
    {
     "data": {
      "text/plain": [
       "array([  30.,   38.,   26.,   28.,   35.,   34.,   32.,   42.,   40.,\n",
       "         48.,   39.,   18.,   43.,   21.,   53.,   45.,   29.,   33.,\n",
       "         41.,   24.,   37.,   50.,   36.,   52.,   47.,   31.,   49.,\n",
       "         54.,   44.,   22.,   46.,   27.,   55.,   59.,   25.,   23.,\n",
       "         56.,   20.,   60.,   51.,   58.,   19.,   57., 8825., 3628.,\n",
       "       6287., 9330., 1107., 4454., 9155., 9890., 1189., 9195., 9014.,\n",
       "       1136., 5582., 2404., 1541., 4510., 4322., 4988., 8388., 2530.,\n",
       "       8901., 2852., 2459., 2982., 4973., 8534., 8314., 4130., 4328.,\n",
       "       7952., 8699., 3147., 8889., 3871., 9531., 8167., 5257., 8136.,\n",
       "       7390., 2993., 5672., 5933., 5614., 5007., 3095., 9219., 6749.,\n",
       "       4515., 6715., 1141., 8949., 3636., 4805., 5959., 9384., 8042.,\n",
       "       1423., 7056., 5116., 2667., 8703., 1126., 9612., 7845., 6998.,\n",
       "       1788., 6727., 5377., 5565., 4558., 6506., 4591., 7662., 6510.,\n",
       "       4985., 9581., 2095., 2275., 6399., 4935., 2698., 7617., 9661.,\n",
       "       4834., 2242., 1915., 3226., 7924., 9529., 8326., 1578., 8560.,\n",
       "       9078., 6429., 9243., 2186., 2888., 6210., 3388., 2423., 6025.,\n",
       "       1530., 7017., 4137., 5852., 4744., 7147., 7963., 2972., 5997.,\n",
       "       3626., 8744., 2637., 4880., 4330., 2641., 2882., 5215., 7015.,\n",
       "       8365., 6032., 5034., 2280., 4553., 3469., 8237., 8097., 3281.,\n",
       "       6703., 2012., 9866., 1775., 5402., 9159., 3437., 8823.])"
      ]
     },
     "execution_count": 27,
     "metadata": {},
     "output_type": "execute_result"
    }
   ],
   "source": [
    "df['Age'].unique()"
   ]
  },
  {
   "cell_type": "code",
   "execution_count": 28,
   "id": "4d1cb1dc",
   "metadata": {},
   "outputs": [
    {
     "data": {
      "text/plain": [
       "array(['Travel_Rarely', 'Travel_Frequently', 'Non-Travel'], dtype=object)"
      ]
     },
     "execution_count": 28,
     "metadata": {},
     "output_type": "execute_result"
    }
   ],
   "source": [
    "df['BusinessTravel'].unique()"
   ]
  },
  {
   "cell_type": "code",
   "execution_count": 29,
   "id": "2f025782",
   "metadata": {
    "scrolled": true
   },
   "outputs": [
    {
     "data": {
      "text/plain": [
       "array([ 852.,  397.,  841., 1117.,  464., 1107., 1018.,  269.,  296.,\n",
       "        989.,  855., 1181.,  895.,  827.,  977.,  544.,  244.,  995.,\n",
       "       1343., 1282.,  153.,  280.,  404., 1265.,  252., 1496.,  306.,\n",
       "        128.,  529.,  553.,  572.,  482.,  471.,  509.,  130.,  506.,\n",
       "        329.,  367., 1219.,  746., 1322.,  969., 1271., 1158.,  688.,\n",
       "        319.,  371., 1336.,  107.,  448.,  359.,  625., 1017.,  835.,\n",
       "       1050.,  523., 1064., 1128.,  928., 1319.,  932.,  809., 1376.,\n",
       "        253.,  336.,  884., 1385.,  945.,  118., 1231.,  426.,  737.,\n",
       "       1442.,  853.,  557.,  377.,  616., 1398., 1138.,  531.,  138.,\n",
       "       1377., 1240., 1400., 1001., 1082., 1171.,  136.,  218.,  452.,\n",
       "       1397., 1192.,  944.,  408., 1040., 1329., 1416., 1125., 1144.,\n",
       "        442., 1157.,  438.,  147.,  140.,  240.,  202., 1297.,  486.,\n",
       "       1146.,  150., 1404., 1206., 1172.,  771., 1167.,  441., 1141.,\n",
       "        715.,  891.,  282., 1425., 1371.,  170.,  650., 1212.,  638.,\n",
       "       1255., 1099., 1222.,  199.,  116., 1296., 1294.,  769.,  548.,\n",
       "        738.,  933.,  167., 1174.,  304.,  477.,  607.,  991., 1277.,\n",
       "        318., 1332.,  967.,  311., 1015.,  618.,  994., 1311.,  144.,\n",
       "       1055.,  530.,  330.,  508.,  593., 1242.,  430.,  718., 1349.,\n",
       "        663.,  696., 1303.,  970.,  573.,  678., 1221.,  924., 1456.,\n",
       "       1130., 1223.,  301.,  848.,  370., 1232., 1225., 1234.,  228.,\n",
       "        481.,  754., 1375.,  201.,  645., 1070.,  791.,  836., 1485.,\n",
       "       1339., 1379.,  267.,  355.,  376.,  334.,  516.,  641.,  763.,\n",
       "        185., 1356., 1153., 1480.,  316.,  705.,  427., 1094.,  264.,\n",
       "        560., 1441.,  168.,  216.,  431.,  867.,  735., 1142.,  556.,\n",
       "        192.,  119.,  247.,  248.,  129.,  630., 1252., 1300.,  604.,\n",
       "        289., 1420., 1041., 1112.,  897.,  111., 1413., 1355.,  833.,\n",
       "       1366.,  721.,  243.,  672., 1076.,  669., 1445.,  134., 1275.,\n",
       "        501.,  383.,  983., 1251.,  655.,  673.,  555., 1193.,  691.,\n",
       "       1091., 1448.,  369.,  310., 1402.,  662.,  781., 1380.,  703.,\n",
       "        591.,  806.,  458.,  342., 1333.,  263.,  845., 1358.,  141.,\n",
       "        883.,  542., 1370.,  428.,  566., 1313.,  279.,  217., 1431.,\n",
       "        390.,  142.,  574., 1434., 1467., 1009.,  447., 1258.,  571.,\n",
       "        163.,  906., 1421., 1354., 1302.,  406., 1199., 1382., 1259.,\n",
       "       1474., 1126., 1137.,  589., 1045.,  105.,  626.,  829., 1272.,\n",
       "        146.,  796.,  179.,  812., 1033.,  500., 1454., 1084.,  490.,\n",
       "       1127.,  345.,  258., 1378.,  697.,  682., 1092.,  971.,  699.,\n",
       "       1005., 1154.,  131.,  583.,  905.,  617., 1168., 1451.,  896.,\n",
       "       1236.,  189.,  750.,  224.,  636.,  504., 1179.,  343., 1361.,\n",
       "        534.,  869.,  285., 1162.,  195., 1443.,  322.,  878.,  621.,\n",
       "       1075., 1217., 1204.,  188.,  979.,  821.,  174., 1280.,  480.,\n",
       "       1449., 1182.,  437., 1429.,  676., 1274., 1079.,  277., 1089.,\n",
       "        256., 1238.,  783.,  391.,  661.,  613., 1029.,  976.,  605.,\n",
       "       1066.,  436., 1396.,  194.,  121.,  419.,  755.,  288.,  920.,\n",
       "        959.,  352.,  921., 1103.,  251., 1344., 1283.,  657., 1038.,\n",
       "        541.,  911.,  410.,  775.,  528.,  177.,  472., 1312.,  117.,\n",
       "        563.,  957.,  271.,  546.,  241.,  675.,  360., 1427.,  694.,\n",
       "       1309.,  172., 1411.,  964.,  470.,  722.,  628.,  155., 1054.,\n",
       "        182., 1463., 1440.,  871.,  337.,  692.,  465.,  693.,  654.,\n",
       "        443., 1353., 1405., 1131., 1459.,  309.,  422., 1134., 1085.,\n",
       "        587., 1342.,  413., 1218., 1452.,  109.,  575.,  440.,  507.,\n",
       "        164.,  433.,  469.,  592.,  601.,  415.,  294.,  986.,  611.,\n",
       "        894.,  581., 1357.,  832.,  299., 1276., 1462., 1120.,  788.,\n",
       "       1479.,  552.,  684., 1200.,  219., 1202.,  807., 1122., 1469.,\n",
       "       1188., 1351.,  950., 1093.,  286.,  535.,  254.,  786.,  956.,\n",
       "        790.,  804.,  559.,  713.,  205., 1490., 1243., 1210.,  882.,\n",
       "        723., 1105.,  879., 1136.,  954.,  200.,  466.,  350., 1053.,\n",
       "        489., 1291.,  594.,  685.,  840., 1389., 1305.,  913.,  373.,\n",
       "        585.,  862.,  652., 1034., 1320.,  203., 1063.,  106., 1334.,\n",
       "        265.,  635., 1097.,  603., 1115., 1194.,  702.,  154., 1475.,\n",
       "        210.,  708.,  711., 1306.,  792., 1180.,  379.,  505.,  982.,\n",
       "        949.,  931., 1207., 1216.,  644.,  938.,  741.,  303.,  887.,\n",
       "        392., 1492., 1470., 1327., 1062.,  332.,  922., 1246.,  325.,\n",
       "       1323.,  748., 1109.,  580.,  135., 1245.,  666.,  538., 1184.,\n",
       "        429.,  157.,  462.,  602.,  885.,  300., 1465.,  532.,  562.,\n",
       "        946.,  990.,  805., 1090.,  599.,  903.,  648.,  929., 1450.,\n",
       "        432.,  797.,  364.,  143.,  880.,  362.,  287.,  817.,  849.,\n",
       "        634.,  890.,  161., 1253., 1368., 1178.,  770.,  302., 1318.,\n",
       "       1023.,  152.,  160.,  665.,  930.,  868.,  268.,  943., 1150.,\n",
       "        966., 1069.,  598.,  180.,  266.,  992.,  793., 1108., 1387.,\n",
       "       1211.,  104.,  204., 1189.,  499.,  326.,  181.,  156., 1198.,\n",
       "        384.,  238.,  561.,  115.,  671., 1266.,  658., 1124., 1035.,\n",
       "        942.,  394., 1330.,  819.,  492.,  461.,  374.,  881.,  667.,\n",
       "        813.,  683.,  670.,  527.,  726.,  799.,  498.,  543.,  727.,\n",
       "       1230.,  307.,  866.,  230., 1031., 1239.,  801., 1365.,  176.,\n",
       "        125., 1214., 1288.,  457.,  996., 1495., 1476.,  478.,  999.,\n",
       "        196.,  608.,  902.,  558.,  444., 1229.,  145.,  586., 1372.,\n",
       "        600.,  916.,  917.,  736.,  640., 1488., 1176.,  395., 1337.,\n",
       "       1256., 1321., 1059., 1384.,  981.,  102., 1383.,  759.,  660.,\n",
       "        317., 1213.,  740., 1116.,  728., 1145., 1403., 1473., 1362.,\n",
       "       1278.,  549.,  756.,  439.,  536., 1315.,  720.,  629.,  889.,\n",
       "        588.,  974.,  622.,  830.,  734., 1151.,  211., 1195., 1482.,\n",
       "        810., 1030., 1395., 1457.,  313., 1010.,  328.,  706., 1086.,\n",
       "       1262.,  511.,  526., 1422., 1254.,  646.,  664., 1360.,  207.,\n",
       "        632.,  984.,  261.,  193., 1268., 1098., 1261.,  818.,  401.,\n",
       "        333., 1249.,  857., 1224.,  955.,  446., 1436., 1316.,  590.,\n",
       "       1418.,  567.,  802.,  249., 1410.,  290.,  704.,  305.,  525.,\n",
       "       1423.,  854.,  926.,  823., 1326., 1012., 1273.,  798., 1037.,\n",
       "       1065.,  479., 1186.,  988.,  953.,  234.,  468., 1046.,  653.,\n",
       "        341., 1247., 1269.,  824.,  619., 1287.,  782.,  937.,  120.,\n",
       "        232., 1123., 1308.,  132.,  859.,  968., 1003.,  483.,  495.,\n",
       "       1102.,  524., 1346.,  346., 1169., 1439., 1328.,  467., 1401.,\n",
       "        103.,  335., 1325.,  206.,  918.,  772., 1435.,  231.,  570.,\n",
       "       1052.,  496.,  314.,  405., 1444.,  474.,  414., 1498.,  412.,\n",
       "       1391.,  124., 1464., 1083.,  776., 1096.,  647., 1220.,  766.,\n",
       "        939., 1373.,  237.,  381.,  488.,  459., 1394., 1147., 1392.,\n",
       "        642.,  773.,  760., 1111.,  719., 1369.,  674.,  363., 1324.,\n",
       "        717.,  828., 1060., 1132.,  898.,  515.,  935., 1499.,  874.,\n",
       "        888., 1002.,  584., 1381.,  365.,  148.,  689.,  975.,  213.,\n",
       "       1299.,  725.,  208.,  582.])"
      ]
     },
     "execution_count": 29,
     "metadata": {},
     "output_type": "execute_result"
    }
   ],
   "source": [
    "df['DailyRate'].unique()"
   ]
  },
  {
   "cell_type": "code",
   "execution_count": 30,
   "id": "73a7b5d3",
   "metadata": {},
   "outputs": [
    {
     "data": {
      "text/plain": [
       "array(['Research & Development', 'Human Resources', 'Sales'], dtype=object)"
      ]
     },
     "execution_count": 30,
     "metadata": {},
     "output_type": "execute_result"
    }
   ],
   "source": [
    "df['Department'].unique()"
   ]
  },
  {
   "cell_type": "code",
   "execution_count": 31,
   "id": "5e792efe",
   "metadata": {},
   "outputs": [
    {
     "data": {
      "text/plain": [
       "array([1.00000e+00, 2.00000e+00, 6.00000e+00, 8.00000e+00, 4.00000e+00,\n",
       "       9.00000e+00, 3.00000e+00, 5.00000e+00, 2.20000e+01, 2.60000e+01,\n",
       "       1.00000e+01, 1.20000e+01, 7.00000e+00, 2.50000e+01, 2.90000e+01,\n",
       "       1.80000e+01, 2.40000e+01, 2.80000e+01, 1.60000e+01, 1.90000e+01,\n",
       "       1.30000e+01, 2.00000e+01, 1.10000e+01, 2.30000e+01, 2.10000e+01,\n",
       "       1.50000e+01, 1.40000e+01, 1.70000e+01, 2.70000e+01, 3.02984e+05,\n",
       "       6.29986e+05, 8.87003e+05, 9.18326e+05, 9.97422e+05, 8.52749e+05,\n",
       "       6.79106e+05, 3.04698e+05, 7.72706e+05, 2.59089e+05, 9.92947e+05,\n",
       "       2.53620e+05, 8.86117e+05, 8.60358e+05, 5.47308e+05, 1.93929e+05,\n",
       "       9.63929e+05, 8.09361e+05, 1.40916e+05, 8.25100e+05, 4.18093e+05,\n",
       "       7.16417e+05, 5.46730e+05, 2.42839e+05, 7.43173e+05, 1.50886e+05,\n",
       "       9.46786e+05, 6.07220e+05, 5.60047e+05, 8.40183e+05, 5.88585e+05,\n",
       "       4.79723e+05, 3.02239e+05, 9.99590e+05, 1.35607e+05, 3.27380e+05,\n",
       "       5.16738e+05, 3.80120e+05, 2.89540e+05, 4.70836e+05, 6.36415e+05,\n",
       "       1.47920e+05, 6.49517e+05, 6.88939e+05, 5.49089e+05, 9.33385e+05,\n",
       "       4.47546e+05, 7.82402e+05, 8.25855e+05, 4.10963e+05, 1.43454e+05,\n",
       "       6.67984e+05, 8.15600e+05, 3.32529e+05, 5.35366e+05, 6.92089e+05,\n",
       "       3.67120e+05, 2.66645e+05, 2.49717e+05, 1.67566e+05, 1.38023e+05,\n",
       "       5.53235e+05, 1.23628e+05, 1.02637e+05, 3.81469e+05, 2.64889e+05,\n",
       "       3.76075e+05, 2.74206e+05, 6.47087e+05, 2.29109e+05, 7.65855e+05,\n",
       "       9.75446e+05, 9.24937e+05, 9.34448e+05, 6.32834e+05, 4.21069e+05,\n",
       "       4.58858e+05, 2.98194e+05, 9.93161e+05, 6.86501e+05, 5.35160e+05,\n",
       "       1.61435e+05, 1.19377e+05, 2.79509e+05, 2.37547e+05, 5.89265e+05,\n",
       "       2.70050e+05, 3.03600e+05, 8.95533e+05, 9.71787e+05, 2.15000e+05,\n",
       "       5.85976e+05, 2.04179e+05, 6.78387e+05, 4.82211e+05, 7.55441e+05,\n",
       "       7.10269e+05, 2.20024e+05, 5.06379e+05, 8.53938e+05, 9.32144e+05,\n",
       "       9.68203e+05, 2.77125e+05, 5.36402e+05, 3.39434e+05, 1.02583e+05,\n",
       "       1.87830e+05, 5.88809e+05, 4.49359e+05, 6.25879e+05, 3.91908e+05,\n",
       "       6.33867e+05, 4.54423e+05, 7.40696e+05, 5.60263e+05, 7.33295e+05,\n",
       "       3.08024e+05, 8.12485e+05, 7.07484e+05, 4.77232e+05, 7.92796e+05,\n",
       "       4.11835e+05, 2.49810e+05, 3.23510e+05, 8.83970e+05, 3.22329e+05,\n",
       "       4.90741e+05, 6.64579e+05, 9.18785e+05])"
      ]
     },
     "execution_count": 31,
     "metadata": {},
     "output_type": "execute_result"
    }
   ],
   "source": [
    "df['DistanceFromHome'].unique()"
   ]
  },
  {
   "cell_type": "code",
   "execution_count": 32,
   "id": "4cb79ad9",
   "metadata": {},
   "outputs": [
    {
     "data": {
      "text/plain": [
       "array([1., 2., 3., 4., 5.])"
      ]
     },
     "execution_count": 32,
     "metadata": {},
     "output_type": "execute_result"
    }
   ],
   "source": [
    "df['Education'].unique()"
   ]
  },
  {
   "cell_type": "code",
   "execution_count": 33,
   "id": "adc8d70c",
   "metadata": {},
   "outputs": [
    {
     "data": {
      "text/plain": [
       "array(['Life Sciences', 'Medical', 'Other', 'Technical Degree',\n",
       "       'Marketing', 'Human Resources'], dtype=object)"
      ]
     },
     "execution_count": 33,
     "metadata": {},
     "output_type": "execute_result"
    }
   ],
   "source": [
    "df['EducationField'].unique()"
   ]
  },
  {
   "cell_type": "code",
   "execution_count": 34,
   "id": "9bb53cb4",
   "metadata": {},
   "outputs": [
    {
     "data": {
      "text/plain": [
       "array([1.])"
      ]
     },
     "execution_count": 34,
     "metadata": {},
     "output_type": "execute_result"
    }
   ],
   "source": [
    "df['EmployeeCount'].unique()"
   ]
  },
  {
   "cell_type": "code",
   "execution_count": 35,
   "id": "8ee7bce5",
   "metadata": {},
   "outputs": [
    {
     "data": {
      "text/plain": [
       "array([4., 3., 1., 2.])"
      ]
     },
     "execution_count": 35,
     "metadata": {},
     "output_type": "execute_result"
    }
   ],
   "source": [
    "df['EnvironmentSatisfaction'].unique()"
   ]
  },
  {
   "cell_type": "code",
   "execution_count": 36,
   "id": "61fa353f",
   "metadata": {},
   "outputs": [
    {
     "data": {
      "text/plain": [
       "array(['Male', 'Female'], dtype=object)"
      ]
     },
     "execution_count": 36,
     "metadata": {},
     "output_type": "execute_result"
    }
   ],
   "source": [
    "df['Gender'].unique()"
   ]
  },
  {
   "cell_type": "code",
   "execution_count": 37,
   "id": "90631458",
   "metadata": {},
   "outputs": [
    {
     "data": {
      "text/plain": [
       "array([ 55.,  54.,  46.,  66.,  75.,  52.,  39.,  56.,  33.,  82.,  45.,\n",
       "        70.,  97.,  77.,  40.,  49.,  58.,  73.,  43.,  98.,  95.,  41.,\n",
       "       100.,  84.,  79.,  74.,  90.,  96.,  91.,  32.,  88.,  86.,  76.,\n",
       "        35.,  94.,  83.,  65.,  42.,  31.,  51.,  36.,  80.,  69.,  99.,\n",
       "        48.,  89.,  81.,  61.,  92.,  59.,  44.,  47.,  53.,  34.,  60.,\n",
       "        78.,  30.,  68.,  37.,  87.,  50.,  63.,  72.,  38.,  71.,  64.,\n",
       "        85.,  57.,  67.,  62.,  93.])"
      ]
     },
     "execution_count": 37,
     "metadata": {},
     "output_type": "execute_result"
    }
   ],
   "source": [
    "df['HourlyRate'].unique()"
   ]
  },
  {
   "cell_type": "code",
   "execution_count": 38,
   "id": "6cbd5039",
   "metadata": {},
   "outputs": [
    {
     "data": {
      "text/plain": [
       "array([2., 3., 1., 4.])"
      ]
     },
     "execution_count": 38,
     "metadata": {},
     "output_type": "execute_result"
    }
   ],
   "source": [
    "df['JobInvolvement'].unique()"
   ]
  },
  {
   "cell_type": "code",
   "execution_count": 39,
   "id": "2cfa029b",
   "metadata": {},
   "outputs": [
    {
     "data": {
      "text/plain": [
       "array([2., 3., 1., 5., 4.])"
      ]
     },
     "execution_count": 39,
     "metadata": {},
     "output_type": "execute_result"
    }
   ],
   "source": [
    "df['JobLevel'].unique()"
   ]
  },
  {
   "cell_type": "code",
   "execution_count": 40,
   "id": "745a6e8f",
   "metadata": {},
   "outputs": [
    {
     "data": {
      "text/plain": [
       "array(['Laboratory Technician', 'Manufacturing Director',\n",
       "       'Research Scientist', 'Human Resources', 'Research Director',\n",
       "       'Sales Representative', 'Manager', 'Healthcare Representative',\n",
       "       'Sales Executive'], dtype=object)"
      ]
     },
     "execution_count": 40,
     "metadata": {},
     "output_type": "execute_result"
    }
   ],
   "source": [
    "df['JobRole'].unique()"
   ]
  },
  {
   "cell_type": "code",
   "execution_count": 41,
   "id": "9b1186b1",
   "metadata": {},
   "outputs": [
    {
     "data": {
      "text/plain": [
       "array([4., 3., 2., 1.])"
      ]
     },
     "execution_count": 41,
     "metadata": {},
     "output_type": "execute_result"
    }
   ],
   "source": [
    "df['JobSatisfaction'].unique()"
   ]
  },
  {
   "cell_type": "code",
   "execution_count": 42,
   "id": "718061d6",
   "metadata": {},
   "outputs": [
    {
     "data": {
      "text/plain": [
       "array(['Married', 'Single', 'Divorced'], dtype=object)"
      ]
     },
     "execution_count": 42,
     "metadata": {},
     "output_type": "execute_result"
    }
   ],
   "source": [
    "df['MaritalStatus'].unique()"
   ]
  },
  {
   "cell_type": "code",
   "execution_count": 43,
   "id": "4508fa03",
   "metadata": {},
   "outputs": [
    {
     "data": {
      "text/plain": [
       "array([ 5126.,  7756.,  2368., ..., 13348.,  7978.,  3708.])"
      ]
     },
     "execution_count": 43,
     "metadata": {},
     "output_type": "execute_result"
    }
   ],
   "source": [
    "df['MonthlyIncome'].unique()"
   ]
  },
  {
   "cell_type": "code",
   "execution_count": 44,
   "id": "a8c611f3",
   "metadata": {},
   "outputs": [
    {
     "data": {
      "text/plain": [
       "array([15998., 14199., 23300., ..., 14842., 14075.,  2104.])"
      ]
     },
     "execution_count": 44,
     "metadata": {},
     "output_type": "execute_result"
    }
   ],
   "source": [
    "df['MonthlyRate'].unique()"
   ]
  },
  {
   "cell_type": "code",
   "execution_count": 45,
   "id": "4eb193f1",
   "metadata": {},
   "outputs": [
    {
     "data": {
      "text/plain": [
       "array([1., 3., 0., 5., 9., 4., 2., 6., 7., 8.])"
      ]
     },
     "execution_count": 45,
     "metadata": {},
     "output_type": "execute_result"
    }
   ],
   "source": [
    "df['NumCompaniesWorked'].unique()"
   ]
  },
  {
   "cell_type": "code",
   "execution_count": 46,
   "id": "d1d4050a",
   "metadata": {},
   "outputs": [
    {
     "data": {
      "text/plain": [
       "array(['Y'], dtype=object)"
      ]
     },
     "execution_count": 46,
     "metadata": {},
     "output_type": "execute_result"
    }
   ],
   "source": [
    "df['Over18'].unique()"
   ]
  },
  {
   "cell_type": "code",
   "execution_count": 47,
   "id": "0c10ec66",
   "metadata": {},
   "outputs": [
    {
     "data": {
      "text/plain": [
       "array(['Yes', 'No'], dtype=object)"
      ]
     },
     "execution_count": 47,
     "metadata": {},
     "output_type": "execute_result"
    }
   ],
   "source": [
    "df['OverTime'].unique()"
   ]
  },
  {
   "cell_type": "code",
   "execution_count": 48,
   "id": "3853fba1",
   "metadata": {},
   "outputs": [
    {
     "data": {
      "text/plain": [
       "array([12., 19., 21., 15., 11., 16., 14., 13., 18., 23., 22., 17., 20.,\n",
       "       25., 24.])"
      ]
     },
     "execution_count": 48,
     "metadata": {},
     "output_type": "execute_result"
    }
   ],
   "source": [
    "df['PercentSalaryHike'].unique()"
   ]
  },
  {
   "cell_type": "code",
   "execution_count": 49,
   "id": "9b5060b4",
   "metadata": {},
   "outputs": [
    {
     "data": {
      "text/plain": [
       "array([3., 4.])"
      ]
     },
     "execution_count": 49,
     "metadata": {},
     "output_type": "execute_result"
    }
   ],
   "source": [
    "df['PerformanceRating'].unique()"
   ]
  },
  {
   "cell_type": "code",
   "execution_count": 50,
   "id": "09a21b30",
   "metadata": {},
   "outputs": [
    {
     "data": {
      "text/plain": [
       "array([3., 4., 2., 1.])"
      ]
     },
     "execution_count": 50,
     "metadata": {},
     "output_type": "execute_result"
    }
   ],
   "source": [
    "df['RelationshipSatisfaction'].unique()"
   ]
  },
  {
   "cell_type": "code",
   "execution_count": 51,
   "id": "37ca3f01",
   "metadata": {},
   "outputs": [
    {
     "data": {
      "text/plain": [
       "array([80.])"
      ]
     },
     "execution_count": 51,
     "metadata": {},
     "output_type": "execute_result"
    }
   ],
   "source": [
    "df['StandardHours'].unique()"
   ]
  },
  {
   "cell_type": "code",
   "execution_count": 52,
   "id": "d83b995e",
   "metadata": {},
   "outputs": [
    {
     "data": {
      "text/plain": [
       "array([2., 1., 0., 3.])"
      ]
     },
     "execution_count": 52,
     "metadata": {},
     "output_type": "execute_result"
    }
   ],
   "source": [
    "df['StockOptionLevel'].unique()"
   ]
  },
  {
   "cell_type": "code",
   "execution_count": 53,
   "id": "ca4fbf42",
   "metadata": {},
   "outputs": [
    {
     "data": {
      "text/plain": [
       "array([1.000e+01, 5.000e+00, 1.000e+00, 2.000e+00, 3.000e+00, 2.100e+01,\n",
       "       1.100e+01, 1.900e+01, 0.000e+00, 6.000e+00, 2.600e+01, 9.000e+00,\n",
       "       1.400e+01, 1.700e+01, 2.500e+01, 1.200e+01, 1.300e+01, 7.000e+00,\n",
       "       8.000e+00, 1.800e+01, 2.800e+01, 1.500e+01, 2.000e+01, 2.300e+01,\n",
       "       2.400e+01, 1.600e+01, 3.700e+01, 2.200e+01, 4.000e+00, 3.000e+01,\n",
       "       3.200e+01, 3.100e+01, 2.700e+01, 2.900e+01, 3.500e+01, 3.800e+01,\n",
       "       3.400e+01, 4.000e+01, 3.600e+01, 3.300e+01, 6.618e+03, 3.808e+03,\n",
       "       2.764e+03, 4.370e+03, 1.086e+03, 5.377e+03, 8.821e+03, 9.536e+03,\n",
       "       1.822e+03, 4.740e+03, 3.625e+03, 8.183e+03, 8.890e+03, 9.670e+03,\n",
       "       9.815e+03, 4.506e+03, 1.442e+03, 4.031e+03, 4.196e+03, 2.450e+03,\n",
       "       6.907e+03, 8.095e+03, 4.409e+03, 5.482e+03, 9.714e+03, 8.746e+03,\n",
       "       7.825e+03, 6.463e+03, 1.123e+03, 2.194e+03, 4.607e+03, 7.635e+03,\n",
       "       9.501e+03, 8.270e+03, 5.787e+03, 4.958e+03, 3.077e+03, 8.575e+03,\n",
       "       2.270e+03, 4.176e+03, 1.143e+03, 5.257e+03, 6.100e+03, 8.929e+03,\n",
       "       7.173e+03, 9.311e+03, 5.407e+03, 3.201e+03, 2.230e+03, 7.349e+03,\n",
       "       2.651e+03, 6.666e+03, 2.976e+03, 4.969e+03, 1.953e+03, 6.345e+03,\n",
       "       8.311e+03, 6.990e+03, 6.502e+03, 8.583e+03, 4.640e+03, 4.132e+03,\n",
       "       9.939e+03, 5.789e+03, 2.027e+03, 7.864e+03, 4.795e+03, 8.062e+03,\n",
       "       6.456e+03, 9.905e+03, 9.781e+03, 6.563e+03, 9.198e+03, 3.778e+03,\n",
       "       5.772e+03, 9.626e+03, 3.360e+03, 3.089e+03, 5.629e+03, 5.742e+03,\n",
       "       2.730e+03, 5.463e+03, 1.337e+03, 9.495e+03, 2.091e+03, 8.052e+03,\n",
       "       5.670e+03, 6.606e+03, 5.002e+03, 8.888e+03, 9.327e+03, 8.323e+03,\n",
       "       8.622e+03, 1.735e+03, 6.314e+03, 6.566e+03, 8.957e+03, 8.334e+03,\n",
       "       7.843e+03, 5.676e+03, 2.041e+03, 5.505e+03, 3.311e+03, 8.665e+03,\n",
       "       2.820e+03, 2.352e+03, 9.794e+03, 4.264e+03, 7.053e+03, 5.644e+03,\n",
       "       6.652e+03, 6.167e+03, 4.694e+03, 2.300e+03, 1.016e+03, 7.267e+03,\n",
       "       7.515e+03, 1.758e+03, 7.680e+03, 3.417e+03, 3.206e+03, 7.089e+03,\n",
       "       7.762e+03, 5.649e+03, 9.606e+03, 2.439e+03, 2.604e+03, 9.432e+03,\n",
       "       7.223e+03, 8.104e+03, 3.879e+03, 1.220e+03])"
      ]
     },
     "execution_count": 53,
     "metadata": {},
     "output_type": "execute_result"
    }
   ],
   "source": [
    "df['TotalWorkingYears'].unique()"
   ]
  },
  {
   "cell_type": "code",
   "execution_count": 54,
   "id": "ae6493e9",
   "metadata": {},
   "outputs": [
    {
     "data": {
      "text/plain": [
       "array([1., 6., 3., 0., 4., 2., 5.])"
      ]
     },
     "execution_count": 54,
     "metadata": {},
     "output_type": "execute_result"
    }
   ],
   "source": [
    "df['TrainingTimesLastYear'].unique()"
   ]
  },
  {
   "cell_type": "code",
   "execution_count": 55,
   "id": "07c30468",
   "metadata": {},
   "outputs": [
    {
     "data": {
      "text/plain": [
       "array([2., 4., 3., 1.])"
      ]
     },
     "execution_count": 55,
     "metadata": {},
     "output_type": "execute_result"
    }
   ],
   "source": [
    "df['WorkLifeBalance'].unique()"
   ]
  },
  {
   "cell_type": "code",
   "execution_count": 56,
   "id": "4040f60e",
   "metadata": {},
   "outputs": [
    {
     "data": {
      "text/plain": [
       "array([1.000e+01, 5.000e+00, 1.000e+00, 2.000e+00, 7.000e+00, 9.000e+00,\n",
       "       2.000e+01, 0.000e+00, 3.000e+00, 1.400e+01, 8.000e+00, 2.400e+01,\n",
       "       6.000e+00, 4.000e+00, 1.100e+01, 1.500e+01, 1.300e+01, 2.100e+01,\n",
       "       3.600e+01, 2.600e+01, 1.900e+01, 1.600e+01, 2.200e+01, 1.800e+01,\n",
       "       2.500e+01, 1.700e+01, 1.200e+01, 3.700e+01, 3.300e+01, 4.000e+01,\n",
       "       3.400e+01, 2.300e+01, 2.900e+01, 3.100e+01, 3.200e+01, 2.700e+01,\n",
       "       3.000e+01, 5.078e+03, 7.345e+03, 3.079e+03, 2.332e+03, 1.761e+03,\n",
       "       1.378e+03, 8.870e+03, 4.879e+03, 9.445e+03, 2.265e+03, 5.801e+03,\n",
       "       8.553e+03, 3.761e+03, 2.051e+03, 7.735e+03, 2.506e+03, 9.066e+03,\n",
       "       3.335e+03, 1.621e+03, 8.120e+03, 3.743e+03, 9.681e+03, 6.797e+03,\n",
       "       3.707e+03, 7.547e+03, 6.133e+03, 3.177e+03, 3.549e+03, 8.717e+03,\n",
       "       1.036e+03, 9.508e+03, 1.488e+03, 5.359e+03, 2.744e+03, 5.581e+03,\n",
       "       9.676e+03, 1.286e+03, 5.904e+03, 1.872e+03, 4.763e+03, 7.324e+03,\n",
       "       6.140e+03, 3.687e+03, 1.420e+03, 9.767e+03, 3.507e+03, 6.524e+03,\n",
       "       5.096e+03, 6.225e+03, 7.747e+03, 5.066e+03, 9.984e+03, 5.132e+03,\n",
       "       5.706e+03, 3.231e+03, 2.659e+03, 5.506e+03, 8.867e+03, 8.875e+03,\n",
       "       3.912e+03, 1.625e+03, 9.577e+03, 3.584e+03, 9.352e+03, 5.150e+03,\n",
       "       6.253e+03, 1.646e+03, 8.862e+03, 2.516e+03, 3.126e+03, 4.604e+03,\n",
       "       5.276e+03, 6.040e+03, 3.074e+03, 7.335e+03, 4.706e+03, 3.645e+03,\n",
       "       2.987e+03, 3.190e+03, 3.202e+03, 1.295e+03, 5.368e+03, 1.282e+03,\n",
       "       2.925e+03, 2.203e+03, 2.785e+03, 1.375e+03, 3.734e+03, 1.564e+03,\n",
       "       8.543e+03, 5.736e+03, 7.366e+03, 4.014e+03, 9.481e+03, 5.512e+03,\n",
       "       1.239e+03, 2.072e+03, 3.132e+03, 8.179e+03, 5.209e+03, 8.298e+03,\n",
       "       1.184e+03, 2.809e+03, 2.551e+03, 3.655e+03, 9.196e+03, 6.834e+03,\n",
       "       7.337e+03, 6.705e+03, 2.041e+03, 1.977e+03, 6.103e+03, 3.812e+03,\n",
       "       4.783e+03, 9.505e+03, 5.765e+03, 5.888e+03, 7.338e+03, 8.976e+03,\n",
       "       7.217e+03, 3.649e+03, 4.369e+03, 4.198e+03, 8.039e+03, 1.344e+03,\n",
       "       8.890e+03, 8.110e+03, 6.144e+03, 3.927e+03])"
      ]
     },
     "execution_count": 56,
     "metadata": {},
     "output_type": "execute_result"
    }
   ],
   "source": [
    "df['YearsAtCompany'].unique()"
   ]
  },
  {
   "cell_type": "code",
   "execution_count": 57,
   "id": "fe39c03a",
   "metadata": {},
   "outputs": [
    {
     "data": {
      "text/plain": [
       "array([8.000e+00, 4.000e+00, 3.000e+00, 0.000e+00, 2.000e+00, 7.000e+00,\n",
       "       6.000e+00, 9.000e+00, 5.000e+00, 1.300e+01, 1.100e+01, 1.000e+00,\n",
       "       1.000e+01, 1.700e+01, 1.200e+01, 1.500e+01, 1.400e+01, 1.600e+01,\n",
       "       1.800e+01, 3.099e+03, 3.591e+03, 6.908e+03, 1.099e+03, 3.814e+03,\n",
       "       6.651e+03, 4.218e+03, 1.179e+03, 4.230e+03, 9.454e+03, 5.438e+03,\n",
       "       2.975e+03, 4.252e+03, 2.939e+03, 9.459e+03, 9.420e+03, 4.139e+03,\n",
       "       8.200e+03, 2.100e+03, 4.858e+03, 6.364e+03, 8.251e+03, 4.925e+03,\n",
       "       3.723e+03, 4.194e+03, 4.323e+03, 4.558e+03, 1.858e+03, 7.125e+03,\n",
       "       4.435e+03, 8.935e+03, 4.986e+03, 9.107e+03, 7.137e+03, 4.656e+03,\n",
       "       2.515e+03, 7.635e+03, 4.461e+03, 7.908e+03, 5.735e+03, 8.835e+03,\n",
       "       1.797e+03, 4.137e+03, 9.193e+03, 6.691e+03, 9.596e+03, 7.077e+03,\n",
       "       1.191e+03, 4.174e+03, 4.713e+03, 3.606e+03, 5.335e+03, 9.822e+03,\n",
       "       7.420e+03, 2.816e+03, 7.866e+03, 3.509e+03, 2.360e+03, 2.514e+03,\n",
       "       4.376e+03, 7.320e+03, 3.443e+03, 3.453e+03, 3.978e+03, 8.619e+03,\n",
       "       6.081e+03, 6.378e+03, 1.190e+03, 7.925e+03, 5.834e+03, 6.862e+03,\n",
       "       6.131e+03, 3.235e+03, 6.430e+03, 2.470e+03, 8.497e+03, 9.038e+03,\n",
       "       4.362e+03, 1.810e+03, 3.364e+03, 7.606e+03, 3.683e+03, 6.188e+03,\n",
       "       5.203e+03, 6.421e+03, 9.395e+03, 2.647e+03, 2.825e+03, 9.551e+03,\n",
       "       7.664e+03, 6.169e+03, 7.105e+03, 3.802e+03, 5.274e+03, 4.551e+03,\n",
       "       9.120e+03, 3.033e+03, 3.015e+03, 1.615e+03, 6.784e+03, 1.009e+03,\n",
       "       8.222e+03, 8.058e+03, 1.584e+03, 1.924e+03, 9.217e+03, 7.484e+03,\n",
       "       3.121e+03, 2.582e+03, 6.387e+03, 4.212e+03, 8.090e+03, 6.246e+03,\n",
       "       8.807e+03, 6.180e+03, 9.937e+03, 2.848e+03, 1.335e+03, 8.102e+03,\n",
       "       5.841e+03, 2.979e+03, 1.838e+03, 6.415e+03, 6.048e+03, 1.602e+03,\n",
       "       6.001e+03, 2.931e+03, 1.732e+03, 5.181e+03, 9.053e+03, 4.623e+03,\n",
       "       2.868e+03, 7.822e+03, 2.596e+03, 3.726e+03, 7.395e+03, 7.392e+03,\n",
       "       1.404e+03, 2.822e+03, 2.112e+03, 5.637e+03, 1.995e+03, 8.020e+03,\n",
       "       6.755e+03, 3.797e+03])"
      ]
     },
     "execution_count": 57,
     "metadata": {},
     "output_type": "execute_result"
    }
   ],
   "source": [
    "df['YearsInCurrentRole'].unique()"
   ]
  },
  {
   "cell_type": "code",
   "execution_count": 58,
   "id": "4e631229",
   "metadata": {},
   "outputs": [
    {
     "data": {
      "text/plain": [
       "array([3.000e+00, 0.000e+00, 4.000e+00, 2.000e+00, 7.000e+00, 1.000e+00,\n",
       "       9.000e+00, 8.000e+00, 5.000e+00, 1.100e+01, 6.000e+00, 1.500e+01,\n",
       "       1.200e+01, 1.300e+01, 1.400e+01, 1.000e+01, 8.080e+03, 3.720e+03,\n",
       "       7.291e+03, 6.920e+03, 8.467e+03, 9.420e+03, 3.246e+03, 8.913e+03,\n",
       "       9.952e+03, 8.550e+03, 7.997e+03, 8.534e+03, 6.773e+03, 4.940e+03,\n",
       "       1.973e+03, 6.763e+03, 8.021e+03, 5.738e+03, 5.291e+03, 1.094e+03,\n",
       "       3.771e+03, 4.958e+03, 8.890e+03, 8.538e+03, 3.982e+03, 2.153e+03,\n",
       "       6.279e+03, 7.240e+03, 4.204e+03, 5.392e+03, 3.486e+03, 3.742e+03,\n",
       "       6.401e+03, 2.166e+03, 8.312e+03, 5.994e+03, 5.894e+03, 2.293e+03,\n",
       "       6.747e+03, 7.989e+03, 4.200e+03, 2.754e+03, 8.922e+03, 4.370e+03,\n",
       "       9.389e+03, 4.704e+03, 1.201e+03, 3.777e+03, 1.815e+03, 4.382e+03,\n",
       "       2.576e+03, 2.475e+03, 6.551e+03, 9.509e+03, 5.284e+03, 5.292e+03,\n",
       "       9.990e+03, 6.003e+03, 4.575e+03, 5.649e+03, 2.081e+03, 7.609e+03,\n",
       "       9.572e+03, 5.308e+03, 5.383e+03, 1.058e+03, 5.165e+03, 7.897e+03,\n",
       "       3.832e+03, 9.595e+03, 4.763e+03, 4.071e+03, 2.723e+03, 7.868e+03,\n",
       "       4.619e+03, 5.391e+03, 4.885e+03, 3.884e+03, 5.431e+03, 3.089e+03,\n",
       "       8.515e+03, 5.266e+03, 6.440e+03, 6.350e+03, 6.968e+03, 1.639e+03,\n",
       "       7.859e+03, 7.427e+03, 2.922e+03, 2.282e+03, 8.966e+03, 9.175e+03,\n",
       "       4.409e+03, 5.346e+03, 8.213e+03, 2.025e+03, 2.789e+03, 5.151e+03,\n",
       "       8.053e+03, 6.233e+03, 8.113e+03, 3.057e+03, 4.094e+03, 8.650e+03,\n",
       "       6.305e+03, 4.434e+03, 9.624e+03, 7.137e+03, 8.853e+03, 4.547e+03,\n",
       "       6.767e+03, 7.056e+03, 6.847e+03, 2.743e+03, 5.881e+03, 7.659e+03,\n",
       "       4.468e+03, 8.366e+03, 6.196e+03, 9.373e+03, 7.521e+03, 8.652e+03,\n",
       "       5.957e+03, 6.881e+03, 9.041e+03, 7.322e+03, 2.079e+03, 4.098e+03,\n",
       "       8.932e+03, 9.885e+03, 8.810e+03, 3.082e+03, 7.816e+03, 2.745e+03,\n",
       "       4.586e+03, 7.403e+03, 2.778e+03])"
      ]
     },
     "execution_count": 58,
     "metadata": {},
     "output_type": "execute_result"
    }
   ],
   "source": [
    "df['YearsSinceLastPromotion'].unique()"
   ]
  },
  {
   "cell_type": "code",
   "execution_count": 59,
   "id": "e4d04a04",
   "metadata": {},
   "outputs": [
    {
     "data": {
      "text/plain": [
       "array([0.000e+00, 2.000e+00, 3.000e+00, 7.000e+00, 8.000e+00, 9.000e+00,\n",
       "       6.000e+00, 1.100e+01, 4.000e+00, 1.200e+01, 5.000e+00, 1.000e+01,\n",
       "       1.700e+01, 1.000e+00, 1.300e+01, 1.400e+01, 1.600e+01, 1.500e+01,\n",
       "       1.798e+03, 9.404e+03, 4.163e+03, 2.411e+03, 1.947e+03, 5.987e+03,\n",
       "       9.201e+03, 5.346e+03, 2.106e+03, 8.731e+03, 1.759e+03, 2.736e+03,\n",
       "       2.181e+03, 7.012e+03, 6.277e+03, 7.405e+03, 2.101e+03, 3.908e+03,\n",
       "       1.781e+03, 2.883e+03, 4.389e+03, 7.032e+03, 2.811e+03, 5.256e+03,\n",
       "       6.162e+03, 5.242e+03, 3.922e+03, 5.168e+03, 8.672e+03, 9.717e+03,\n",
       "       6.129e+03, 5.048e+03, 3.434e+03, 2.879e+03, 9.333e+03, 2.892e+03,\n",
       "       4.528e+03, 7.876e+03, 2.702e+03, 6.788e+03, 1.077e+03, 2.428e+03,\n",
       "       5.233e+03, 8.457e+03, 9.709e+03, 3.546e+03, 9.321e+03, 5.326e+03,\n",
       "       2.333e+03, 9.882e+03, 2.564e+03, 1.910e+03, 4.869e+03, 2.480e+03,\n",
       "       8.393e+03, 4.404e+03, 6.426e+03, 8.841e+03, 7.091e+03, 4.220e+03,\n",
       "       1.540e+03, 6.691e+03, 7.781e+03, 4.321e+03, 2.220e+03, 4.326e+03,\n",
       "       4.212e+03, 6.700e+03, 9.147e+03, 8.932e+03, 9.382e+03, 2.962e+03,\n",
       "       7.386e+03, 6.873e+03, 7.230e+03, 3.097e+03, 5.198e+03, 9.734e+03,\n",
       "       6.480e+03, 1.982e+03, 8.712e+03, 4.811e+03, 9.772e+03, 4.210e+03,\n",
       "       6.606e+03, 1.948e+03, 1.142e+03, 2.460e+03, 5.869e+03, 1.643e+03,\n",
       "       1.067e+03, 3.385e+03, 5.941e+03, 3.193e+03, 5.707e+03, 1.691e+03,\n",
       "       4.760e+03, 5.136e+03, 3.876e+03, 4.911e+03, 8.954e+03, 4.456e+03,\n",
       "       7.971e+03, 8.170e+03, 1.914e+03, 7.729e+03, 5.905e+03, 7.420e+03,\n",
       "       1.845e+03, 5.747e+03, 6.349e+03, 6.432e+03, 9.414e+03, 5.885e+03,\n",
       "       1.913e+03, 2.728e+03, 3.217e+03, 7.779e+03, 1.898e+03, 9.207e+03,\n",
       "       6.654e+03, 3.596e+03, 4.134e+03, 9.582e+03, 5.403e+03, 1.929e+03,\n",
       "       7.553e+03, 5.867e+03, 6.746e+03, 9.133e+03, 9.202e+03, 7.518e+03,\n",
       "       6.754e+03, 4.249e+03, 8.195e+03, 5.651e+03, 4.738e+03, 5.948e+03,\n",
       "       6.683e+03])"
      ]
     },
     "execution_count": 59,
     "metadata": {},
     "output_type": "execute_result"
    }
   ],
   "source": [
    "df['YearsWithCurrManager'].unique()"
   ]
  },
  {
   "cell_type": "code",
   "execution_count": 60,
   "id": "4b6a0210",
   "metadata": {},
   "outputs": [
    {
     "data": {
      "text/plain": [
       "array(['No', 'Yes'], dtype=object)"
      ]
     },
     "execution_count": 60,
     "metadata": {},
     "output_type": "execute_result"
    }
   ],
   "source": [
    "df['Attrition'].unique()"
   ]
  },
  {
   "cell_type": "code",
   "execution_count": 61,
   "id": "c2490260",
   "metadata": {},
   "outputs": [
    {
     "data": {
      "text/plain": [
       "array([ 61512.,  93072.,  28416., ..., 160176.,  95736.,  44496.])"
      ]
     },
     "execution_count": 61,
     "metadata": {},
     "output_type": "execute_result"
    }
   ],
   "source": [
    "df['YearlyIncome'].unique()"
   ]
  },
  {
   "cell_type": "markdown",
   "id": "8be23d5a",
   "metadata": {},
   "source": [
    "## Usuwanie absurdalnych wartości odstajacych."
   ]
  },
  {
   "cell_type": "markdown",
   "id": "62b1be22",
   "metadata": {},
   "source": [
    "Usuwanie wartości odstających dla wieku."
   ]
  },
  {
   "cell_type": "code",
   "execution_count": 62,
   "id": "e26fc395",
   "metadata": {
    "scrolled": true
   },
   "outputs": [],
   "source": [
    "df['Age'] = df['Age'].apply(lambda x: np.nan if float(x)>100 else float(x))"
   ]
  },
  {
   "cell_type": "code",
   "execution_count": 63,
   "id": "76b7af85",
   "metadata": {},
   "outputs": [
    {
     "data": {
      "text/plain": [
       "array([30., 38., 26., 28., 35., 34., 32., 42., 40., 48., 39., 18., 43.,\n",
       "       21., 53., 45., 29., 33., 41., 24., 37., 50., 36., 52., 47., 31.,\n",
       "       49., 54., 44., 22., 46., 27., 55., 59., 25., 23., 56., 20., 60.,\n",
       "       51., 58., 19., 57., nan])"
      ]
     },
     "execution_count": 63,
     "metadata": {},
     "output_type": "execute_result"
    }
   ],
   "source": [
    "df['Age'].unique()"
   ]
  },
  {
   "cell_type": "code",
   "execution_count": 64,
   "id": "101cad37",
   "metadata": {},
   "outputs": [],
   "source": [
    "df['Age'] = df['Age'].replace(np.nan, df['Age'].median())"
   ]
  },
  {
   "cell_type": "markdown",
   "id": "548ea0af",
   "metadata": {},
   "source": [
    "Usuwanie wartości odstających dla DistanceFromHome"
   ]
  },
  {
   "cell_type": "code",
   "execution_count": 65,
   "id": "f0a52e52",
   "metadata": {},
   "outputs": [],
   "source": [
    "df['DistanceFromHome'] = df['DistanceFromHome'].apply(lambda x: np.nan if float(x)>100 else float(x))"
   ]
  },
  {
   "cell_type": "code",
   "execution_count": 66,
   "id": "86ab3202",
   "metadata": {
    "scrolled": true
   },
   "outputs": [
    {
     "data": {
      "text/plain": [
       "array([ 1.,  2.,  6.,  8.,  4.,  9.,  3.,  5., 22., 26., 10., 12.,  7.,\n",
       "       25., 29., 18., 24., 28., 16., 19., 13., 20., 11., 23., 21., 15.,\n",
       "       14., 17., 27., nan])"
      ]
     },
     "execution_count": 66,
     "metadata": {},
     "output_type": "execute_result"
    }
   ],
   "source": [
    "df['DistanceFromHome'].unique()"
   ]
  },
  {
   "cell_type": "code",
   "execution_count": 67,
   "id": "8a1f67d5",
   "metadata": {},
   "outputs": [],
   "source": [
    "df['DistanceFromHome'] = df['DistanceFromHome'].replace(np.nan, df['DistanceFromHome'].median())"
   ]
  },
  {
   "cell_type": "markdown",
   "id": "88d345b2",
   "metadata": {},
   "source": [
    "Usuwanie wartości odstających dla TotalWorkingYears"
   ]
  },
  {
   "cell_type": "code",
   "execution_count": 68,
   "id": "ddb64afe",
   "metadata": {},
   "outputs": [],
   "source": [
    "df['TotalWorkingYears'] = df['TotalWorkingYears'].apply(lambda x: np.nan if float(x)>100 else float(x))"
   ]
  },
  {
   "cell_type": "code",
   "execution_count": 69,
   "id": "f5ecc37d",
   "metadata": {},
   "outputs": [
    {
     "data": {
      "text/plain": [
       "array([10.,  5.,  1.,  2.,  3., 21., 11., 19.,  0.,  6., 26.,  9., 14.,\n",
       "       17., 25., 12., 13.,  7.,  8., 18., 28., 15., 20., 23., 24., 16.,\n",
       "       37., 22.,  4., 30., 32., 31., 27., 29., 35., 38., 34., 40., 36.,\n",
       "       33., nan])"
      ]
     },
     "execution_count": 69,
     "metadata": {},
     "output_type": "execute_result"
    }
   ],
   "source": [
    "df['TotalWorkingYears'].unique()"
   ]
  },
  {
   "cell_type": "code",
   "execution_count": 70,
   "id": "e27db3e1",
   "metadata": {},
   "outputs": [],
   "source": [
    "df['TotalWorkingYears'] = df['TotalWorkingYears'].replace(np.nan, df['TotalWorkingYears'].median())"
   ]
  },
  {
   "cell_type": "markdown",
   "id": "a34d6038",
   "metadata": {},
   "source": [
    "Usuwanie wartości odstających dla YearsAtCompany"
   ]
  },
  {
   "cell_type": "code",
   "execution_count": 71,
   "id": "ce1934fb",
   "metadata": {},
   "outputs": [],
   "source": [
    "df['YearsAtCompany'] = df['YearsAtCompany'].apply(lambda x: np.nan if float(x)>80 else float(x))"
   ]
  },
  {
   "cell_type": "code",
   "execution_count": 72,
   "id": "c88f5dcf",
   "metadata": {},
   "outputs": [
    {
     "data": {
      "text/plain": [
       "array([10.,  5.,  1.,  2.,  7.,  9., 20.,  0.,  3., 14.,  8., 24.,  6.,\n",
       "        4., 11., 15., 13., 21., 36., 26., 19., 16., 22., 18., 25., 17.,\n",
       "       12., 37., 33., 40., 34., 23., 29., 31., 32., 27., 30., nan])"
      ]
     },
     "execution_count": 72,
     "metadata": {},
     "output_type": "execute_result"
    }
   ],
   "source": [
    "df['YearsAtCompany'].unique()"
   ]
  },
  {
   "cell_type": "code",
   "execution_count": 73,
   "id": "172008a6",
   "metadata": {},
   "outputs": [],
   "source": [
    "df['YearsAtCompany'] = df['YearsAtCompany'].replace(np.nan, df['YearsAtCompany'].median())"
   ]
  },
  {
   "cell_type": "markdown",
   "id": "9d921a0b",
   "metadata": {},
   "source": [
    "Usuwanie wartości odstających YearsInCurrebtRole"
   ]
  },
  {
   "cell_type": "code",
   "execution_count": 74,
   "id": "bab315ae",
   "metadata": {},
   "outputs": [],
   "source": [
    "df['YearsInCurrentRole'] = df['YearsInCurrentRole'].apply(lambda x: np.nan if float(x)>80 else float(x))"
   ]
  },
  {
   "cell_type": "code",
   "execution_count": 75,
   "id": "6ea0f813",
   "metadata": {},
   "outputs": [
    {
     "data": {
      "text/plain": [
       "array([ 8.,  4.,  3.,  0.,  2.,  7.,  6.,  9.,  5., 13., 11.,  1., 10.,\n",
       "       17., 12., 15., 14., 16., 18., nan])"
      ]
     },
     "execution_count": 75,
     "metadata": {},
     "output_type": "execute_result"
    }
   ],
   "source": [
    "df['YearsInCurrentRole'].unique()"
   ]
  },
  {
   "cell_type": "code",
   "execution_count": 76,
   "id": "456191f5",
   "metadata": {},
   "outputs": [],
   "source": [
    "df['YearsInCurrentRole'] = df['YearsInCurrentRole'].replace(np.nan, df['YearsInCurrentRole'].median())"
   ]
  },
  {
   "cell_type": "markdown",
   "id": "274c7a11",
   "metadata": {},
   "source": [
    "Usuwanie wartości odstających dla YearsSinceLastPromotion"
   ]
  },
  {
   "cell_type": "code",
   "execution_count": 77,
   "id": "920ed6f8",
   "metadata": {},
   "outputs": [],
   "source": [
    "df['YearsSinceLastPromotion'] = df['YearsSinceLastPromotion'].apply(lambda x: np.nan if float(x)>80 else float(x))"
   ]
  },
  {
   "cell_type": "code",
   "execution_count": 78,
   "id": "ab4d02e6",
   "metadata": {},
   "outputs": [
    {
     "data": {
      "text/plain": [
       "array([ 3.,  0.,  4.,  2.,  7.,  1.,  9.,  8.,  5., 11.,  6., 15., 12.,\n",
       "       13., 14., 10., nan])"
      ]
     },
     "execution_count": 78,
     "metadata": {},
     "output_type": "execute_result"
    }
   ],
   "source": [
    "df['YearsSinceLastPromotion'].unique()"
   ]
  },
  {
   "cell_type": "code",
   "execution_count": 79,
   "id": "d32b687a",
   "metadata": {},
   "outputs": [],
   "source": [
    "df['YearsSinceLastPromotion'] = df['YearsSinceLastPromotion'].replace(np.nan, df['YearsSinceLastPromotion'].median())"
   ]
  },
  {
   "cell_type": "markdown",
   "id": "ac685c0c",
   "metadata": {},
   "source": [
    "Usuwanie wartości odstających dla YearsWithCurrentManager"
   ]
  },
  {
   "cell_type": "code",
   "execution_count": 80,
   "id": "f1b607f7",
   "metadata": {},
   "outputs": [],
   "source": [
    "df['YearsWithCurrManager'] = df['YearsWithCurrManager'].apply(lambda x: np.nan if float(x)>80 else float(x))"
   ]
  },
  {
   "cell_type": "code",
   "execution_count": 81,
   "id": "bb380415",
   "metadata": {},
   "outputs": [
    {
     "data": {
      "text/plain": [
       "array([ 0.,  2.,  3.,  7.,  8.,  9.,  6., 11.,  4., 12.,  5., 10., 17.,\n",
       "        1., 13., 14., 16., 15., nan])"
      ]
     },
     "execution_count": 81,
     "metadata": {},
     "output_type": "execute_result"
    }
   ],
   "source": [
    "df['YearsWithCurrManager'].unique()"
   ]
  },
  {
   "cell_type": "code",
   "execution_count": 82,
   "id": "4e8807c3",
   "metadata": {},
   "outputs": [],
   "source": [
    "df['YearsWithCurrManager'] = df['YearsWithCurrManager'].replace(np.nan, df['YearsWithCurrManager'].median())"
   ]
  },
  {
   "cell_type": "code",
   "execution_count": 83,
   "id": "ff93e5d8",
   "metadata": {},
   "outputs": [
    {
     "data": {
      "image/png": "[encoded data removed]",
      "text/plain": [
       "<Figure size 1080x576 with 1 Axes>"
      ]
     },
     "metadata": {
      "needs_background": "light"
     },
     "output_type": "display_data"
    }
   ],
   "source": [
    "plt.figure(figsize=(15, 8))\n",
    "\n",
    "sns.boxplot(data=df)\n",
    "\n",
    "plt.yscale('log')\n",
    "plt.xticks(rotation=90)\n",
    "plt.show()"
   ]
  },
  {
   "cell_type": "markdown",
   "id": "3b9970a5",
   "metadata": {},
   "source": [
    "## Usuwanie zbędnych kolumn z jedną wartością."
   ]
  },
  {
   "cell_type": "code",
   "execution_count": 92,
   "id": "403d9a0a",
   "metadata": {},
   "outputs": [],
   "source": [
    "df = df.drop(['EmployeeCount'], axis=1)\n",
    "df = df.drop(['Over18'], axis=1)\n",
    "df = df.drop(['StandardHours'], axis=1)"
   ]
  },
  {
   "cell_type": "markdown",
   "id": "53e0d8a2",
   "metadata": {},
   "source": [
    "# Sprawdzamy korelację zmiennych."
   ]
  },
  {
   "cell_type": "code",
   "execution_count": 93,
   "id": "d16d45a6",
   "metadata": {
    "scrolled": false
   },
   "outputs": [
    {
     "name": "stderr",
     "output_type": "stream",
     "text": [
      "C:\\Users\\nowy\\AppData\\Local\\Temp\\ipykernel_21664\\2001914525.py:2: FutureWarning: this method is deprecated in favour of `Styler.format(precision=..)`\n",
      "  corr.style.background_gradient(cmap='coolwarm').set_precision(2)\n"
     ]
    },
    {
     "data": {
      "text/html": [
       "<style type=\"text/css\">\n",
       "#T_f6e6b_row0_col0, #T_f6e6b_row1_col1, #T_f6e6b_row2_col2, #T_f6e6b_row3_col3, #T_f6e6b_row4_col4, #T_f6e6b_row5_col5, #T_f6e6b_row6_col6, #T_f6e6b_row7_col7, #T_f6e6b_row8_col8, #T_f6e6b_row9_col9, #T_f6e6b_row9_col23, #T_f6e6b_row10_col10, #T_f6e6b_row11_col11, #T_f6e6b_row12_col12, #T_f6e6b_row13_col13, #T_f6e6b_row14_col14, #T_f6e6b_row15_col15, #T_f6e6b_row16_col16, #T_f6e6b_row17_col17, #T_f6e6b_row18_col18, #T_f6e6b_row19_col19, #T_f6e6b_row20_col20, #T_f6e6b_row21_col21, #T_f6e6b_row22_col22, #T_f6e6b_row23_col9, #T_f6e6b_row23_col23 {\n",
       "  background-color: #b40426;\n",
       "  color: #f1f1f1;\n",
       "}\n",
       "#T_f6e6b_row0_col1, #T_f6e6b_row1_col9, #T_f6e6b_row1_col23, #T_f6e6b_row2_col13, #T_f6e6b_row3_col8, #T_f6e6b_row3_col14, #T_f6e6b_row5_col14, #T_f6e6b_row9_col5, #T_f6e6b_row9_col15, #T_f6e6b_row10_col0, #T_f6e6b_row10_col17, #T_f6e6b_row14_col1, #T_f6e6b_row15_col12, #T_f6e6b_row16_col15, #T_f6e6b_row17_col14, #T_f6e6b_row19_col15, #T_f6e6b_row19_col18, #T_f6e6b_row21_col2, #T_f6e6b_row21_col13, #T_f6e6b_row21_col17, #T_f6e6b_row21_col18, #T_f6e6b_row22_col13, #T_f6e6b_row23_col5, #T_f6e6b_row23_col15 {\n",
       "  background-color: #4961d2;\n",
       "  color: #f1f1f1;\n",
       "}\n",
       "#T_f6e6b_row0_col2, #T_f6e6b_row2_col4, #T_f6e6b_row2_col21, #T_f6e6b_row4_col7, #T_f6e6b_row5_col18, #T_f6e6b_row7_col5, #T_f6e6b_row7_col17, #T_f6e6b_row10_col6, #T_f6e6b_row12_col0, #T_f6e6b_row13_col4, #T_f6e6b_row15_col9, #T_f6e6b_row15_col23, #T_f6e6b_row16_col13, #T_f6e6b_row17_col4, #T_f6e6b_row19_col5, #T_f6e6b_row20_col5, #T_f6e6b_row20_col14 {\n",
       "  background-color: #445acc;\n",
       "  color: #f1f1f1;\n",
       "}\n",
       "#T_f6e6b_row0_col3 {\n",
       "  background-color: #86a9fc;\n",
       "  color: #f1f1f1;\n",
       "}\n",
       "#T_f6e6b_row0_col4, #T_f6e6b_row2_col11, #T_f6e6b_row3_col15, #T_f6e6b_row4_col8, #T_f6e6b_row4_col18, #T_f6e6b_row5_col2, #T_f6e6b_row5_col6, #T_f6e6b_row5_col22, #T_f6e6b_row8_col15, #T_f6e6b_row10_col9, #T_f6e6b_row10_col23, #T_f6e6b_row11_col4, #T_f6e6b_row11_col5, #T_f6e6b_row14_col5, #T_f6e6b_row14_col6, #T_f6e6b_row14_col8, #T_f6e6b_row16_col10, #T_f6e6b_row17_col20, #T_f6e6b_row18_col14, #T_f6e6b_row19_col14, #T_f6e6b_row21_col4, #T_f6e6b_row22_col6 {\n",
       "  background-color: #4f69d9;\n",
       "  color: #f1f1f1;\n",
       "}\n",
       "#T_f6e6b_row0_col5, #T_f6e6b_row1_col20, #T_f6e6b_row3_col6, #T_f6e6b_row5_col15, #T_f6e6b_row6_col19, #T_f6e6b_row12_col8, #T_f6e6b_row12_col11, #T_f6e6b_row15_col8, #T_f6e6b_row17_col19, #T_f6e6b_row18_col22, #T_f6e6b_row20_col18 {\n",
       "  background-color: #5572df;\n",
       "  color: #f1f1f1;\n",
       "}\n",
       "#T_f6e6b_row0_col6, #T_f6e6b_row0_col8, #T_f6e6b_row1_col14, #T_f6e6b_row2_col14, #T_f6e6b_row4_col1, #T_f6e6b_row5_col19, #T_f6e6b_row6_col0, #T_f6e6b_row6_col15, #T_f6e6b_row7_col8, #T_f6e6b_row8_col12, #T_f6e6b_row8_col22, #T_f6e6b_row10_col22, #T_f6e6b_row11_col10, #T_f6e6b_row11_col15, #T_f6e6b_row12_col5, #T_f6e6b_row12_col15, #T_f6e6b_row12_col17, #T_f6e6b_row14_col2, #T_f6e6b_row17_col5, #T_f6e6b_row17_col8, #T_f6e6b_row17_col18, #T_f6e6b_row18_col5, #T_f6e6b_row18_col10 {\n",
       "  background-color: #4c66d6;\n",
       "  color: #f1f1f1;\n",
       "}\n",
       "#T_f6e6b_row0_col7 {\n",
       "  background-color: #dfdbd9;\n",
       "  color: #000000;\n",
       "}\n",
       "#T_f6e6b_row0_col9, #T_f6e6b_row0_col23, #T_f6e6b_row9_col0, #T_f6e6b_row23_col0 {\n",
       "  background-color: #dcdddd;\n",
       "  color: #000000;\n",
       "}\n",
       "#T_f6e6b_row0_col10, #T_f6e6b_row1_col16, #T_f6e6b_row2_col3, #T_f6e6b_row2_col8, #T_f6e6b_row5_col3, #T_f6e6b_row5_col20, #T_f6e6b_row7_col4, #T_f6e6b_row8_col14, #T_f6e6b_row9_col1, #T_f6e6b_row9_col8, #T_f6e6b_row10_col5, #T_f6e6b_row15_col4, #T_f6e6b_row16_col1, #T_f6e6b_row16_col2, #T_f6e6b_row16_col5, #T_f6e6b_row16_col18, #T_f6e6b_row18_col8, #T_f6e6b_row18_col15, #T_f6e6b_row18_col16, #T_f6e6b_row21_col10, #T_f6e6b_row22_col14, #T_f6e6b_row22_col15, #T_f6e6b_row23_col1, #T_f6e6b_row23_col8 {\n",
       "  background-color: #4a63d3;\n",
       "  color: #f1f1f1;\n",
       "}\n",
       "#T_f6e6b_row0_col11, #T_f6e6b_row7_col21 {\n",
       "  background-color: #b3cdfb;\n",
       "  color: #000000;\n",
       "}\n",
       "#T_f6e6b_row0_col12, #T_f6e6b_row1_col13, #T_f6e6b_row2_col1, #T_f6e6b_row3_col17, #T_f6e6b_row3_col18, #T_f6e6b_row6_col8, #T_f6e6b_row6_col16, #T_f6e6b_row8_col2, #T_f6e6b_row8_col13, #T_f6e6b_row11_col18, #T_f6e6b_row14_col3, #T_f6e6b_row14_col10, #T_f6e6b_row15_col13, #T_f6e6b_row15_col21, #T_f6e6b_row16_col8, #T_f6e6b_row17_col11, #T_f6e6b_row17_col12, #T_f6e6b_row18_col3, #T_f6e6b_row18_col13, #T_f6e6b_row21_col5, #T_f6e6b_row22_col5 {\n",
       "  background-color: #455cce;\n",
       "  color: #f1f1f1;\n",
       "}\n",
       "#T_f6e6b_row0_col13, #T_f6e6b_row0_col17, #T_f6e6b_row1_col3, #T_f6e6b_row3_col1, #T_f6e6b_row5_col12, #T_f6e6b_row6_col18, #T_f6e6b_row8_col0, #T_f6e6b_row8_col7, #T_f6e6b_row9_col2, #T_f6e6b_row9_col17, #T_f6e6b_row11_col12, #T_f6e6b_row12_col10, #T_f6e6b_row13_col0, #T_f6e6b_row13_col10, #T_f6e6b_row13_col14, #T_f6e6b_row18_col2, #T_f6e6b_row20_col10, #T_f6e6b_row20_col12, #T_f6e6b_row21_col1, #T_f6e6b_row22_col8, #T_f6e6b_row22_col18, #T_f6e6b_row23_col2, #T_f6e6b_row23_col17 {\n",
       "  background-color: #4358cb;\n",
       "  color: #f1f1f1;\n",
       "}\n",
       "#T_f6e6b_row0_col14, #T_f6e6b_row4_col11, #T_f6e6b_row13_col20, #T_f6e6b_row13_col22, #T_f6e6b_row14_col19, #T_f6e6b_row15_col20 {\n",
       "  background-color: #5d7ce6;\n",
       "  color: #f1f1f1;\n",
       "}\n",
       "#T_f6e6b_row0_col15, #T_f6e6b_row1_col15, #T_f6e6b_row1_col22, #T_f6e6b_row2_col5, #T_f6e6b_row2_col15, #T_f6e6b_row6_col14, #T_f6e6b_row11_col1, #T_f6e6b_row15_col2, #T_f6e6b_row18_col4, #T_f6e6b_row18_col7, #T_f6e6b_row18_col17, #T_f6e6b_row21_col3 {\n",
       "  background-color: #5470de;\n",
       "  color: #f1f1f1;\n",
       "}\n",
       "#T_f6e6b_row0_col16 {\n",
       "  background-color: #f7ba9f;\n",
       "  color: #000000;\n",
       "}\n",
       "#T_f6e6b_row0_col18, #T_f6e6b_row3_col12, #T_f6e6b_row4_col2, #T_f6e6b_row4_col16, #T_f6e6b_row5_col10, #T_f6e6b_row5_col16, #T_f6e6b_row6_col7, #T_f6e6b_row8_col18, #T_f6e6b_row10_col12, #T_f6e6b_row16_col6, #T_f6e6b_row16_col17, #T_f6e6b_row17_col10, #T_f6e6b_row17_col13, #T_f6e6b_row19_col6, #T_f6e6b_row22_col1 {\n",
       "  background-color: #4257c9;\n",
       "  color: #f1f1f1;\n",
       "}\n",
       "#T_f6e6b_row0_col19, #T_f6e6b_row21_col7 {\n",
       "  background-color: #b5cdfa;\n",
       "  color: #000000;\n",
       "}\n",
       "#T_f6e6b_row0_col20, #T_f6e6b_row0_col22 {\n",
       "  background-color: #94b6ff;\n",
       "  color: #000000;\n",
       "}\n",
       "#T_f6e6b_row0_col21 {\n",
       "  background-color: #89acfd;\n",
       "  color: #000000;\n",
       "}\n",
       "#T_f6e6b_row1_col0, #T_f6e6b_row1_col2, #T_f6e6b_row1_col7, #T_f6e6b_row2_col7, #T_f6e6b_row2_col16, #T_f6e6b_row4_col0, #T_f6e6b_row4_col15, #T_f6e6b_row4_col21, #T_f6e6b_row6_col4, #T_f6e6b_row6_col10, #T_f6e6b_row7_col1, #T_f6e6b_row8_col10, #T_f6e6b_row10_col14, #T_f6e6b_row10_col21, #T_f6e6b_row12_col18, #T_f6e6b_row13_col1, #T_f6e6b_row13_col21, #T_f6e6b_row15_col6, #T_f6e6b_row15_col7, #T_f6e6b_row15_col18, #T_f6e6b_row18_col12, #T_f6e6b_row19_col2, #T_f6e6b_row19_col8, #T_f6e6b_row20_col17, #T_f6e6b_row21_col8 {\n",
       "  background-color: #485fd1;\n",
       "  color: #f1f1f1;\n",
       "}\n",
       "#T_f6e6b_row1_col4, #T_f6e6b_row3_col21, #T_f6e6b_row4_col10, #T_f6e6b_row5_col1, #T_f6e6b_row7_col14, #T_f6e6b_row9_col10, #T_f6e6b_row9_col18, #T_f6e6b_row10_col7, #T_f6e6b_row10_col19, #T_f6e6b_row10_col20, #T_f6e6b_row15_col1, #T_f6e6b_row15_col17, #T_f6e6b_row17_col22, #T_f6e6b_row20_col2, #T_f6e6b_row20_col4, #T_f6e6b_row21_col11, #T_f6e6b_row21_col14, #T_f6e6b_row23_col10, #T_f6e6b_row23_col18 {\n",
       "  background-color: #516ddb;\n",
       "  color: #f1f1f1;\n",
       "}\n",
       "#T_f6e6b_row1_col5, #T_f6e6b_row2_col22, #T_f6e6b_row15_col5, #T_f6e6b_row15_col22 {\n",
       "  background-color: #5a78e4;\n",
       "  color: #f1f1f1;\n",
       "}\n",
       "#T_f6e6b_row1_col6, #T_f6e6b_row1_col19, #T_f6e6b_row8_col19, #T_f6e6b_row10_col8, #T_f6e6b_row12_col2, #T_f6e6b_row13_col8, #T_f6e6b_row14_col16, #T_f6e6b_row14_col20, #T_f6e6b_row15_col0, #T_f6e6b_row18_col9, #T_f6e6b_row18_col23, #T_f6e6b_row20_col15 {\n",
       "  background-color: #506bda;\n",
       "  color: #f1f1f1;\n",
       "}\n",
       "#T_f6e6b_row1_col8, #T_f6e6b_row2_col19, #T_f6e6b_row6_col3, #T_f6e6b_row10_col4 {\n",
       "  background-color: #5673e0;\n",
       "  color: #f1f1f1;\n",
       "}\n",
       "#T_f6e6b_row1_col10, #T_f6e6b_row3_col10, #T_f6e6b_row4_col12, #T_f6e6b_row5_col7, #T_f6e6b_row7_col13, #T_f6e6b_row9_col12, #T_f6e6b_row9_col13, #T_f6e6b_row11_col21, #T_f6e6b_row12_col6, #T_f6e6b_row13_col3, #T_f6e6b_row17_col6, #T_f6e6b_row19_col12, #T_f6e6b_row23_col12, #T_f6e6b_row23_col13 {\n",
       "  background-color: #3c4ec2;\n",
       "  color: #f1f1f1;\n",
       "}\n",
       "#T_f6e6b_row1_col11, #T_f6e6b_row3_col7 {\n",
       "  background-color: #6687ed;\n",
       "  color: #f1f1f1;\n",
       "}\n",
       "#T_f6e6b_row1_col12, #T_f6e6b_row1_col17, #T_f6e6b_row2_col12, #T_f6e6b_row3_col2, #T_f6e6b_row8_col1, #T_f6e6b_row10_col2, #T_f6e6b_row10_col16, #T_f6e6b_row12_col1, #T_f6e6b_row12_col19, #T_f6e6b_row13_col2, #T_f6e6b_row14_col4, #T_f6e6b_row14_col7, #T_f6e6b_row14_col9, #T_f6e6b_row14_col17, #T_f6e6b_row14_col23, #T_f6e6b_row17_col15 {\n",
       "  background-color: #4e68d8;\n",
       "  color: #f1f1f1;\n",
       "}\n",
       "#T_f6e6b_row1_col18, #T_f6e6b_row3_col13, #T_f6e6b_row4_col3, #T_f6e6b_row5_col4, #T_f6e6b_row5_col8, #T_f6e6b_row5_col21, #T_f6e6b_row6_col13, #T_f6e6b_row7_col12, #T_f6e6b_row8_col5, #T_f6e6b_row8_col6, #T_f6e6b_row10_col1, #T_f6e6b_row10_col3, #T_f6e6b_row11_col17, #T_f6e6b_row11_col19, #T_f6e6b_row11_col20, #T_f6e6b_row11_col22, #T_f6e6b_row12_col7, #T_f6e6b_row12_col9, #T_f6e6b_row12_col21, #T_f6e6b_row12_col23, #T_f6e6b_row13_col6, #T_f6e6b_row14_col12, #T_f6e6b_row14_col15, #T_f6e6b_row15_col10, #T_f6e6b_row15_col14, #T_f6e6b_row17_col0, #T_f6e6b_row17_col2, #T_f6e6b_row17_col9, #T_f6e6b_row17_col16, #T_f6e6b_row17_col23, #T_f6e6b_row18_col1, #T_f6e6b_row19_col11, #T_f6e6b_row22_col10, #T_f6e6b_row22_col11 {\n",
       "  background-color: #3b4cc0;\n",
       "  color: #f1f1f1;\n",
       "}\n",
       "#T_f6e6b_row1_col21, #T_f6e6b_row2_col18, #T_f6e6b_row3_col4, #T_f6e6b_row4_col9, #T_f6e6b_row4_col23, #T_f6e6b_row5_col13, #T_f6e6b_row6_col9, #T_f6e6b_row6_col23, #T_f6e6b_row11_col2, #T_f6e6b_row12_col3, #T_f6e6b_row12_col4, #T_f6e6b_row18_col0, #T_f6e6b_row18_col6, #T_f6e6b_row19_col10 {\n",
       "  background-color: #4055c8;\n",
       "  color: #f1f1f1;\n",
       "}\n",
       "#T_f6e6b_row2_col0, #T_f6e6b_row4_col6, #T_f6e6b_row7_col6, #T_f6e6b_row8_col3, #T_f6e6b_row8_col9, #T_f6e6b_row8_col23, #T_f6e6b_row9_col6, #T_f6e6b_row10_col13, #T_f6e6b_row19_col1, #T_f6e6b_row22_col12, #T_f6e6b_row23_col6 {\n",
       "  background-color: #3f53c6;\n",
       "  color: #f1f1f1;\n",
       "}\n",
       "#T_f6e6b_row2_col6, #T_f6e6b_row4_col17, #T_f6e6b_row6_col17, #T_f6e6b_row8_col11, #T_f6e6b_row9_col4, #T_f6e6b_row11_col6, #T_f6e6b_row13_col16, #T_f6e6b_row13_col18, #T_f6e6b_row15_col16, #T_f6e6b_row16_col4, #T_f6e6b_row17_col1, #T_f6e6b_row18_col21, #T_f6e6b_row19_col4, #T_f6e6b_row19_col13, #T_f6e6b_row20_col1, #T_f6e6b_row20_col6, #T_f6e6b_row22_col17, #T_f6e6b_row23_col4 {\n",
       "  background-color: #465ecf;\n",
       "  color: #f1f1f1;\n",
       "}\n",
       "#T_f6e6b_row2_col9, #T_f6e6b_row2_col17, #T_f6e6b_row2_col23, #T_f6e6b_row5_col9, #T_f6e6b_row5_col23, #T_f6e6b_row6_col12, #T_f6e6b_row11_col13, #T_f6e6b_row12_col14, #T_f6e6b_row12_col16, #T_f6e6b_row13_col7, #T_f6e6b_row16_col12, #T_f6e6b_row17_col21 {\n",
       "  background-color: #3e51c5;\n",
       "  color: #f1f1f1;\n",
       "}\n",
       "#T_f6e6b_row2_col10, #T_f6e6b_row4_col14, #T_f6e6b_row5_col0, #T_f6e6b_row5_col17, #T_f6e6b_row6_col2, #T_f6e6b_row7_col2, #T_f6e6b_row7_col15, #T_f6e6b_row8_col4, #T_f6e6b_row8_col17, #T_f6e6b_row10_col18, #T_f6e6b_row13_col5, #T_f6e6b_row13_col15, #T_f6e6b_row13_col17, #T_f6e6b_row14_col18, #T_f6e6b_row14_col21, #T_f6e6b_row15_col3, #T_f6e6b_row19_col17, #T_f6e6b_row20_col8, #T_f6e6b_row20_col13, #T_f6e6b_row21_col15, #T_f6e6b_row22_col2, #T_f6e6b_row22_col4 {\n",
       "  background-color: #4b64d5;\n",
       "  color: #f1f1f1;\n",
       "}\n",
       "#T_f6e6b_row2_col20, #T_f6e6b_row10_col11 {\n",
       "  background-color: #5e7de7;\n",
       "  color: #f1f1f1;\n",
       "}\n",
       "#T_f6e6b_row3_col0, #T_f6e6b_row7_col11, #T_f6e6b_row20_col0 {\n",
       "  background-color: #85a8fc;\n",
       "  color: #f1f1f1;\n",
       "}\n",
       "#T_f6e6b_row3_col5, #T_f6e6b_row4_col19, #T_f6e6b_row6_col1, #T_f6e6b_row7_col10, #T_f6e6b_row7_col18, #T_f6e6b_row8_col20, #T_f6e6b_row9_col14, #T_f6e6b_row12_col20, #T_f6e6b_row12_col22, #T_f6e6b_row13_col11, #T_f6e6b_row16_col14, #T_f6e6b_row20_col3, #T_f6e6b_row23_col14 {\n",
       "  background-color: #536edd;\n",
       "  color: #f1f1f1;\n",
       "}\n",
       "#T_f6e6b_row3_col9, #T_f6e6b_row3_col20, #T_f6e6b_row3_col23 {\n",
       "  background-color: #6282ea;\n",
       "  color: #f1f1f1;\n",
       "}\n",
       "#T_f6e6b_row3_col11 {\n",
       "  background-color: #80a3fa;\n",
       "  color: #f1f1f1;\n",
       "}\n",
       "#T_f6e6b_row3_col16, #T_f6e6b_row11_col9, #T_f6e6b_row11_col23 {\n",
       "  background-color: #7597f6;\n",
       "  color: #f1f1f1;\n",
       "}\n",
       "#T_f6e6b_row3_col19, #T_f6e6b_row14_col11 {\n",
       "  background-color: #688aef;\n",
       "  color: #f1f1f1;\n",
       "}\n",
       "#T_f6e6b_row3_col22 {\n",
       "  background-color: #6b8df0;\n",
       "  color: #f1f1f1;\n",
       "}\n",
       "#T_f6e6b_row4_col5, #T_f6e6b_row4_col13, #T_f6e6b_row6_col21, #T_f6e6b_row8_col16, #T_f6e6b_row8_col21, #T_f6e6b_row10_col15, #T_f6e6b_row11_col8, #T_f6e6b_row13_col9, #T_f6e6b_row13_col23, #T_f6e6b_row14_col13, #T_f6e6b_row17_col3, #T_f6e6b_row17_col7, #T_f6e6b_row20_col11, #T_f6e6b_row21_col6, #T_f6e6b_row21_col12 {\n",
       "  background-color: #3d50c3;\n",
       "  color: #f1f1f1;\n",
       "}\n",
       "#T_f6e6b_row4_col20, #T_f6e6b_row6_col11, #T_f6e6b_row15_col11 {\n",
       "  background-color: #5b7ae5;\n",
       "  color: #f1f1f1;\n",
       "}\n",
       "#T_f6e6b_row4_col22, #T_f6e6b_row6_col20, #T_f6e6b_row15_col19, #T_f6e6b_row18_col11, #T_f6e6b_row19_col3 {\n",
       "  background-color: #5875e1;\n",
       "  color: #f1f1f1;\n",
       "}\n",
       "#T_f6e6b_row5_col11, #T_f6e6b_row6_col5, #T_f6e6b_row11_col14, #T_f6e6b_row13_col19, #T_f6e6b_row14_col0, #T_f6e6b_row14_col22, #T_f6e6b_row18_col19, #T_f6e6b_row22_col3 {\n",
       "  background-color: #5977e3;\n",
       "  color: #f1f1f1;\n",
       "}\n",
       "#T_f6e6b_row6_col22, #T_f6e6b_row7_col3, #T_f6e6b_row18_col20 {\n",
       "  background-color: #6485ec;\n",
       "  color: #f1f1f1;\n",
       "}\n",
       "#T_f6e6b_row7_col0 {\n",
       "  background-color: #dedcdb;\n",
       "  color: #000000;\n",
       "}\n",
       "#T_f6e6b_row7_col9, #T_f6e6b_row7_col23, #T_f6e6b_row9_col7, #T_f6e6b_row23_col7 {\n",
       "  background-color: #c53334;\n",
       "  color: #f1f1f1;\n",
       "}\n",
       "#T_f6e6b_row7_col16, #T_f6e6b_row12_col13, #T_f6e6b_row16_col7 {\n",
       "  background-color: #f18f71;\n",
       "  color: #f1f1f1;\n",
       "}\n",
       "#T_f6e6b_row7_col19 {\n",
       "  background-color: #ecd3c5;\n",
       "  color: #000000;\n",
       "}\n",
       "#T_f6e6b_row7_col20 {\n",
       "  background-color: #c9d7f0;\n",
       "  color: #000000;\n",
       "}\n",
       "#T_f6e6b_row7_col22 {\n",
       "  background-color: #c6d6f1;\n",
       "  color: #000000;\n",
       "}\n",
       "#T_f6e6b_row9_col3, #T_f6e6b_row23_col3 {\n",
       "  background-color: #6384eb;\n",
       "  color: #f1f1f1;\n",
       "}\n",
       "#T_f6e6b_row9_col11, #T_f6e6b_row23_col11 {\n",
       "  background-color: #88abfd;\n",
       "  color: #000000;\n",
       "}\n",
       "#T_f6e6b_row9_col16, #T_f6e6b_row16_col9, #T_f6e6b_row16_col23, #T_f6e6b_row23_col16 {\n",
       "  background-color: #f29274;\n",
       "  color: #f1f1f1;\n",
       "}\n",
       "#T_f6e6b_row9_col19, #T_f6e6b_row23_col19 {\n",
       "  background-color: #e8d6cc;\n",
       "  color: #000000;\n",
       "}\n",
       "#T_f6e6b_row9_col20, #T_f6e6b_row23_col20 {\n",
       "  background-color: #c1d4f4;\n",
       "  color: #000000;\n",
       "}\n",
       "#T_f6e6b_row9_col21, #T_f6e6b_row21_col9, #T_f6e6b_row21_col23, #T_f6e6b_row23_col21 {\n",
       "  background-color: #b2ccfb;\n",
       "  color: #000000;\n",
       "}\n",
       "#T_f6e6b_row9_col22, #T_f6e6b_row23_col22 {\n",
       "  background-color: #bed2f6;\n",
       "  color: #000000;\n",
       "}\n",
       "#T_f6e6b_row11_col0 {\n",
       "  background-color: #a3c2fe;\n",
       "  color: #000000;\n",
       "}\n",
       "#T_f6e6b_row11_col3 {\n",
       "  background-color: #6e90f2;\n",
       "  color: #f1f1f1;\n",
       "}\n",
       "#T_f6e6b_row11_col7, #T_f6e6b_row16_col3 {\n",
       "  background-color: #7396f5;\n",
       "  color: #f1f1f1;\n",
       "}\n",
       "#T_f6e6b_row11_col16 {\n",
       "  background-color: #92b4fe;\n",
       "  color: #000000;\n",
       "}\n",
       "#T_f6e6b_row13_col12 {\n",
       "  background-color: #f18d6f;\n",
       "  color: #f1f1f1;\n",
       "}\n",
       "#T_f6e6b_row16_col0 {\n",
       "  background-color: #f7bca1;\n",
       "  color: #000000;\n",
       "}\n",
       "#T_f6e6b_row16_col11 {\n",
       "  background-color: #a2c1ff;\n",
       "  color: #000000;\n",
       "}\n",
       "#T_f6e6b_row16_col19 {\n",
       "  background-color: #f4c5ad;\n",
       "  color: #000000;\n",
       "}\n",
       "#T_f6e6b_row16_col20 {\n",
       "  background-color: #d8dce2;\n",
       "  color: #000000;\n",
       "}\n",
       "#T_f6e6b_row16_col21 {\n",
       "  background-color: #c0d4f5;\n",
       "  color: #000000;\n",
       "}\n",
       "#T_f6e6b_row16_col22, #T_f6e6b_row22_col21 {\n",
       "  background-color: #d9dce1;\n",
       "  color: #000000;\n",
       "}\n",
       "#T_f6e6b_row19_col0 {\n",
       "  background-color: #a7c5fe;\n",
       "  color: #000000;\n",
       "}\n",
       "#T_f6e6b_row19_col7 {\n",
       "  background-color: #e6d7cf;\n",
       "  color: #000000;\n",
       "}\n",
       "#T_f6e6b_row19_col9, #T_f6e6b_row19_col23 {\n",
       "  background-color: #e1dad6;\n",
       "  color: #000000;\n",
       "}\n",
       "#T_f6e6b_row19_col16 {\n",
       "  background-color: #f2cbb7;\n",
       "  color: #000000;\n",
       "}\n",
       "#T_f6e6b_row19_col20 {\n",
       "  background-color: #f5a081;\n",
       "  color: #000000;\n",
       "}\n",
       "#T_f6e6b_row19_col21 {\n",
       "  background-color: #efcebd;\n",
       "  color: #000000;\n",
       "}\n",
       "#T_f6e6b_row19_col22, #T_f6e6b_row22_col19 {\n",
       "  background-color: #f49a7b;\n",
       "  color: #000000;\n",
       "}\n",
       "#T_f6e6b_row20_col7 {\n",
       "  background-color: #bfd3f6;\n",
       "  color: #000000;\n",
       "}\n",
       "#T_f6e6b_row20_col9, #T_f6e6b_row20_col23 {\n",
       "  background-color: #b6cefa;\n",
       "  color: #000000;\n",
       "}\n",
       "#T_f6e6b_row20_col16, #T_f6e6b_row22_col16 {\n",
       "  background-color: #d1dae9;\n",
       "  color: #000000;\n",
       "}\n",
       "#T_f6e6b_row20_col19 {\n",
       "  background-color: #f59f80;\n",
       "  color: #000000;\n",
       "}\n",
       "#T_f6e6b_row20_col21 {\n",
       "  background-color: #e5d8d1;\n",
       "  color: #000000;\n",
       "}\n",
       "#T_f6e6b_row20_col22 {\n",
       "  background-color: #f7b093;\n",
       "  color: #000000;\n",
       "}\n",
       "#T_f6e6b_row21_col0 {\n",
       "  background-color: #8badfd;\n",
       "  color: #000000;\n",
       "}\n",
       "#T_f6e6b_row21_col16 {\n",
       "  background-color: #c3d5f4;\n",
       "  color: #000000;\n",
       "}\n",
       "#T_f6e6b_row21_col19 {\n",
       "  background-color: #f3c8b2;\n",
       "  color: #000000;\n",
       "}\n",
       "#T_f6e6b_row21_col20 {\n",
       "  background-color: #ebd3c6;\n",
       "  color: #000000;\n",
       "}\n",
       "#T_f6e6b_row21_col22 {\n",
       "  background-color: #e2dad5;\n",
       "  color: #000000;\n",
       "}\n",
       "#T_f6e6b_row22_col0 {\n",
       "  background-color: #82a6fb;\n",
       "  color: #f1f1f1;\n",
       "}\n",
       "#T_f6e6b_row22_col7 {\n",
       "  background-color: #bbd1f8;\n",
       "  color: #000000;\n",
       "}\n",
       "#T_f6e6b_row22_col9, #T_f6e6b_row22_col23 {\n",
       "  background-color: #b1cbfc;\n",
       "  color: #000000;\n",
       "}\n",
       "#T_f6e6b_row22_col20 {\n",
       "  background-color: #f7b194;\n",
       "  color: #000000;\n",
       "}\n",
       "</style>\n",
       "<table id=\"T_f6e6b\">\n",
       "  <thead>\n",
       "    <tr>\n",
       "      <th class=\"blank level0\" >&nbsp;</th>\n",
       "      <th id=\"T_f6e6b_level0_col0\" class=\"col_heading level0 col0\" >Age</th>\n",
       "      <th id=\"T_f6e6b_level0_col1\" class=\"col_heading level0 col1\" >DailyRate</th>\n",
       "      <th id=\"T_f6e6b_level0_col2\" class=\"col_heading level0 col2\" >DistanceFromHome</th>\n",
       "      <th id=\"T_f6e6b_level0_col3\" class=\"col_heading level0 col3\" >Education</th>\n",
       "      <th id=\"T_f6e6b_level0_col4\" class=\"col_heading level0 col4\" >EnvironmentSatisfaction</th>\n",
       "      <th id=\"T_f6e6b_level0_col5\" class=\"col_heading level0 col5\" >HourlyRate</th>\n",
       "      <th id=\"T_f6e6b_level0_col6\" class=\"col_heading level0 col6\" >JobInvolvement</th>\n",
       "      <th id=\"T_f6e6b_level0_col7\" class=\"col_heading level0 col7\" >JobLevel</th>\n",
       "      <th id=\"T_f6e6b_level0_col8\" class=\"col_heading level0 col8\" >JobSatisfaction</th>\n",
       "      <th id=\"T_f6e6b_level0_col9\" class=\"col_heading level0 col9\" >MonthlyIncome</th>\n",
       "      <th id=\"T_f6e6b_level0_col10\" class=\"col_heading level0 col10\" >MonthlyRate</th>\n",
       "      <th id=\"T_f6e6b_level0_col11\" class=\"col_heading level0 col11\" >NumCompaniesWorked</th>\n",
       "      <th id=\"T_f6e6b_level0_col12\" class=\"col_heading level0 col12\" >PercentSalaryHike</th>\n",
       "      <th id=\"T_f6e6b_level0_col13\" class=\"col_heading level0 col13\" >PerformanceRating</th>\n",
       "      <th id=\"T_f6e6b_level0_col14\" class=\"col_heading level0 col14\" >RelationshipSatisfaction</th>\n",
       "      <th id=\"T_f6e6b_level0_col15\" class=\"col_heading level0 col15\" >StockOptionLevel</th>\n",
       "      <th id=\"T_f6e6b_level0_col16\" class=\"col_heading level0 col16\" >TotalWorkingYears</th>\n",
       "      <th id=\"T_f6e6b_level0_col17\" class=\"col_heading level0 col17\" >TrainingTimesLastYear</th>\n",
       "      <th id=\"T_f6e6b_level0_col18\" class=\"col_heading level0 col18\" >WorkLifeBalance</th>\n",
       "      <th id=\"T_f6e6b_level0_col19\" class=\"col_heading level0 col19\" >YearsAtCompany</th>\n",
       "      <th id=\"T_f6e6b_level0_col20\" class=\"col_heading level0 col20\" >YearsInCurrentRole</th>\n",
       "      <th id=\"T_f6e6b_level0_col21\" class=\"col_heading level0 col21\" >YearsSinceLastPromotion</th>\n",
       "      <th id=\"T_f6e6b_level0_col22\" class=\"col_heading level0 col22\" >YearsWithCurrManager</th>\n",
       "      <th id=\"T_f6e6b_level0_col23\" class=\"col_heading level0 col23\" >YearlyIncome</th>\n",
       "    </tr>\n",
       "  </thead>\n",
       "  <tbody>\n",
       "    <tr>\n",
       "      <th id=\"T_f6e6b_level0_row0\" class=\"row_heading level0 row0\" >Age</th>\n",
       "      <td id=\"T_f6e6b_row0_col0\" class=\"data row0 col0\" >1.00</td>\n",
       "      <td id=\"T_f6e6b_row0_col1\" class=\"data row0 col1\" >0.01</td>\n",
       "      <td id=\"T_f6e6b_row0_col2\" class=\"data row0 col2\" >-0.02</td>\n",
       "      <td id=\"T_f6e6b_row0_col3\" class=\"data row0 col3\" >0.20</td>\n",
       "      <td id=\"T_f6e6b_row0_col4\" class=\"data row0 col4\" >0.01</td>\n",
       "      <td id=\"T_f6e6b_row0_col5\" class=\"data row0 col5\" >0.03</td>\n",
       "      <td id=\"T_f6e6b_row0_col6\" class=\"data row0 col6\" >0.03</td>\n",
       "      <td id=\"T_f6e6b_row0_col7\" class=\"data row0 col7\" >0.49</td>\n",
       "      <td id=\"T_f6e6b_row0_col8\" class=\"data row0 col8\" >-0.00</td>\n",
       "      <td id=\"T_f6e6b_row0_col9\" class=\"data row0 col9\" >0.48</td>\n",
       "      <td id=\"T_f6e6b_row0_col10\" class=\"data row0 col10\" >0.02</td>\n",
       "      <td id=\"T_f6e6b_row0_col11\" class=\"data row0 col11\" >0.29</td>\n",
       "      <td id=\"T_f6e6b_row0_col12\" class=\"data row0 col12\" >0.00</td>\n",
       "      <td id=\"T_f6e6b_row0_col13\" class=\"data row0 col13\" >-0.00</td>\n",
       "      <td id=\"T_f6e6b_row0_col14\" class=\"data row0 col14\" >0.07</td>\n",
       "      <td id=\"T_f6e6b_row0_col15\" class=\"data row0 col15\" >0.04</td>\n",
       "      <td id=\"T_f6e6b_row0_col16\" class=\"data row0 col16\" >0.64</td>\n",
       "      <td id=\"T_f6e6b_row0_col17\" class=\"data row0 col17\" >-0.03</td>\n",
       "      <td id=\"T_f6e6b_row0_col18\" class=\"data row0 col18\" >-0.01</td>\n",
       "      <td id=\"T_f6e6b_row0_col19\" class=\"data row0 col19\" >0.30</td>\n",
       "      <td id=\"T_f6e6b_row0_col20\" class=\"data row0 col20\" >0.20</td>\n",
       "      <td id=\"T_f6e6b_row0_col21\" class=\"data row0 col21\" >0.22</td>\n",
       "      <td id=\"T_f6e6b_row0_col22\" class=\"data row0 col22\" >0.19</td>\n",
       "      <td id=\"T_f6e6b_row0_col23\" class=\"data row0 col23\" >0.48</td>\n",
       "    </tr>\n",
       "    <tr>\n",
       "      <th id=\"T_f6e6b_level0_row1\" class=\"row_heading level0 row1\" >DailyRate</th>\n",
       "      <td id=\"T_f6e6b_row1_col0\" class=\"data row1 col0\" >0.01</td>\n",
       "      <td id=\"T_f6e6b_row1_col1\" class=\"data row1 col1\" >1.00</td>\n",
       "      <td id=\"T_f6e6b_row1_col2\" class=\"data row1 col2\" >0.00</td>\n",
       "      <td id=\"T_f6e6b_row1_col3\" class=\"data row1 col3\" >-0.01</td>\n",
       "      <td id=\"T_f6e6b_row1_col4\" class=\"data row1 col4\" >0.02</td>\n",
       "      <td id=\"T_f6e6b_row1_col5\" class=\"data row1 col5\" >0.04</td>\n",
       "      <td id=\"T_f6e6b_row1_col6\" class=\"data row1 col6\" >0.04</td>\n",
       "      <td id=\"T_f6e6b_row1_col7\" class=\"data row1 col7\" >0.01</td>\n",
       "      <td id=\"T_f6e6b_row1_col8\" class=\"data row1 col8\" >0.03</td>\n",
       "      <td id=\"T_f6e6b_row1_col9\" class=\"data row1 col9\" >0.02</td>\n",
       "      <td id=\"T_f6e6b_row1_col10\" class=\"data row1 col10\" >-0.04</td>\n",
       "      <td id=\"T_f6e6b_row1_col11\" class=\"data row1 col11\" >0.05</td>\n",
       "      <td id=\"T_f6e6b_row1_col12\" class=\"data row1 col12\" >0.03</td>\n",
       "      <td id=\"T_f6e6b_row1_col13\" class=\"data row1 col13\" >0.01</td>\n",
       "      <td id=\"T_f6e6b_row1_col14\" class=\"data row1 col14\" >0.01</td>\n",
       "      <td id=\"T_f6e6b_row1_col15\" class=\"data row1 col15\" >0.04</td>\n",
       "      <td id=\"T_f6e6b_row1_col16\" class=\"data row1 col16\" >0.02</td>\n",
       "      <td id=\"T_f6e6b_row1_col17\" class=\"data row1 col17\" >0.00</td>\n",
       "      <td id=\"T_f6e6b_row1_col18\" class=\"data row1 col18\" >-0.04</td>\n",
       "      <td id=\"T_f6e6b_row1_col19\" class=\"data row1 col19\" >-0.02</td>\n",
       "      <td id=\"T_f6e6b_row1_col20\" class=\"data row1 col20\" >0.00</td>\n",
       "      <td id=\"T_f6e6b_row1_col21\" class=\"data row1 col21\" >-0.01</td>\n",
       "      <td id=\"T_f6e6b_row1_col22\" class=\"data row1 col22\" >-0.01</td>\n",
       "      <td id=\"T_f6e6b_row1_col23\" class=\"data row1 col23\" >0.02</td>\n",
       "    </tr>\n",
       "    <tr>\n",
       "      <th id=\"T_f6e6b_level0_row2\" class=\"row_heading level0 row2\" >DistanceFromHome</th>\n",
       "      <td id=\"T_f6e6b_row2_col0\" class=\"data row2 col0\" >-0.02</td>\n",
       "      <td id=\"T_f6e6b_row2_col1\" class=\"data row2 col1\" >0.00</td>\n",
       "      <td id=\"T_f6e6b_row2_col2\" class=\"data row2 col2\" >1.00</td>\n",
       "      <td id=\"T_f6e6b_row2_col3\" class=\"data row2 col3\" >0.02</td>\n",
       "      <td id=\"T_f6e6b_row2_col4\" class=\"data row2 col4\" >-0.02</td>\n",
       "      <td id=\"T_f6e6b_row2_col5\" class=\"data row2 col5\" >0.02</td>\n",
       "      <td id=\"T_f6e6b_row2_col6\" class=\"data row2 col6\" >0.01</td>\n",
       "      <td id=\"T_f6e6b_row2_col7\" class=\"data row2 col7\" >0.01</td>\n",
       "      <td id=\"T_f6e6b_row2_col8\" class=\"data row2 col8\" >-0.01</td>\n",
       "      <td id=\"T_f6e6b_row2_col9\" class=\"data row2 col9\" >-0.02</td>\n",
       "      <td id=\"T_f6e6b_row2_col10\" class=\"data row2 col10\" >0.02</td>\n",
       "      <td id=\"T_f6e6b_row2_col11\" class=\"data row2 col11\" >-0.03</td>\n",
       "      <td id=\"T_f6e6b_row2_col12\" class=\"data row2 col12\" >0.03</td>\n",
       "      <td id=\"T_f6e6b_row2_col13\" class=\"data row2 col13\" >0.02</td>\n",
       "      <td id=\"T_f6e6b_row2_col14\" class=\"data row2 col14\" >0.01</td>\n",
       "      <td id=\"T_f6e6b_row2_col15\" class=\"data row2 col15\" >0.04</td>\n",
       "      <td id=\"T_f6e6b_row2_col16\" class=\"data row2 col16\" >0.01</td>\n",
       "      <td id=\"T_f6e6b_row2_col17\" class=\"data row2 col17\" >-0.05</td>\n",
       "      <td id=\"T_f6e6b_row2_col18\" class=\"data row2 col18\" >-0.02</td>\n",
       "      <td id=\"T_f6e6b_row2_col19\" class=\"data row2 col19\" >-0.00</td>\n",
       "      <td id=\"T_f6e6b_row2_col20\" class=\"data row2 col20\" >0.03</td>\n",
       "      <td id=\"T_f6e6b_row2_col21\" class=\"data row2 col21\" >0.00</td>\n",
       "      <td id=\"T_f6e6b_row2_col22\" class=\"data row2 col22\" >0.01</td>\n",
       "      <td id=\"T_f6e6b_row2_col23\" class=\"data row2 col23\" >-0.02</td>\n",
       "    </tr>\n",
       "    <tr>\n",
       "      <th id=\"T_f6e6b_level0_row3\" class=\"row_heading level0 row3\" >Education</th>\n",
       "      <td id=\"T_f6e6b_row3_col0\" class=\"data row3 col0\" >0.20</td>\n",
       "      <td id=\"T_f6e6b_row3_col1\" class=\"data row3 col1\" >-0.01</td>\n",
       "      <td id=\"T_f6e6b_row3_col2\" class=\"data row3 col2\" >0.02</td>\n",
       "      <td id=\"T_f6e6b_row3_col3\" class=\"data row3 col3\" >1.00</td>\n",
       "      <td id=\"T_f6e6b_row3_col4\" class=\"data row3 col4\" >-0.03</td>\n",
       "      <td id=\"T_f6e6b_row3_col5\" class=\"data row3 col5\" >0.02</td>\n",
       "      <td id=\"T_f6e6b_row3_col6\" class=\"data row3 col6\" >0.06</td>\n",
       "      <td id=\"T_f6e6b_row3_col7\" class=\"data row3 col7\" >0.10</td>\n",
       "      <td id=\"T_f6e6b_row3_col8\" class=\"data row3 col8\" >-0.02</td>\n",
       "      <td id=\"T_f6e6b_row3_col9\" class=\"data row3 col9\" >0.10</td>\n",
       "      <td id=\"T_f6e6b_row3_col10\" class=\"data row3 col10\" >-0.04</td>\n",
       "      <td id=\"T_f6e6b_row3_col11\" class=\"data row3 col11\" >0.13</td>\n",
       "      <td id=\"T_f6e6b_row3_col12\" class=\"data row3 col12\" >-0.01</td>\n",
       "      <td id=\"T_f6e6b_row3_col13\" class=\"data row3 col13\" >-0.03</td>\n",
       "      <td id=\"T_f6e6b_row3_col14\" class=\"data row3 col14\" >0.00</td>\n",
       "      <td id=\"T_f6e6b_row3_col15\" class=\"data row3 col15\" >0.02</td>\n",
       "      <td id=\"T_f6e6b_row3_col16\" class=\"data row3 col16\" >0.15</td>\n",
       "      <td id=\"T_f6e6b_row3_col17\" class=\"data row3 col17\" >-0.03</td>\n",
       "      <td id=\"T_f6e6b_row3_col18\" class=\"data row3 col18\" >0.00</td>\n",
       "      <td id=\"T_f6e6b_row3_col19\" class=\"data row3 col19\" >0.06</td>\n",
       "      <td id=\"T_f6e6b_row3_col20\" class=\"data row3 col20\" >0.05</td>\n",
       "      <td id=\"T_f6e6b_row3_col21\" class=\"data row3 col21\" >0.05</td>\n",
       "      <td id=\"T_f6e6b_row3_col22\" class=\"data row3 col22\" >0.07</td>\n",
       "      <td id=\"T_f6e6b_row3_col23\" class=\"data row3 col23\" >0.10</td>\n",
       "    </tr>\n",
       "    <tr>\n",
       "      <th id=\"T_f6e6b_level0_row4\" class=\"row_heading level0 row4\" >EnvironmentSatisfaction</th>\n",
       "      <td id=\"T_f6e6b_row4_col0\" class=\"data row4 col0\" >0.01</td>\n",
       "      <td id=\"T_f6e6b_row4_col1\" class=\"data row4 col1\" >0.02</td>\n",
       "      <td id=\"T_f6e6b_row4_col2\" class=\"data row4 col2\" >-0.02</td>\n",
       "      <td id=\"T_f6e6b_row4_col3\" class=\"data row4 col3\" >-0.03</td>\n",
       "      <td id=\"T_f6e6b_row4_col4\" class=\"data row4 col4\" >1.00</td>\n",
       "      <td id=\"T_f6e6b_row4_col5\" class=\"data row4 col5\" >-0.06</td>\n",
       "      <td id=\"T_f6e6b_row4_col6\" class=\"data row4 col6\" >-0.01</td>\n",
       "      <td id=\"T_f6e6b_row4_col7\" class=\"data row4 col7\" >-0.00</td>\n",
       "      <td id=\"T_f6e6b_row4_col8\" class=\"data row4 col8\" >0.00</td>\n",
       "      <td id=\"T_f6e6b_row4_col9\" class=\"data row4 col9\" >-0.01</td>\n",
       "      <td id=\"T_f6e6b_row4_col10\" class=\"data row4 col10\" >0.04</td>\n",
       "      <td id=\"T_f6e6b_row4_col11\" class=\"data row4 col11\" >0.02</td>\n",
       "      <td id=\"T_f6e6b_row4_col12\" class=\"data row4 col12\" >-0.03</td>\n",
       "      <td id=\"T_f6e6b_row4_col13\" class=\"data row4 col13\" >-0.02</td>\n",
       "      <td id=\"T_f6e6b_row4_col14\" class=\"data row4 col14\" >0.01</td>\n",
       "      <td id=\"T_f6e6b_row4_col15\" class=\"data row4 col15\" >-0.00</td>\n",
       "      <td id=\"T_f6e6b_row4_col16\" class=\"data row4 col16\" >-0.02</td>\n",
       "      <td id=\"T_f6e6b_row4_col17\" class=\"data row4 col17\" >-0.02</td>\n",
       "      <td id=\"T_f6e6b_row4_col18\" class=\"data row4 col18\" >0.03</td>\n",
       "      <td id=\"T_f6e6b_row4_col19\" class=\"data row4 col19\" >-0.01</td>\n",
       "      <td id=\"T_f6e6b_row4_col20\" class=\"data row4 col20\" >0.02</td>\n",
       "      <td id=\"T_f6e6b_row4_col21\" class=\"data row4 col21\" >0.02</td>\n",
       "      <td id=\"T_f6e6b_row4_col22\" class=\"data row4 col22\" >0.00</td>\n",
       "      <td id=\"T_f6e6b_row4_col23\" class=\"data row4 col23\" >-0.01</td>\n",
       "    </tr>\n",
       "    <tr>\n",
       "      <th id=\"T_f6e6b_level0_row5\" class=\"row_heading level0 row5\" >HourlyRate</th>\n",
       "      <td id=\"T_f6e6b_row5_col0\" class=\"data row5 col0\" >0.03</td>\n",
       "      <td id=\"T_f6e6b_row5_col1\" class=\"data row5 col1\" >0.04</td>\n",
       "      <td id=\"T_f6e6b_row5_col2\" class=\"data row5 col2\" >0.02</td>\n",
       "      <td id=\"T_f6e6b_row5_col3\" class=\"data row5 col3\" >0.02</td>\n",
       "      <td id=\"T_f6e6b_row5_col4\" class=\"data row5 col4\" >-0.06</td>\n",
       "      <td id=\"T_f6e6b_row5_col5\" class=\"data row5 col5\" >1.00</td>\n",
       "      <td id=\"T_f6e6b_row5_col6\" class=\"data row5 col6\" >0.04</td>\n",
       "      <td id=\"T_f6e6b_row5_col7\" class=\"data row5 col7\" >-0.03</td>\n",
       "      <td id=\"T_f6e6b_row5_col8\" class=\"data row5 col8\" >-0.07</td>\n",
       "      <td id=\"T_f6e6b_row5_col9\" class=\"data row5 col9\" >-0.02</td>\n",
       "      <td id=\"T_f6e6b_row5_col10\" class=\"data row5 col10\" >-0.01</td>\n",
       "      <td id=\"T_f6e6b_row5_col11\" class=\"data row5 col11\" >0.01</td>\n",
       "      <td id=\"T_f6e6b_row5_col12\" class=\"data row5 col12\" >-0.01</td>\n",
       "      <td id=\"T_f6e6b_row5_col13\" class=\"data row5 col13\" >-0.01</td>\n",
       "      <td id=\"T_f6e6b_row5_col14\" class=\"data row5 col14\" >0.00</td>\n",
       "      <td id=\"T_f6e6b_row5_col15\" class=\"data row5 col15\" >0.04</td>\n",
       "      <td id=\"T_f6e6b_row5_col16\" class=\"data row5 col16\" >-0.01</td>\n",
       "      <td id=\"T_f6e6b_row5_col17\" class=\"data row5 col17\" >-0.00</td>\n",
       "      <td id=\"T_f6e6b_row5_col18\" class=\"data row5 col18\" >-0.00</td>\n",
       "      <td id=\"T_f6e6b_row5_col19\" class=\"data row5 col19\" >-0.03</td>\n",
       "      <td id=\"T_f6e6b_row5_col20\" class=\"data row5 col20\" >-0.03</td>\n",
       "      <td id=\"T_f6e6b_row5_col21\" class=\"data row5 col21\" >-0.03</td>\n",
       "      <td id=\"T_f6e6b_row5_col22\" class=\"data row5 col22\" >-0.03</td>\n",
       "      <td id=\"T_f6e6b_row5_col23\" class=\"data row5 col23\" >-0.02</td>\n",
       "    </tr>\n",
       "    <tr>\n",
       "      <th id=\"T_f6e6b_level0_row6\" class=\"row_heading level0 row6\" >JobInvolvement</th>\n",
       "      <td id=\"T_f6e6b_row6_col0\" class=\"data row6 col0\" >0.03</td>\n",
       "      <td id=\"T_f6e6b_row6_col1\" class=\"data row6 col1\" >0.04</td>\n",
       "      <td id=\"T_f6e6b_row6_col2\" class=\"data row6 col2\" >0.01</td>\n",
       "      <td id=\"T_f6e6b_row6_col3\" class=\"data row6 col3\" >0.06</td>\n",
       "      <td id=\"T_f6e6b_row6_col4\" class=\"data row6 col4\" >-0.01</td>\n",
       "      <td id=\"T_f6e6b_row6_col5\" class=\"data row6 col5\" >0.04</td>\n",
       "      <td id=\"T_f6e6b_row6_col6\" class=\"data row6 col6\" >1.00</td>\n",
       "      <td id=\"T_f6e6b_row6_col7\" class=\"data row6 col7\" >-0.01</td>\n",
       "      <td id=\"T_f6e6b_row6_col8\" class=\"data row6 col8\" >-0.03</td>\n",
       "      <td id=\"T_f6e6b_row6_col9\" class=\"data row6 col9\" >-0.01</td>\n",
       "      <td id=\"T_f6e6b_row6_col10\" class=\"data row6 col10\" >0.00</td>\n",
       "      <td id=\"T_f6e6b_row6_col11\" class=\"data row6 col11\" >0.01</td>\n",
       "      <td id=\"T_f6e6b_row6_col12\" class=\"data row6 col12\" >-0.02</td>\n",
       "      <td id=\"T_f6e6b_row6_col13\" class=\"data row6 col13\" >-0.03</td>\n",
       "      <td id=\"T_f6e6b_row6_col14\" class=\"data row6 col14\" >0.04</td>\n",
       "      <td id=\"T_f6e6b_row6_col15\" class=\"data row6 col15\" >0.02</td>\n",
       "      <td id=\"T_f6e6b_row6_col16\" class=\"data row6 col16\" >-0.00</td>\n",
       "      <td id=\"T_f6e6b_row6_col17\" class=\"data row6 col17\" >-0.02</td>\n",
       "      <td id=\"T_f6e6b_row6_col18\" class=\"data row6 col18\" >-0.01</td>\n",
       "      <td id=\"T_f6e6b_row6_col19\" class=\"data row6 col19\" >-0.00</td>\n",
       "      <td id=\"T_f6e6b_row6_col20\" class=\"data row6 col20\" >0.01</td>\n",
       "      <td id=\"T_f6e6b_row6_col21\" class=\"data row6 col21\" >-0.02</td>\n",
       "      <td id=\"T_f6e6b_row6_col22\" class=\"data row6 col22\" >0.04</td>\n",
       "      <td id=\"T_f6e6b_row6_col23\" class=\"data row6 col23\" >-0.01</td>\n",
       "    </tr>\n",
       "    <tr>\n",
       "      <th id=\"T_f6e6b_level0_row7\" class=\"row_heading level0 row7\" >JobLevel</th>\n",
       "      <td id=\"T_f6e6b_row7_col0\" class=\"data row7 col0\" >0.49</td>\n",
       "      <td id=\"T_f6e6b_row7_col1\" class=\"data row7 col1\" >0.01</td>\n",
       "      <td id=\"T_f6e6b_row7_col2\" class=\"data row7 col2\" >0.01</td>\n",
       "      <td id=\"T_f6e6b_row7_col3\" class=\"data row7 col3\" >0.10</td>\n",
       "      <td id=\"T_f6e6b_row7_col4\" class=\"data row7 col4\" >-0.00</td>\n",
       "      <td id=\"T_f6e6b_row7_col5\" class=\"data row7 col5\" >-0.03</td>\n",
       "      <td id=\"T_f6e6b_row7_col6\" class=\"data row7 col6\" >-0.01</td>\n",
       "      <td id=\"T_f6e6b_row7_col7\" class=\"data row7 col7\" >1.00</td>\n",
       "      <td id=\"T_f6e6b_row7_col8\" class=\"data row7 col8\" >-0.01</td>\n",
       "      <td id=\"T_f6e6b_row7_col9\" class=\"data row7 col9\" >0.95</td>\n",
       "      <td id=\"T_f6e6b_row7_col10\" class=\"data row7 col10\" >0.04</td>\n",
       "      <td id=\"T_f6e6b_row7_col11\" class=\"data row7 col11\" >0.15</td>\n",
       "      <td id=\"T_f6e6b_row7_col12\" class=\"data row7 col12\" >-0.04</td>\n",
       "      <td id=\"T_f6e6b_row7_col13\" class=\"data row7 col13\" >-0.03</td>\n",
       "      <td id=\"T_f6e6b_row7_col14\" class=\"data row7 col14\" >0.03</td>\n",
       "      <td id=\"T_f6e6b_row7_col15\" class=\"data row7 col15\" >0.01</td>\n",
       "      <td id=\"T_f6e6b_row7_col16\" class=\"data row7 col16\" >0.77</td>\n",
       "      <td id=\"T_f6e6b_row7_col17\" class=\"data row7 col17\" >-0.03</td>\n",
       "      <td id=\"T_f6e6b_row7_col18\" class=\"data row7 col18\" >0.05</td>\n",
       "      <td id=\"T_f6e6b_row7_col19\" class=\"data row7 col19\" >0.52</td>\n",
       "      <td id=\"T_f6e6b_row7_col20\" class=\"data row7 col20\" >0.37</td>\n",
       "      <td id=\"T_f6e6b_row7_col21\" class=\"data row7 col21\" >0.34</td>\n",
       "      <td id=\"T_f6e6b_row7_col22\" class=\"data row7 col22\" >0.36</td>\n",
       "      <td id=\"T_f6e6b_row7_col23\" class=\"data row7 col23\" >0.95</td>\n",
       "    </tr>\n",
       "    <tr>\n",
       "      <th id=\"T_f6e6b_level0_row8\" class=\"row_heading level0 row8\" >JobSatisfaction</th>\n",
       "      <td id=\"T_f6e6b_row8_col0\" class=\"data row8 col0\" >-0.00</td>\n",
       "      <td id=\"T_f6e6b_row8_col1\" class=\"data row8 col1\" >0.03</td>\n",
       "      <td id=\"T_f6e6b_row8_col2\" class=\"data row8 col2\" >-0.01</td>\n",
       "      <td id=\"T_f6e6b_row8_col3\" class=\"data row8 col3\" >-0.02</td>\n",
       "      <td id=\"T_f6e6b_row8_col4\" class=\"data row8 col4\" >0.00</td>\n",
       "      <td id=\"T_f6e6b_row8_col5\" class=\"data row8 col5\" >-0.07</td>\n",
       "      <td id=\"T_f6e6b_row8_col6\" class=\"data row8 col6\" >-0.03</td>\n",
       "      <td id=\"T_f6e6b_row8_col7\" class=\"data row8 col7\" >-0.01</td>\n",
       "      <td id=\"T_f6e6b_row8_col8\" class=\"data row8 col8\" >1.00</td>\n",
       "      <td id=\"T_f6e6b_row8_col9\" class=\"data row8 col9\" >-0.01</td>\n",
       "      <td id=\"T_f6e6b_row8_col10\" class=\"data row8 col10\" >0.01</td>\n",
       "      <td id=\"T_f6e6b_row8_col11\" class=\"data row8 col11\" >-0.06</td>\n",
       "      <td id=\"T_f6e6b_row8_col12\" class=\"data row8 col12\" >0.02</td>\n",
       "      <td id=\"T_f6e6b_row8_col13\" class=\"data row8 col13\" >0.01</td>\n",
       "      <td id=\"T_f6e6b_row8_col14\" class=\"data row8 col14\" >0.00</td>\n",
       "      <td id=\"T_f6e6b_row8_col15\" class=\"data row8 col15\" >0.02</td>\n",
       "      <td id=\"T_f6e6b_row8_col16\" class=\"data row8 col16\" >-0.03</td>\n",
       "      <td id=\"T_f6e6b_row8_col17\" class=\"data row8 col17\" >-0.00</td>\n",
       "      <td id=\"T_f6e6b_row8_col18\" class=\"data row8 col18\" >-0.01</td>\n",
       "      <td id=\"T_f6e6b_row8_col19\" class=\"data row8 col19\" >-0.02</td>\n",
       "      <td id=\"T_f6e6b_row8_col20\" class=\"data row8 col20\" >-0.01</td>\n",
       "      <td id=\"T_f6e6b_row8_col21\" class=\"data row8 col21\" >-0.02</td>\n",
       "      <td id=\"T_f6e6b_row8_col22\" class=\"data row8 col22\" >-0.04</td>\n",
       "      <td id=\"T_f6e6b_row8_col23\" class=\"data row8 col23\" >-0.01</td>\n",
       "    </tr>\n",
       "    <tr>\n",
       "      <th id=\"T_f6e6b_level0_row9\" class=\"row_heading level0 row9\" >MonthlyIncome</th>\n",
       "      <td id=\"T_f6e6b_row9_col0\" class=\"data row9 col0\" >0.48</td>\n",
       "      <td id=\"T_f6e6b_row9_col1\" class=\"data row9 col1\" >0.02</td>\n",
       "      <td id=\"T_f6e6b_row9_col2\" class=\"data row9 col2\" >-0.02</td>\n",
       "      <td id=\"T_f6e6b_row9_col3\" class=\"data row9 col3\" >0.10</td>\n",
       "      <td id=\"T_f6e6b_row9_col4\" class=\"data row9 col4\" >-0.01</td>\n",
       "      <td id=\"T_f6e6b_row9_col5\" class=\"data row9 col5\" >-0.02</td>\n",
       "      <td id=\"T_f6e6b_row9_col6\" class=\"data row9 col6\" >-0.01</td>\n",
       "      <td id=\"T_f6e6b_row9_col7\" class=\"data row9 col7\" >0.95</td>\n",
       "      <td id=\"T_f6e6b_row9_col8\" class=\"data row9 col8\" >-0.01</td>\n",
       "      <td id=\"T_f6e6b_row9_col9\" class=\"data row9 col9\" >1.00</td>\n",
       "      <td id=\"T_f6e6b_row9_col10\" class=\"data row9 col10\" >0.04</td>\n",
       "      <td id=\"T_f6e6b_row9_col11\" class=\"data row9 col11\" >0.16</td>\n",
       "      <td id=\"T_f6e6b_row9_col12\" class=\"data row9 col12\" >-0.03</td>\n",
       "      <td id=\"T_f6e6b_row9_col13\" class=\"data row9 col13\" >-0.02</td>\n",
       "      <td id=\"T_f6e6b_row9_col14\" class=\"data row9 col14\" >0.03</td>\n",
       "      <td id=\"T_f6e6b_row9_col15\" class=\"data row9 col15\" >0.00</td>\n",
       "      <td id=\"T_f6e6b_row9_col16\" class=\"data row9 col16\" >0.76</td>\n",
       "      <td id=\"T_f6e6b_row9_col17\" class=\"data row9 col17\" >-0.03</td>\n",
       "      <td id=\"T_f6e6b_row9_col18\" class=\"data row9 col18\" >0.04</td>\n",
       "      <td id=\"T_f6e6b_row9_col19\" class=\"data row9 col19\" >0.50</td>\n",
       "      <td id=\"T_f6e6b_row9_col20\" class=\"data row9 col20\" >0.35</td>\n",
       "      <td id=\"T_f6e6b_row9_col21\" class=\"data row9 col21\" >0.34</td>\n",
       "      <td id=\"T_f6e6b_row9_col22\" class=\"data row9 col22\" >0.33</td>\n",
       "      <td id=\"T_f6e6b_row9_col23\" class=\"data row9 col23\" >1.00</td>\n",
       "    </tr>\n",
       "    <tr>\n",
       "      <th id=\"T_f6e6b_level0_row10\" class=\"row_heading level0 row10\" >MonthlyRate</th>\n",
       "      <td id=\"T_f6e6b_row10_col0\" class=\"data row10 col0\" >0.02</td>\n",
       "      <td id=\"T_f6e6b_row10_col1\" class=\"data row10 col1\" >-0.04</td>\n",
       "      <td id=\"T_f6e6b_row10_col2\" class=\"data row10 col2\" >0.02</td>\n",
       "      <td id=\"T_f6e6b_row10_col3\" class=\"data row10 col3\" >-0.04</td>\n",
       "      <td id=\"T_f6e6b_row10_col4\" class=\"data row10 col4\" >0.04</td>\n",
       "      <td id=\"T_f6e6b_row10_col5\" class=\"data row10 col5\" >-0.01</td>\n",
       "      <td id=\"T_f6e6b_row10_col6\" class=\"data row10 col6\" >0.00</td>\n",
       "      <td id=\"T_f6e6b_row10_col7\" class=\"data row10 col7\" >0.04</td>\n",
       "      <td id=\"T_f6e6b_row10_col8\" class=\"data row10 col8\" >0.01</td>\n",
       "      <td id=\"T_f6e6b_row10_col9\" class=\"data row10 col9\" >0.04</td>\n",
       "      <td id=\"T_f6e6b_row10_col10\" class=\"data row10 col10\" >1.00</td>\n",
       "      <td id=\"T_f6e6b_row10_col11\" class=\"data row10 col11\" >0.02</td>\n",
       "      <td id=\"T_f6e6b_row10_col12\" class=\"data row10 col12\" >-0.01</td>\n",
       "      <td id=\"T_f6e6b_row10_col13\" class=\"data row10 col13\" >-0.01</td>\n",
       "      <td id=\"T_f6e6b_row10_col14\" class=\"data row10 col14\" >-0.00</td>\n",
       "      <td id=\"T_f6e6b_row10_col15\" class=\"data row10 col15\" >-0.04</td>\n",
       "      <td id=\"T_f6e6b_row10_col16\" class=\"data row10 col16\" >0.03</td>\n",
       "      <td id=\"T_f6e6b_row10_col17\" class=\"data row10 col17\" >-0.01</td>\n",
       "      <td id=\"T_f6e6b_row10_col18\" class=\"data row10 col18\" >0.02</td>\n",
       "      <td id=\"T_f6e6b_row10_col19\" class=\"data row10 col19\" >-0.02</td>\n",
       "      <td id=\"T_f6e6b_row10_col20\" class=\"data row10 col20\" >-0.01</td>\n",
       "      <td id=\"T_f6e6b_row10_col21\" class=\"data row10 col21\" >0.02</td>\n",
       "      <td id=\"T_f6e6b_row10_col22\" class=\"data row10 col22\" >-0.04</td>\n",
       "      <td id=\"T_f6e6b_row10_col23\" class=\"data row10 col23\" >0.04</td>\n",
       "    </tr>\n",
       "    <tr>\n",
       "      <th id=\"T_f6e6b_level0_row11\" class=\"row_heading level0 row11\" >NumCompaniesWorked</th>\n",
       "      <td id=\"T_f6e6b_row11_col0\" class=\"data row11 col0\" >0.29</td>\n",
       "      <td id=\"T_f6e6b_row11_col1\" class=\"data row11 col1\" >0.05</td>\n",
       "      <td id=\"T_f6e6b_row11_col2\" class=\"data row11 col2\" >-0.03</td>\n",
       "      <td id=\"T_f6e6b_row11_col3\" class=\"data row11 col3\" >0.13</td>\n",
       "      <td id=\"T_f6e6b_row11_col4\" class=\"data row11 col4\" >0.02</td>\n",
       "      <td id=\"T_f6e6b_row11_col5\" class=\"data row11 col5\" >0.01</td>\n",
       "      <td id=\"T_f6e6b_row11_col6\" class=\"data row11 col6\" >0.01</td>\n",
       "      <td id=\"T_f6e6b_row11_col7\" class=\"data row11 col7\" >0.15</td>\n",
       "      <td id=\"T_f6e6b_row11_col8\" class=\"data row11 col8\" >-0.06</td>\n",
       "      <td id=\"T_f6e6b_row11_col9\" class=\"data row11 col9\" >0.16</td>\n",
       "      <td id=\"T_f6e6b_row11_col10\" class=\"data row11 col10\" >0.02</td>\n",
       "      <td id=\"T_f6e6b_row11_col11\" class=\"data row11 col11\" >1.00</td>\n",
       "      <td id=\"T_f6e6b_row11_col12\" class=\"data row11 col12\" >-0.01</td>\n",
       "      <td id=\"T_f6e6b_row11_col13\" class=\"data row11 col13\" >-0.02</td>\n",
       "      <td id=\"T_f6e6b_row11_col14\" class=\"data row11 col14\" >0.06</td>\n",
       "      <td id=\"T_f6e6b_row11_col15\" class=\"data row11 col15\" >0.01</td>\n",
       "      <td id=\"T_f6e6b_row11_col16\" class=\"data row11 col16\" >0.24</td>\n",
       "      <td id=\"T_f6e6b_row11_col17\" class=\"data row11 col17\" >-0.06</td>\n",
       "      <td id=\"T_f6e6b_row11_col18\" class=\"data row11 col18\" >-0.00</td>\n",
       "      <td id=\"T_f6e6b_row11_col19\" class=\"data row11 col19\" >-0.10</td>\n",
       "      <td id=\"T_f6e6b_row11_col20\" class=\"data row11 col20\" >-0.09</td>\n",
       "      <td id=\"T_f6e6b_row11_col21\" class=\"data row11 col21\" >-0.02</td>\n",
       "      <td id=\"T_f6e6b_row11_col22\" class=\"data row11 col22\" >-0.11</td>\n",
       "      <td id=\"T_f6e6b_row11_col23\" class=\"data row11 col23\" >0.16</td>\n",
       "    </tr>\n",
       "    <tr>\n",
       "      <th id=\"T_f6e6b_level0_row12\" class=\"row_heading level0 row12\" >PercentSalaryHike</th>\n",
       "      <td id=\"T_f6e6b_row12_col0\" class=\"data row12 col0\" >0.00</td>\n",
       "      <td id=\"T_f6e6b_row12_col1\" class=\"data row12 col1\" >0.03</td>\n",
       "      <td id=\"T_f6e6b_row12_col2\" class=\"data row12 col2\" >0.03</td>\n",
       "      <td id=\"T_f6e6b_row12_col3\" class=\"data row12 col3\" >-0.01</td>\n",
       "      <td id=\"T_f6e6b_row12_col4\" class=\"data row12 col4\" >-0.03</td>\n",
       "      <td id=\"T_f6e6b_row12_col5\" class=\"data row12 col5\" >-0.01</td>\n",
       "      <td id=\"T_f6e6b_row12_col6\" class=\"data row12 col6\" >-0.02</td>\n",
       "      <td id=\"T_f6e6b_row12_col7\" class=\"data row12 col7\" >-0.04</td>\n",
       "      <td id=\"T_f6e6b_row12_col8\" class=\"data row12 col8\" >0.02</td>\n",
       "      <td id=\"T_f6e6b_row12_col9\" class=\"data row12 col9\" >-0.03</td>\n",
       "      <td id=\"T_f6e6b_row12_col10\" class=\"data row12 col10\" >-0.01</td>\n",
       "      <td id=\"T_f6e6b_row12_col11\" class=\"data row12 col11\" >-0.01</td>\n",
       "      <td id=\"T_f6e6b_row12_col12\" class=\"data row12 col12\" >1.00</td>\n",
       "      <td id=\"T_f6e6b_row12_col13\" class=\"data row12 col13\" >0.77</td>\n",
       "      <td id=\"T_f6e6b_row12_col14\" class=\"data row12 col14\" >-0.03</td>\n",
       "      <td id=\"T_f6e6b_row12_col15\" class=\"data row12 col15\" >0.01</td>\n",
       "      <td id=\"T_f6e6b_row12_col16\" class=\"data row12 col16\" >-0.02</td>\n",
       "      <td id=\"T_f6e6b_row12_col17\" class=\"data row12 col17\" >-0.00</td>\n",
       "      <td id=\"T_f6e6b_row12_col18\" class=\"data row12 col18\" >0.01</td>\n",
       "      <td id=\"T_f6e6b_row12_col19\" class=\"data row12 col19\" >-0.03</td>\n",
       "      <td id=\"T_f6e6b_row12_col20\" class=\"data row12 col20\" >-0.01</td>\n",
       "      <td id=\"T_f6e6b_row12_col21\" class=\"data row12 col21\" >-0.03</td>\n",
       "      <td id=\"T_f6e6b_row12_col22\" class=\"data row12 col22\" >-0.02</td>\n",
       "      <td id=\"T_f6e6b_row12_col23\" class=\"data row12 col23\" >-0.03</td>\n",
       "    </tr>\n",
       "    <tr>\n",
       "      <th id=\"T_f6e6b_level0_row13\" class=\"row_heading level0 row13\" >PerformanceRating</th>\n",
       "      <td id=\"T_f6e6b_row13_col0\" class=\"data row13 col0\" >-0.00</td>\n",
       "      <td id=\"T_f6e6b_row13_col1\" class=\"data row13 col1\" >0.01</td>\n",
       "      <td id=\"T_f6e6b_row13_col2\" class=\"data row13 col2\" >0.02</td>\n",
       "      <td id=\"T_f6e6b_row13_col3\" class=\"data row13 col3\" >-0.03</td>\n",
       "      <td id=\"T_f6e6b_row13_col4\" class=\"data row13 col4\" >-0.02</td>\n",
       "      <td id=\"T_f6e6b_row13_col5\" class=\"data row13 col5\" >-0.01</td>\n",
       "      <td id=\"T_f6e6b_row13_col6\" class=\"data row13 col6\" >-0.03</td>\n",
       "      <td id=\"T_f6e6b_row13_col7\" class=\"data row13 col7\" >-0.03</td>\n",
       "      <td id=\"T_f6e6b_row13_col8\" class=\"data row13 col8\" >0.01</td>\n",
       "      <td id=\"T_f6e6b_row13_col9\" class=\"data row13 col9\" >-0.02</td>\n",
       "      <td id=\"T_f6e6b_row13_col10\" class=\"data row13 col10\" >-0.01</td>\n",
       "      <td id=\"T_f6e6b_row13_col11\" class=\"data row13 col11\" >-0.02</td>\n",
       "      <td id=\"T_f6e6b_row13_col12\" class=\"data row13 col12\" >0.77</td>\n",
       "      <td id=\"T_f6e6b_row13_col13\" class=\"data row13 col13\" >1.00</td>\n",
       "      <td id=\"T_f6e6b_row13_col14\" class=\"data row13 col14\" >-0.02</td>\n",
       "      <td id=\"T_f6e6b_row13_col15\" class=\"data row13 col15\" >0.01</td>\n",
       "      <td id=\"T_f6e6b_row13_col16\" class=\"data row13 col16\" >0.00</td>\n",
       "      <td id=\"T_f6e6b_row13_col17\" class=\"data row13 col17\" >-0.01</td>\n",
       "      <td id=\"T_f6e6b_row13_col18\" class=\"data row13 col18\" >0.01</td>\n",
       "      <td id=\"T_f6e6b_row13_col19\" class=\"data row13 col19\" >0.01</td>\n",
       "      <td id=\"T_f6e6b_row13_col20\" class=\"data row13 col20\" >0.03</td>\n",
       "      <td id=\"T_f6e6b_row13_col21\" class=\"data row13 col21\" >0.02</td>\n",
       "      <td id=\"T_f6e6b_row13_col22\" class=\"data row13 col22\" >0.02</td>\n",
       "      <td id=\"T_f6e6b_row13_col23\" class=\"data row13 col23\" >-0.02</td>\n",
       "    </tr>\n",
       "    <tr>\n",
       "      <th id=\"T_f6e6b_level0_row14\" class=\"row_heading level0 row14\" >RelationshipSatisfaction</th>\n",
       "      <td id=\"T_f6e6b_row14_col0\" class=\"data row14 col0\" >0.07</td>\n",
       "      <td id=\"T_f6e6b_row14_col1\" class=\"data row14 col1\" >0.01</td>\n",
       "      <td id=\"T_f6e6b_row14_col2\" class=\"data row14 col2\" >0.01</td>\n",
       "      <td id=\"T_f6e6b_row14_col3\" class=\"data row14 col3\" >0.00</td>\n",
       "      <td id=\"T_f6e6b_row14_col4\" class=\"data row14 col4\" >0.01</td>\n",
       "      <td id=\"T_f6e6b_row14_col5\" class=\"data row14 col5\" >0.00</td>\n",
       "      <td id=\"T_f6e6b_row14_col6\" class=\"data row14 col6\" >0.04</td>\n",
       "      <td id=\"T_f6e6b_row14_col7\" class=\"data row14 col7\" >0.03</td>\n",
       "      <td id=\"T_f6e6b_row14_col8\" class=\"data row14 col8\" >0.00</td>\n",
       "      <td id=\"T_f6e6b_row14_col9\" class=\"data row14 col9\" >0.03</td>\n",
       "      <td id=\"T_f6e6b_row14_col10\" class=\"data row14 col10\" >-0.00</td>\n",
       "      <td id=\"T_f6e6b_row14_col11\" class=\"data row14 col11\" >0.06</td>\n",
       "      <td id=\"T_f6e6b_row14_col12\" class=\"data row14 col12\" >-0.03</td>\n",
       "      <td id=\"T_f6e6b_row14_col13\" class=\"data row14 col13\" >-0.02</td>\n",
       "      <td id=\"T_f6e6b_row14_col14\" class=\"data row14 col14\" >1.00</td>\n",
       "      <td id=\"T_f6e6b_row14_col15\" class=\"data row14 col15\" >-0.05</td>\n",
       "      <td id=\"T_f6e6b_row14_col16\" class=\"data row14 col16\" >0.04</td>\n",
       "      <td id=\"T_f6e6b_row14_col17\" class=\"data row14 col17\" >0.00</td>\n",
       "      <td id=\"T_f6e6b_row14_col18\" class=\"data row14 col18\" >0.02</td>\n",
       "      <td id=\"T_f6e6b_row14_col19\" class=\"data row14 col19\" >0.02</td>\n",
       "      <td id=\"T_f6e6b_row14_col20\" class=\"data row14 col20\" >-0.02</td>\n",
       "      <td id=\"T_f6e6b_row14_col21\" class=\"data row14 col21\" >0.03</td>\n",
       "      <td id=\"T_f6e6b_row14_col22\" class=\"data row14 col22\" >0.01</td>\n",
       "      <td id=\"T_f6e6b_row14_col23\" class=\"data row14 col23\" >0.03</td>\n",
       "    </tr>\n",
       "    <tr>\n",
       "      <th id=\"T_f6e6b_level0_row15\" class=\"row_heading level0 row15\" >StockOptionLevel</th>\n",
       "      <td id=\"T_f6e6b_row15_col0\" class=\"data row15 col0\" >0.04</td>\n",
       "      <td id=\"T_f6e6b_row15_col1\" class=\"data row15 col1\" >0.04</td>\n",
       "      <td id=\"T_f6e6b_row15_col2\" class=\"data row15 col2\" >0.04</td>\n",
       "      <td id=\"T_f6e6b_row15_col3\" class=\"data row15 col3\" >0.02</td>\n",
       "      <td id=\"T_f6e6b_row15_col4\" class=\"data row15 col4\" >-0.00</td>\n",
       "      <td id=\"T_f6e6b_row15_col5\" class=\"data row15 col5\" >0.04</td>\n",
       "      <td id=\"T_f6e6b_row15_col6\" class=\"data row15 col6\" >0.02</td>\n",
       "      <td id=\"T_f6e6b_row15_col7\" class=\"data row15 col7\" >0.01</td>\n",
       "      <td id=\"T_f6e6b_row15_col8\" class=\"data row15 col8\" >0.02</td>\n",
       "      <td id=\"T_f6e6b_row15_col9\" class=\"data row15 col9\" >0.00</td>\n",
       "      <td id=\"T_f6e6b_row15_col10\" class=\"data row15 col10\" >-0.04</td>\n",
       "      <td id=\"T_f6e6b_row15_col11\" class=\"data row15 col11\" >0.01</td>\n",
       "      <td id=\"T_f6e6b_row15_col12\" class=\"data row15 col12\" >0.01</td>\n",
       "      <td id=\"T_f6e6b_row15_col13\" class=\"data row15 col13\" >0.01</td>\n",
       "      <td id=\"T_f6e6b_row15_col14\" class=\"data row15 col14\" >-0.05</td>\n",
       "      <td id=\"T_f6e6b_row15_col15\" class=\"data row15 col15\" >1.00</td>\n",
       "      <td id=\"T_f6e6b_row15_col16\" class=\"data row15 col16\" >0.00</td>\n",
       "      <td id=\"T_f6e6b_row15_col17\" class=\"data row15 col17\" >0.02</td>\n",
       "      <td id=\"T_f6e6b_row15_col18\" class=\"data row15 col18\" >0.01</td>\n",
       "      <td id=\"T_f6e6b_row15_col19\" class=\"data row15 col19\" >0.00</td>\n",
       "      <td id=\"T_f6e6b_row15_col20\" class=\"data row15 col20\" >0.03</td>\n",
       "      <td id=\"T_f6e6b_row15_col21\" class=\"data row15 col21\" >0.01</td>\n",
       "      <td id=\"T_f6e6b_row15_col22\" class=\"data row15 col22\" >0.01</td>\n",
       "      <td id=\"T_f6e6b_row15_col23\" class=\"data row15 col23\" >0.00</td>\n",
       "    </tr>\n",
       "    <tr>\n",
       "      <th id=\"T_f6e6b_level0_row16\" class=\"row_heading level0 row16\" >TotalWorkingYears</th>\n",
       "      <td id=\"T_f6e6b_row16_col0\" class=\"data row16 col0\" >0.64</td>\n",
       "      <td id=\"T_f6e6b_row16_col1\" class=\"data row16 col1\" >0.02</td>\n",
       "      <td id=\"T_f6e6b_row16_col2\" class=\"data row16 col2\" >0.01</td>\n",
       "      <td id=\"T_f6e6b_row16_col3\" class=\"data row16 col3\" >0.15</td>\n",
       "      <td id=\"T_f6e6b_row16_col4\" class=\"data row16 col4\" >-0.02</td>\n",
       "      <td id=\"T_f6e6b_row16_col5\" class=\"data row16 col5\" >-0.01</td>\n",
       "      <td id=\"T_f6e6b_row16_col6\" class=\"data row16 col6\" >-0.00</td>\n",
       "      <td id=\"T_f6e6b_row16_col7\" class=\"data row16 col7\" >0.77</td>\n",
       "      <td id=\"T_f6e6b_row16_col8\" class=\"data row16 col8\" >-0.03</td>\n",
       "      <td id=\"T_f6e6b_row16_col9\" class=\"data row16 col9\" >0.76</td>\n",
       "      <td id=\"T_f6e6b_row16_col10\" class=\"data row16 col10\" >0.03</td>\n",
       "      <td id=\"T_f6e6b_row16_col11\" class=\"data row16 col11\" >0.24</td>\n",
       "      <td id=\"T_f6e6b_row16_col12\" class=\"data row16 col12\" >-0.02</td>\n",
       "      <td id=\"T_f6e6b_row16_col13\" class=\"data row16 col13\" >0.00</td>\n",
       "      <td id=\"T_f6e6b_row16_col14\" class=\"data row16 col14\" >0.04</td>\n",
       "      <td id=\"T_f6e6b_row16_col15\" class=\"data row16 col15\" >0.00</td>\n",
       "      <td id=\"T_f6e6b_row16_col16\" class=\"data row16 col16\" >1.00</td>\n",
       "      <td id=\"T_f6e6b_row16_col17\" class=\"data row16 col17\" >-0.04</td>\n",
       "      <td id=\"T_f6e6b_row16_col18\" class=\"data row16 col18\" >0.02</td>\n",
       "      <td id=\"T_f6e6b_row16_col19\" class=\"data row16 col19\" >0.59</td>\n",
       "      <td id=\"T_f6e6b_row16_col20\" class=\"data row16 col20\" >0.43</td>\n",
       "      <td id=\"T_f6e6b_row16_col21\" class=\"data row16 col21\" >0.38</td>\n",
       "      <td id=\"T_f6e6b_row16_col22\" class=\"data row16 col22\" >0.43</td>\n",
       "      <td id=\"T_f6e6b_row16_col23\" class=\"data row16 col23\" >0.76</td>\n",
       "    </tr>\n",
       "    <tr>\n",
       "      <th id=\"T_f6e6b_level0_row17\" class=\"row_heading level0 row17\" >TrainingTimesLastYear</th>\n",
       "      <td id=\"T_f6e6b_row17_col0\" class=\"data row17 col0\" >-0.03</td>\n",
       "      <td id=\"T_f6e6b_row17_col1\" class=\"data row17 col1\" >0.00</td>\n",
       "      <td id=\"T_f6e6b_row17_col2\" class=\"data row17 col2\" >-0.05</td>\n",
       "      <td id=\"T_f6e6b_row17_col3\" class=\"data row17 col3\" >-0.03</td>\n",
       "      <td id=\"T_f6e6b_row17_col4\" class=\"data row17 col4\" >-0.02</td>\n",
       "      <td id=\"T_f6e6b_row17_col5\" class=\"data row17 col5\" >-0.00</td>\n",
       "      <td id=\"T_f6e6b_row17_col6\" class=\"data row17 col6\" >-0.02</td>\n",
       "      <td id=\"T_f6e6b_row17_col7\" class=\"data row17 col7\" >-0.03</td>\n",
       "      <td id=\"T_f6e6b_row17_col8\" class=\"data row17 col8\" >-0.00</td>\n",
       "      <td id=\"T_f6e6b_row17_col9\" class=\"data row17 col9\" >-0.03</td>\n",
       "      <td id=\"T_f6e6b_row17_col10\" class=\"data row17 col10\" >-0.01</td>\n",
       "      <td id=\"T_f6e6b_row17_col11\" class=\"data row17 col11\" >-0.06</td>\n",
       "      <td id=\"T_f6e6b_row17_col12\" class=\"data row17 col12\" >-0.00</td>\n",
       "      <td id=\"T_f6e6b_row17_col13\" class=\"data row17 col13\" >-0.01</td>\n",
       "      <td id=\"T_f6e6b_row17_col14\" class=\"data row17 col14\" >0.00</td>\n",
       "      <td id=\"T_f6e6b_row17_col15\" class=\"data row17 col15\" >0.02</td>\n",
       "      <td id=\"T_f6e6b_row17_col16\" class=\"data row17 col16\" >-0.04</td>\n",
       "      <td id=\"T_f6e6b_row17_col17\" class=\"data row17 col17\" >1.00</td>\n",
       "      <td id=\"T_f6e6b_row17_col18\" class=\"data row17 col18\" >0.03</td>\n",
       "      <td id=\"T_f6e6b_row17_col19\" class=\"data row17 col19\" >-0.00</td>\n",
       "      <td id=\"T_f6e6b_row17_col20\" class=\"data row17 col20\" >-0.02</td>\n",
       "      <td id=\"T_f6e6b_row17_col21\" class=\"data row17 col21\" >-0.01</td>\n",
       "      <td id=\"T_f6e6b_row17_col22\" class=\"data row17 col22\" >-0.02</td>\n",
       "      <td id=\"T_f6e6b_row17_col23\" class=\"data row17 col23\" >-0.03</td>\n",
       "    </tr>\n",
       "    <tr>\n",
       "      <th id=\"T_f6e6b_level0_row18\" class=\"row_heading level0 row18\" >WorkLifeBalance</th>\n",
       "      <td id=\"T_f6e6b_row18_col0\" class=\"data row18 col0\" >-0.01</td>\n",
       "      <td id=\"T_f6e6b_row18_col1\" class=\"data row18 col1\" >-0.04</td>\n",
       "      <td id=\"T_f6e6b_row18_col2\" class=\"data row18 col2\" >-0.02</td>\n",
       "      <td id=\"T_f6e6b_row18_col3\" class=\"data row18 col3\" >0.00</td>\n",
       "      <td id=\"T_f6e6b_row18_col4\" class=\"data row18 col4\" >0.03</td>\n",
       "      <td id=\"T_f6e6b_row18_col5\" class=\"data row18 col5\" >-0.00</td>\n",
       "      <td id=\"T_f6e6b_row18_col6\" class=\"data row18 col6\" >-0.01</td>\n",
       "      <td id=\"T_f6e6b_row18_col7\" class=\"data row18 col7\" >0.05</td>\n",
       "      <td id=\"T_f6e6b_row18_col8\" class=\"data row18 col8\" >-0.01</td>\n",
       "      <td id=\"T_f6e6b_row18_col9\" class=\"data row18 col9\" >0.04</td>\n",
       "      <td id=\"T_f6e6b_row18_col10\" class=\"data row18 col10\" >0.02</td>\n",
       "      <td id=\"T_f6e6b_row18_col11\" class=\"data row18 col11\" >-0.00</td>\n",
       "      <td id=\"T_f6e6b_row18_col12\" class=\"data row18 col12\" >0.01</td>\n",
       "      <td id=\"T_f6e6b_row18_col13\" class=\"data row18 col13\" >0.01</td>\n",
       "      <td id=\"T_f6e6b_row18_col14\" class=\"data row18 col14\" >0.02</td>\n",
       "      <td id=\"T_f6e6b_row18_col15\" class=\"data row18 col15\" >0.01</td>\n",
       "      <td id=\"T_f6e6b_row18_col16\" class=\"data row18 col16\" >0.02</td>\n",
       "      <td id=\"T_f6e6b_row18_col17\" class=\"data row18 col17\" >0.03</td>\n",
       "      <td id=\"T_f6e6b_row18_col18\" class=\"data row18 col18\" >1.00</td>\n",
       "      <td id=\"T_f6e6b_row18_col19\" class=\"data row18 col19\" >0.01</td>\n",
       "      <td id=\"T_f6e6b_row18_col20\" class=\"data row18 col20\" >0.05</td>\n",
       "      <td id=\"T_f6e6b_row18_col21\" class=\"data row18 col21\" >0.01</td>\n",
       "      <td id=\"T_f6e6b_row18_col22\" class=\"data row18 col22\" >-0.01</td>\n",
       "      <td id=\"T_f6e6b_row18_col23\" class=\"data row18 col23\" >0.04</td>\n",
       "    </tr>\n",
       "    <tr>\n",
       "      <th id=\"T_f6e6b_level0_row19\" class=\"row_heading level0 row19\" >YearsAtCompany</th>\n",
       "      <td id=\"T_f6e6b_row19_col0\" class=\"data row19 col0\" >0.30</td>\n",
       "      <td id=\"T_f6e6b_row19_col1\" class=\"data row19 col1\" >-0.02</td>\n",
       "      <td id=\"T_f6e6b_row19_col2\" class=\"data row19 col2\" >-0.00</td>\n",
       "      <td id=\"T_f6e6b_row19_col3\" class=\"data row19 col3\" >0.06</td>\n",
       "      <td id=\"T_f6e6b_row19_col4\" class=\"data row19 col4\" >-0.01</td>\n",
       "      <td id=\"T_f6e6b_row19_col5\" class=\"data row19 col5\" >-0.03</td>\n",
       "      <td id=\"T_f6e6b_row19_col6\" class=\"data row19 col6\" >-0.00</td>\n",
       "      <td id=\"T_f6e6b_row19_col7\" class=\"data row19 col7\" >0.52</td>\n",
       "      <td id=\"T_f6e6b_row19_col8\" class=\"data row19 col8\" >-0.02</td>\n",
       "      <td id=\"T_f6e6b_row19_col9\" class=\"data row19 col9\" >0.50</td>\n",
       "      <td id=\"T_f6e6b_row19_col10\" class=\"data row19 col10\" >-0.02</td>\n",
       "      <td id=\"T_f6e6b_row19_col11\" class=\"data row19 col11\" >-0.10</td>\n",
       "      <td id=\"T_f6e6b_row19_col12\" class=\"data row19 col12\" >-0.03</td>\n",
       "      <td id=\"T_f6e6b_row19_col13\" class=\"data row19 col13\" >0.01</td>\n",
       "      <td id=\"T_f6e6b_row19_col14\" class=\"data row19 col14\" >0.02</td>\n",
       "      <td id=\"T_f6e6b_row19_col15\" class=\"data row19 col15\" >0.00</td>\n",
       "      <td id=\"T_f6e6b_row19_col16\" class=\"data row19 col16\" >0.59</td>\n",
       "      <td id=\"T_f6e6b_row19_col17\" class=\"data row19 col17\" >-0.00</td>\n",
       "      <td id=\"T_f6e6b_row19_col18\" class=\"data row19 col18\" >0.01</td>\n",
       "      <td id=\"T_f6e6b_row19_col19\" class=\"data row19 col19\" >1.00</td>\n",
       "      <td id=\"T_f6e6b_row19_col20\" class=\"data row19 col20\" >0.71</td>\n",
       "      <td id=\"T_f6e6b_row19_col21\" class=\"data row19 col21\" >0.57</td>\n",
       "      <td id=\"T_f6e6b_row19_col22\" class=\"data row19 col22\" >0.72</td>\n",
       "      <td id=\"T_f6e6b_row19_col23\" class=\"data row19 col23\" >0.50</td>\n",
       "    </tr>\n",
       "    <tr>\n",
       "      <th id=\"T_f6e6b_level0_row20\" class=\"row_heading level0 row20\" >YearsInCurrentRole</th>\n",
       "      <td id=\"T_f6e6b_row20_col0\" class=\"data row20 col0\" >0.20</td>\n",
       "      <td id=\"T_f6e6b_row20_col1\" class=\"data row20 col1\" >0.00</td>\n",
       "      <td id=\"T_f6e6b_row20_col2\" class=\"data row20 col2\" >0.03</td>\n",
       "      <td id=\"T_f6e6b_row20_col3\" class=\"data row20 col3\" >0.05</td>\n",
       "      <td id=\"T_f6e6b_row20_col4\" class=\"data row20 col4\" >0.02</td>\n",
       "      <td id=\"T_f6e6b_row20_col5\" class=\"data row20 col5\" >-0.03</td>\n",
       "      <td id=\"T_f6e6b_row20_col6\" class=\"data row20 col6\" >0.01</td>\n",
       "      <td id=\"T_f6e6b_row20_col7\" class=\"data row20 col7\" >0.37</td>\n",
       "      <td id=\"T_f6e6b_row20_col8\" class=\"data row20 col8\" >-0.01</td>\n",
       "      <td id=\"T_f6e6b_row20_col9\" class=\"data row20 col9\" >0.35</td>\n",
       "      <td id=\"T_f6e6b_row20_col10\" class=\"data row20 col10\" >-0.01</td>\n",
       "      <td id=\"T_f6e6b_row20_col11\" class=\"data row20 col11\" >-0.09</td>\n",
       "      <td id=\"T_f6e6b_row20_col12\" class=\"data row20 col12\" >-0.01</td>\n",
       "      <td id=\"T_f6e6b_row20_col13\" class=\"data row20 col13\" >0.03</td>\n",
       "      <td id=\"T_f6e6b_row20_col14\" class=\"data row20 col14\" >-0.02</td>\n",
       "      <td id=\"T_f6e6b_row20_col15\" class=\"data row20 col15\" >0.03</td>\n",
       "      <td id=\"T_f6e6b_row20_col16\" class=\"data row20 col16\" >0.43</td>\n",
       "      <td id=\"T_f6e6b_row20_col17\" class=\"data row20 col17\" >-0.02</td>\n",
       "      <td id=\"T_f6e6b_row20_col18\" class=\"data row20 col18\" >0.05</td>\n",
       "      <td id=\"T_f6e6b_row20_col19\" class=\"data row20 col19\" >0.71</td>\n",
       "      <td id=\"T_f6e6b_row20_col20\" class=\"data row20 col20\" >1.00</td>\n",
       "      <td id=\"T_f6e6b_row20_col21\" class=\"data row20 col21\" >0.52</td>\n",
       "      <td id=\"T_f6e6b_row20_col22\" class=\"data row20 col22\" >0.66</td>\n",
       "      <td id=\"T_f6e6b_row20_col23\" class=\"data row20 col23\" >0.35</td>\n",
       "    </tr>\n",
       "    <tr>\n",
       "      <th id=\"T_f6e6b_level0_row21\" class=\"row_heading level0 row21\" >YearsSinceLastPromotion</th>\n",
       "      <td id=\"T_f6e6b_row21_col0\" class=\"data row21 col0\" >0.22</td>\n",
       "      <td id=\"T_f6e6b_row21_col1\" class=\"data row21 col1\" >-0.01</td>\n",
       "      <td id=\"T_f6e6b_row21_col2\" class=\"data row21 col2\" >0.00</td>\n",
       "      <td id=\"T_f6e6b_row21_col3\" class=\"data row21 col3\" >0.05</td>\n",
       "      <td id=\"T_f6e6b_row21_col4\" class=\"data row21 col4\" >0.02</td>\n",
       "      <td id=\"T_f6e6b_row21_col5\" class=\"data row21 col5\" >-0.03</td>\n",
       "      <td id=\"T_f6e6b_row21_col6\" class=\"data row21 col6\" >-0.02</td>\n",
       "      <td id=\"T_f6e6b_row21_col7\" class=\"data row21 col7\" >0.34</td>\n",
       "      <td id=\"T_f6e6b_row21_col8\" class=\"data row21 col8\" >-0.02</td>\n",
       "      <td id=\"T_f6e6b_row21_col9\" class=\"data row21 col9\" >0.34</td>\n",
       "      <td id=\"T_f6e6b_row21_col10\" class=\"data row21 col10\" >0.02</td>\n",
       "      <td id=\"T_f6e6b_row21_col11\" class=\"data row21 col11\" >-0.02</td>\n",
       "      <td id=\"T_f6e6b_row21_col12\" class=\"data row21 col12\" >-0.03</td>\n",
       "      <td id=\"T_f6e6b_row21_col13\" class=\"data row21 col13\" >0.02</td>\n",
       "      <td id=\"T_f6e6b_row21_col14\" class=\"data row21 col14\" >0.03</td>\n",
       "      <td id=\"T_f6e6b_row21_col15\" class=\"data row21 col15\" >0.01</td>\n",
       "      <td id=\"T_f6e6b_row21_col16\" class=\"data row21 col16\" >0.38</td>\n",
       "      <td id=\"T_f6e6b_row21_col17\" class=\"data row21 col17\" >-0.01</td>\n",
       "      <td id=\"T_f6e6b_row21_col18\" class=\"data row21 col18\" >0.01</td>\n",
       "      <td id=\"T_f6e6b_row21_col19\" class=\"data row21 col19\" >0.57</td>\n",
       "      <td id=\"T_f6e6b_row21_col20\" class=\"data row21 col20\" >0.52</td>\n",
       "      <td id=\"T_f6e6b_row21_col21\" class=\"data row21 col21\" >1.00</td>\n",
       "      <td id=\"T_f6e6b_row21_col22\" class=\"data row21 col22\" >0.47</td>\n",
       "      <td id=\"T_f6e6b_row21_col23\" class=\"data row21 col23\" >0.34</td>\n",
       "    </tr>\n",
       "    <tr>\n",
       "      <th id=\"T_f6e6b_level0_row22\" class=\"row_heading level0 row22\" >YearsWithCurrManager</th>\n",
       "      <td id=\"T_f6e6b_row22_col0\" class=\"data row22 col0\" >0.19</td>\n",
       "      <td id=\"T_f6e6b_row22_col1\" class=\"data row22 col1\" >-0.01</td>\n",
       "      <td id=\"T_f6e6b_row22_col2\" class=\"data row22 col2\" >0.01</td>\n",
       "      <td id=\"T_f6e6b_row22_col3\" class=\"data row22 col3\" >0.07</td>\n",
       "      <td id=\"T_f6e6b_row22_col4\" class=\"data row22 col4\" >0.00</td>\n",
       "      <td id=\"T_f6e6b_row22_col5\" class=\"data row22 col5\" >-0.03</td>\n",
       "      <td id=\"T_f6e6b_row22_col6\" class=\"data row22 col6\" >0.04</td>\n",
       "      <td id=\"T_f6e6b_row22_col7\" class=\"data row22 col7\" >0.36</td>\n",
       "      <td id=\"T_f6e6b_row22_col8\" class=\"data row22 col8\" >-0.04</td>\n",
       "      <td id=\"T_f6e6b_row22_col9\" class=\"data row22 col9\" >0.33</td>\n",
       "      <td id=\"T_f6e6b_row22_col10\" class=\"data row22 col10\" >-0.04</td>\n",
       "      <td id=\"T_f6e6b_row22_col11\" class=\"data row22 col11\" >-0.11</td>\n",
       "      <td id=\"T_f6e6b_row22_col12\" class=\"data row22 col12\" >-0.02</td>\n",
       "      <td id=\"T_f6e6b_row22_col13\" class=\"data row22 col13\" >0.02</td>\n",
       "      <td id=\"T_f6e6b_row22_col14\" class=\"data row22 col14\" >0.01</td>\n",
       "      <td id=\"T_f6e6b_row22_col15\" class=\"data row22 col15\" >0.01</td>\n",
       "      <td id=\"T_f6e6b_row22_col16\" class=\"data row22 col16\" >0.43</td>\n",
       "      <td id=\"T_f6e6b_row22_col17\" class=\"data row22 col17\" >-0.02</td>\n",
       "      <td id=\"T_f6e6b_row22_col18\" class=\"data row22 col18\" >-0.01</td>\n",
       "      <td id=\"T_f6e6b_row22_col19\" class=\"data row22 col19\" >0.72</td>\n",
       "      <td id=\"T_f6e6b_row22_col20\" class=\"data row22 col20\" >0.66</td>\n",
       "      <td id=\"T_f6e6b_row22_col21\" class=\"data row22 col21\" >0.47</td>\n",
       "      <td id=\"T_f6e6b_row22_col22\" class=\"data row22 col22\" >1.00</td>\n",
       "      <td id=\"T_f6e6b_row22_col23\" class=\"data row22 col23\" >0.33</td>\n",
       "    </tr>\n",
       "    <tr>\n",
       "      <th id=\"T_f6e6b_level0_row23\" class=\"row_heading level0 row23\" >YearlyIncome</th>\n",
       "      <td id=\"T_f6e6b_row23_col0\" class=\"data row23 col0\" >0.48</td>\n",
       "      <td id=\"T_f6e6b_row23_col1\" class=\"data row23 col1\" >0.02</td>\n",
       "      <td id=\"T_f6e6b_row23_col2\" class=\"data row23 col2\" >-0.02</td>\n",
       "      <td id=\"T_f6e6b_row23_col3\" class=\"data row23 col3\" >0.10</td>\n",
       "      <td id=\"T_f6e6b_row23_col4\" class=\"data row23 col4\" >-0.01</td>\n",
       "      <td id=\"T_f6e6b_row23_col5\" class=\"data row23 col5\" >-0.02</td>\n",
       "      <td id=\"T_f6e6b_row23_col6\" class=\"data row23 col6\" >-0.01</td>\n",
       "      <td id=\"T_f6e6b_row23_col7\" class=\"data row23 col7\" >0.95</td>\n",
       "      <td id=\"T_f6e6b_row23_col8\" class=\"data row23 col8\" >-0.01</td>\n",
       "      <td id=\"T_f6e6b_row23_col9\" class=\"data row23 col9\" >1.00</td>\n",
       "      <td id=\"T_f6e6b_row23_col10\" class=\"data row23 col10\" >0.04</td>\n",
       "      <td id=\"T_f6e6b_row23_col11\" class=\"data row23 col11\" >0.16</td>\n",
       "      <td id=\"T_f6e6b_row23_col12\" class=\"data row23 col12\" >-0.03</td>\n",
       "      <td id=\"T_f6e6b_row23_col13\" class=\"data row23 col13\" >-0.02</td>\n",
       "      <td id=\"T_f6e6b_row23_col14\" class=\"data row23 col14\" >0.03</td>\n",
       "      <td id=\"T_f6e6b_row23_col15\" class=\"data row23 col15\" >0.00</td>\n",
       "      <td id=\"T_f6e6b_row23_col16\" class=\"data row23 col16\" >0.76</td>\n",
       "      <td id=\"T_f6e6b_row23_col17\" class=\"data row23 col17\" >-0.03</td>\n",
       "      <td id=\"T_f6e6b_row23_col18\" class=\"data row23 col18\" >0.04</td>\n",
       "      <td id=\"T_f6e6b_row23_col19\" class=\"data row23 col19\" >0.50</td>\n",
       "      <td id=\"T_f6e6b_row23_col20\" class=\"data row23 col20\" >0.35</td>\n",
       "      <td id=\"T_f6e6b_row23_col21\" class=\"data row23 col21\" >0.34</td>\n",
       "      <td id=\"T_f6e6b_row23_col22\" class=\"data row23 col22\" >0.33</td>\n",
       "      <td id=\"T_f6e6b_row23_col23\" class=\"data row23 col23\" >1.00</td>\n",
       "    </tr>\n",
       "  </tbody>\n",
       "</table>\n"
      ],
      "text/plain": [
       "<pandas.io.formats.style.Styler at 0x1355f208250>"
      ]
     },
     "execution_count": 93,
     "metadata": {},
     "output_type": "execute_result"
    }
   ],
   "source": [
    "corr = df.corr()\n",
    "corr.style.background_gradient(cmap='coolwarm').set_precision(2)"
   ]
  },
  {
   "cell_type": "code",
   "execution_count": 94,
   "id": "bb17b2b3",
   "metadata": {},
   "outputs": [],
   "source": [
    "# import matplotlib.pyplot as plt\n",
    "\n",
    "\n",
    "# plt.scatter(x, y)\n",
    "# plt.show()"
   ]
  }
 ],
 "metadata": {
  "kernelspec": {
   "display_name": "Python 3 (ipykernel)",
   "language": "python",
   "name": "python3"
  },
  "language_info": {
   "codemirror_mode": {
    "name": "ipython",
    "version": 3
   },
   "file_extension": ".py",
   "mimetype": "text/x-python",
   "name": "python",
   "nbconvert_exporter": "python",
   "pygments_lexer": "ipython3",
   "version": "3.9.12"
  },
  "toc": {
   "base_numbering": 1,
   "nav_menu": {},
   "number_sections": true,
   "sideBar": true,
   "skip_h1_title": false,
   "title_cell": "Table of Contents",
   "title_sidebar": "Contents",
   "toc_cell": false,
   "toc_position": {
    "height": "calc(100% - 180px)",
    "left": "10px",
    "top": "150px",
    "width": "273px"
   },
   "toc_section_display": true,
   "toc_window_display": false
  }
 },
 "nbformat": 4,
 "nbformat_minor": 5
}
