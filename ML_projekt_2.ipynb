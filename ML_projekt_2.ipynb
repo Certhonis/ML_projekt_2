{
 "cells": [
  {
   "cell_type": "markdown",
   "id": "f04e9f1b",
   "metadata": {},
   "source": [
    "# Import niezbędnych bibliotek."
   ]
  },
  {
   "cell_type": "code",
   "execution_count": 1,
   "id": "5d44588e",
   "metadata": {},
   "outputs": [],
   "source": [
    "import numpy as np\n",
    "import pandas as pd\n",
    "import seaborn as sns\n",
    "import matplotlib.pyplot as plt"
   ]
  },
  {
   "cell_type": "markdown",
   "id": "d5d2e185",
   "metadata": {},
   "source": [
    "# Wczytanie danych."
   ]
  },
  {
   "cell_type": "code",
   "execution_count": 2,
   "id": "14c4caed",
   "metadata": {},
   "outputs": [],
   "source": [
    "df = pd.read_csv('df1.csv')\n",
    "df_2 = pd.read_csv('df2.csv')\n",
    "df_3 = pd.read_csv('attrition.csv')\n",
    "df_4 = pd.read_csv('sample_output.csv')"
   ]
  },
  {
   "cell_type": "markdown",
   "id": "d8999ad7",
   "metadata": {},
   "source": [
    "# Połączenie plików w jeden główny.\n",
    "Sprawdzamy liczbę kolumn i wierszy."
   ]
  },
  {
   "cell_type": "code",
   "execution_count": 3,
   "id": "2606f6e8",
   "metadata": {},
   "outputs": [
    {
     "name": "stdout",
     "output_type": "stream",
     "text": [
      "(4449, 20)\n",
      "(4449, 17)\n",
      "(4449, 2)\n",
      "(147, 2)\n"
     ]
    }
   ],
   "source": [
    "print(df.shape)\n",
    "print(df_2.shape)\n",
    "print(df_3.shape)\n",
    "print(df_4.shape)"
   ]
  },
  {
   "cell_type": "code",
   "execution_count": 4,
   "id": "740e33ff",
   "metadata": {},
   "outputs": [
    {
     "data": {
      "text/html": [
       "<div>\n",
       "<style scoped>\n",
       "    .dataframe tbody tr th:only-of-type {\n",
       "        vertical-align: middle;\n",
       "    }\n",
       "\n",
       "    .dataframe tbody tr th {\n",
       "        vertical-align: top;\n",
       "    }\n",
       "\n",
       "    .dataframe thead th {\n",
       "        text-align: right;\n",
       "    }\n",
       "</style>\n",
       "<table border=\"1\" class=\"dataframe\">\n",
       "  <thead>\n",
       "    <tr style=\"text-align: right;\">\n",
       "      <th></th>\n",
       "      <th>EmployeeNumber</th>\n",
       "      <th>Age</th>\n",
       "      <th>BusinessTravel</th>\n",
       "      <th>DailyRate</th>\n",
       "      <th>Department</th>\n",
       "      <th>DistanceFromHome</th>\n",
       "      <th>Education</th>\n",
       "      <th>EducationField</th>\n",
       "      <th>EmployeeCount</th>\n",
       "      <th>EnvironmentSatisfaction</th>\n",
       "      <th>Gender</th>\n",
       "      <th>HourlyRate</th>\n",
       "      <th>JobInvolvement</th>\n",
       "      <th>JobLevel</th>\n",
       "      <th>JobRole</th>\n",
       "      <th>JobSatisfaction</th>\n",
       "      <th>MaritalStatus</th>\n",
       "      <th>MonthlyIncome</th>\n",
       "      <th>MonthlyRate</th>\n",
       "      <th>NumCompaniesWorked</th>\n",
       "    </tr>\n",
       "  </thead>\n",
       "  <tbody>\n",
       "    <tr>\n",
       "      <th>0</th>\n",
       "      <td>104</td>\n",
       "      <td>30.0</td>\n",
       "      <td>Travel_Rarely</td>\n",
       "      <td>852.0</td>\n",
       "      <td>Research &amp; Development</td>\n",
       "      <td>1.0</td>\n",
       "      <td>1.0</td>\n",
       "      <td>Life Sciences</td>\n",
       "      <td>1.0</td>\n",
       "      <td>4.0</td>\n",
       "      <td>Male</td>\n",
       "      <td>55.0</td>\n",
       "      <td>2.0</td>\n",
       "      <td>2.0</td>\n",
       "      <td>Laboratory Technician</td>\n",
       "      <td>4.0</td>\n",
       "      <td>Married</td>\n",
       "      <td>5126.0</td>\n",
       "      <td>15998.0</td>\n",
       "      <td>1.0</td>\n",
       "    </tr>\n",
       "    <tr>\n",
       "      <th>1</th>\n",
       "      <td>1638</td>\n",
       "      <td>38.0</td>\n",
       "      <td>Travel_Rarely</td>\n",
       "      <td>397.0</td>\n",
       "      <td>Research &amp; Development</td>\n",
       "      <td>2.0</td>\n",
       "      <td>2.0</td>\n",
       "      <td>Medical</td>\n",
       "      <td>1.0</td>\n",
       "      <td>4.0</td>\n",
       "      <td>Female</td>\n",
       "      <td>54.0</td>\n",
       "      <td>2.0</td>\n",
       "      <td>3.0</td>\n",
       "      <td>Manufacturing Director</td>\n",
       "      <td>3.0</td>\n",
       "      <td>Married</td>\n",
       "      <td>7756.0</td>\n",
       "      <td>14199.0</td>\n",
       "      <td>3.0</td>\n",
       "    </tr>\n",
       "  </tbody>\n",
       "</table>\n",
       "</div>"
      ],
      "text/plain": [
       "   EmployeeNumber   Age BusinessTravel  DailyRate              Department  \\\n",
       "0             104  30.0  Travel_Rarely      852.0  Research & Development   \n",
       "1            1638  38.0  Travel_Rarely      397.0  Research & Development   \n",
       "\n",
       "   DistanceFromHome  Education EducationField  EmployeeCount  \\\n",
       "0               1.0        1.0  Life Sciences            1.0   \n",
       "1               2.0        2.0        Medical            1.0   \n",
       "\n",
       "   EnvironmentSatisfaction  Gender  HourlyRate  JobInvolvement  JobLevel  \\\n",
       "0                      4.0    Male        55.0             2.0       2.0   \n",
       "1                      4.0  Female        54.0             2.0       3.0   \n",
       "\n",
       "                  JobRole  JobSatisfaction MaritalStatus  MonthlyIncome  \\\n",
       "0   Laboratory Technician              4.0       Married         5126.0   \n",
       "1  Manufacturing Director              3.0       Married         7756.0   \n",
       "\n",
       "   MonthlyRate  NumCompaniesWorked  \n",
       "0      15998.0                 1.0  \n",
       "1      14199.0                 3.0  "
      ]
     },
     "execution_count": 4,
     "metadata": {},
     "output_type": "execute_result"
    }
   ],
   "source": [
    "df.head(2)"
   ]
  },
  {
   "cell_type": "code",
   "execution_count": 5,
   "id": "062fef24",
   "metadata": {},
   "outputs": [
    {
     "data": {
      "text/html": [
       "<div>\n",
       "<style scoped>\n",
       "    .dataframe tbody tr th:only-of-type {\n",
       "        vertical-align: middle;\n",
       "    }\n",
       "\n",
       "    .dataframe tbody tr th {\n",
       "        vertical-align: top;\n",
       "    }\n",
       "\n",
       "    .dataframe thead th {\n",
       "        text-align: right;\n",
       "    }\n",
       "</style>\n",
       "<table border=\"1\" class=\"dataframe\">\n",
       "  <thead>\n",
       "    <tr style=\"text-align: right;\">\n",
       "      <th></th>\n",
       "      <th>EmployeeNumber</th>\n",
       "      <th>Over18</th>\n",
       "      <th>OverTime</th>\n",
       "      <th>PercentSalaryHike</th>\n",
       "      <th>PerformanceRating</th>\n",
       "      <th>RelationshipSatisfaction</th>\n",
       "      <th>StandardHours</th>\n",
       "      <th>StockOptionLevel</th>\n",
       "      <th>TotalWorkingYears</th>\n",
       "      <th>TrainingTimesLastYear</th>\n",
       "      <th>WorkLifeBalance</th>\n",
       "      <th>YearsAtCompany</th>\n",
       "      <th>YearsInCurrentRole</th>\n",
       "      <th>YearsSinceLastPromotion</th>\n",
       "      <th>YearsWithCurrManager</th>\n",
       "      <th>Attrition</th>\n",
       "      <th>YearlyIncome</th>\n",
       "    </tr>\n",
       "  </thead>\n",
       "  <tbody>\n",
       "    <tr>\n",
       "      <th>0</th>\n",
       "      <td>104</td>\n",
       "      <td>Y</td>\n",
       "      <td>Yes</td>\n",
       "      <td>12.0</td>\n",
       "      <td>3.0</td>\n",
       "      <td>3.0</td>\n",
       "      <td>80.0</td>\n",
       "      <td>2.0</td>\n",
       "      <td>10.0</td>\n",
       "      <td>1.0</td>\n",
       "      <td>2.0</td>\n",
       "      <td>10.0</td>\n",
       "      <td>8.0</td>\n",
       "      <td>3.0</td>\n",
       "      <td>0.0</td>\n",
       "      <td>No</td>\n",
       "      <td>61512.0</td>\n",
       "    </tr>\n",
       "    <tr>\n",
       "      <th>1</th>\n",
       "      <td>1638</td>\n",
       "      <td>Y</td>\n",
       "      <td>Yes</td>\n",
       "      <td>19.0</td>\n",
       "      <td>3.0</td>\n",
       "      <td>4.0</td>\n",
       "      <td>80.0</td>\n",
       "      <td>1.0</td>\n",
       "      <td>10.0</td>\n",
       "      <td>6.0</td>\n",
       "      <td>4.0</td>\n",
       "      <td>5.0</td>\n",
       "      <td>4.0</td>\n",
       "      <td>0.0</td>\n",
       "      <td>2.0</td>\n",
       "      <td>No</td>\n",
       "      <td>93072.0</td>\n",
       "    </tr>\n",
       "  </tbody>\n",
       "</table>\n",
       "</div>"
      ],
      "text/plain": [
       "   EmployeeNumber Over18 OverTime  PercentSalaryHike  PerformanceRating  \\\n",
       "0             104      Y      Yes               12.0                3.0   \n",
       "1            1638      Y      Yes               19.0                3.0   \n",
       "\n",
       "   RelationshipSatisfaction  StandardHours  StockOptionLevel  \\\n",
       "0                       3.0           80.0               2.0   \n",
       "1                       4.0           80.0               1.0   \n",
       "\n",
       "   TotalWorkingYears  TrainingTimesLastYear  WorkLifeBalance  YearsAtCompany  \\\n",
       "0               10.0                    1.0              2.0            10.0   \n",
       "1               10.0                    6.0              4.0             5.0   \n",
       "\n",
       "   YearsInCurrentRole  YearsSinceLastPromotion  YearsWithCurrManager  \\\n",
       "0                 8.0                      3.0                   0.0   \n",
       "1                 4.0                      0.0                   2.0   \n",
       "\n",
       "  Attrition  YearlyIncome  \n",
       "0        No       61512.0  \n",
       "1        No       93072.0  "
      ]
     },
     "execution_count": 5,
     "metadata": {},
     "output_type": "execute_result"
    }
   ],
   "source": [
    "df_2.head(2)"
   ]
  },
  {
   "cell_type": "code",
   "execution_count": 6,
   "id": "a3a0aed8",
   "metadata": {},
   "outputs": [
    {
     "data": {
      "text/html": [
       "<div>\n",
       "<style scoped>\n",
       "    .dataframe tbody tr th:only-of-type {\n",
       "        vertical-align: middle;\n",
       "    }\n",
       "\n",
       "    .dataframe tbody tr th {\n",
       "        vertical-align: top;\n",
       "    }\n",
       "\n",
       "    .dataframe thead th {\n",
       "        text-align: right;\n",
       "    }\n",
       "</style>\n",
       "<table border=\"1\" class=\"dataframe\">\n",
       "  <thead>\n",
       "    <tr style=\"text-align: right;\">\n",
       "      <th></th>\n",
       "      <th>EmployeeNumber</th>\n",
       "      <th>Attrition</th>\n",
       "    </tr>\n",
       "  </thead>\n",
       "  <tbody>\n",
       "    <tr>\n",
       "      <th>0</th>\n",
       "      <td>104</td>\n",
       "      <td>No</td>\n",
       "    </tr>\n",
       "    <tr>\n",
       "      <th>1</th>\n",
       "      <td>1638</td>\n",
       "      <td>No</td>\n",
       "    </tr>\n",
       "  </tbody>\n",
       "</table>\n",
       "</div>"
      ],
      "text/plain": [
       "   EmployeeNumber Attrition\n",
       "0             104        No\n",
       "1            1638        No"
      ]
     },
     "execution_count": 6,
     "metadata": {},
     "output_type": "execute_result"
    }
   ],
   "source": [
    "df_3.head(2)"
   ]
  },
  {
   "cell_type": "markdown",
   "id": "504e6dbd",
   "metadata": {},
   "source": [
    "Czwarty dataset dotyczcy pracowników o innych indeksach, zatem nie bierzemy go pod uwagę."
   ]
  },
  {
   "cell_type": "code",
   "execution_count": 7,
   "id": "49b8d404",
   "metadata": {},
   "outputs": [
    {
     "data": {
      "text/html": [
       "<div>\n",
       "<style scoped>\n",
       "    .dataframe tbody tr th:only-of-type {\n",
       "        vertical-align: middle;\n",
       "    }\n",
       "\n",
       "    .dataframe tbody tr th {\n",
       "        vertical-align: top;\n",
       "    }\n",
       "\n",
       "    .dataframe thead th {\n",
       "        text-align: right;\n",
       "    }\n",
       "</style>\n",
       "<table border=\"1\" class=\"dataframe\">\n",
       "  <thead>\n",
       "    <tr style=\"text-align: right;\">\n",
       "      <th></th>\n",
       "      <th>EmployeeNumber</th>\n",
       "      <th>Attrition</th>\n",
       "    </tr>\n",
       "  </thead>\n",
       "  <tbody>\n",
       "    <tr>\n",
       "      <th>0</th>\n",
       "      <td>100000</td>\n",
       "      <td>1</td>\n",
       "    </tr>\n",
       "    <tr>\n",
       "      <th>1</th>\n",
       "      <td>100001</td>\n",
       "      <td>1</td>\n",
       "    </tr>\n",
       "  </tbody>\n",
       "</table>\n",
       "</div>"
      ],
      "text/plain": [
       "   EmployeeNumber  Attrition\n",
       "0          100000          1\n",
       "1          100001          1"
      ]
     },
     "execution_count": 7,
     "metadata": {},
     "output_type": "execute_result"
    }
   ],
   "source": [
    "df_4.head(2)"
   ]
  },
  {
   "cell_type": "markdown",
   "id": "c062b87e",
   "metadata": {},
   "source": [
    "Mergujemy dane komendą join, dołączając poszczególne pliki do pierwszego df."
   ]
  },
  {
   "cell_type": "code",
   "execution_count": 8,
   "id": "1f22d9b9",
   "metadata": {},
   "outputs": [],
   "source": [
    "df = df.join(df_2, lsuffix='_caller', rsuffix='_other')\n",
    "df = df.join(df_3, lsuffix='_caller', rsuffix='_other')"
   ]
  },
  {
   "cell_type": "markdown",
   "id": "b6bf3677",
   "metadata": {},
   "source": [
    "Sprawdzamy, czy zgadza się liczba kolumn w pliku."
   ]
  },
  {
   "cell_type": "code",
   "execution_count": 9,
   "id": "eb82a5af",
   "metadata": {},
   "outputs": [
    {
     "data": {
      "text/plain": [
       "(4449, 39)"
      ]
     },
     "execution_count": 9,
     "metadata": {},
     "output_type": "execute_result"
    }
   ],
   "source": [
    "df.shape"
   ]
  },
  {
   "cell_type": "code",
   "execution_count": 10,
   "id": "17d0e4fc",
   "metadata": {},
   "outputs": [
    {
     "name": "stdout",
     "output_type": "stream",
     "text": [
      "<class 'pandas.core.frame.DataFrame'>\n",
      "RangeIndex: 4449 entries, 0 to 4448\n",
      "Data columns (total 39 columns):\n",
      " #   Column                    Non-Null Count  Dtype  \n",
      "---  ------                    --------------  -----  \n",
      " 0   EmployeeNumber_caller     4449 non-null   int64  \n",
      " 1   Age                       4449 non-null   float64\n",
      " 2   BusinessTravel            4449 non-null   object \n",
      " 3   DailyRate                 4449 non-null   float64\n",
      " 4   Department                4449 non-null   object \n",
      " 5   DistanceFromHome          4449 non-null   float64\n",
      " 6   Education                 4449 non-null   float64\n",
      " 7   EducationField            4449 non-null   object \n",
      " 8   EmployeeCount             4449 non-null   float64\n",
      " 9   EnvironmentSatisfaction   4449 non-null   float64\n",
      " 10  Gender                    4449 non-null   object \n",
      " 11  HourlyRate                4449 non-null   float64\n",
      " 12  JobInvolvement            4449 non-null   float64\n",
      " 13  JobLevel                  4449 non-null   float64\n",
      " 14  JobRole                   4449 non-null   object \n",
      " 15  JobSatisfaction           4449 non-null   float64\n",
      " 16  MaritalStatus             4449 non-null   object \n",
      " 17  MonthlyIncome             4449 non-null   float64\n",
      " 18  MonthlyRate               4449 non-null   float64\n",
      " 19  NumCompaniesWorked        4449 non-null   float64\n",
      " 20  EmployeeNumber_other      4449 non-null   int64  \n",
      " 21  Over18                    4449 non-null   object \n",
      " 22  OverTime                  4449 non-null   object \n",
      " 23  PercentSalaryHike         4449 non-null   float64\n",
      " 24  PerformanceRating         4449 non-null   float64\n",
      " 25  RelationshipSatisfaction  4449 non-null   float64\n",
      " 26  StandardHours             4449 non-null   float64\n",
      " 27  StockOptionLevel          4449 non-null   float64\n",
      " 28  TotalWorkingYears         4449 non-null   float64\n",
      " 29  TrainingTimesLastYear     4449 non-null   float64\n",
      " 30  WorkLifeBalance           4449 non-null   float64\n",
      " 31  YearsAtCompany            4449 non-null   float64\n",
      " 32  YearsInCurrentRole        4449 non-null   float64\n",
      " 33  YearsSinceLastPromotion   4449 non-null   float64\n",
      " 34  YearsWithCurrManager      4449 non-null   float64\n",
      " 35  Attrition_caller          4302 non-null   object \n",
      " 36  YearlyIncome              4449 non-null   float64\n",
      " 37  EmployeeNumber            4449 non-null   int64  \n",
      " 38  Attrition_other           4302 non-null   object \n",
      "dtypes: float64(26), int64(3), object(10)\n",
      "memory usage: 1.3+ MB\n"
     ]
    }
   ],
   "source": [
    "df.info()"
   ]
  },
  {
   "cell_type": "markdown",
   "id": "c149390c",
   "metadata": {},
   "source": [
    "# Sprawdzenie danych."
   ]
  },
  {
   "cell_type": "markdown",
   "id": "67791614",
   "metadata": {},
   "source": [
    "## Sprawdzenie, czy dane się nie duplikują."
   ]
  },
  {
   "cell_type": "code",
   "execution_count": 11,
   "id": "74d0df74",
   "metadata": {},
   "outputs": [
    {
     "data": {
      "text/plain": [
       "Index(['EmployeeNumber_caller', 'Age', 'BusinessTravel', 'DailyRate',\n",
       "       'Department', 'DistanceFromHome', 'Education', 'EducationField',\n",
       "       'EmployeeCount', 'EnvironmentSatisfaction', 'Gender', 'HourlyRate',\n",
       "       'JobInvolvement', 'JobLevel', 'JobRole', 'JobSatisfaction',\n",
       "       'MaritalStatus', 'MonthlyIncome', 'MonthlyRate', 'NumCompaniesWorked',\n",
       "       'EmployeeNumber_other', 'Over18', 'OverTime', 'PercentSalaryHike',\n",
       "       'PerformanceRating', 'RelationshipSatisfaction', 'StandardHours',\n",
       "       'StockOptionLevel', 'TotalWorkingYears', 'TrainingTimesLastYear',\n",
       "       'WorkLifeBalance', 'YearsAtCompany', 'YearsInCurrentRole',\n",
       "       'YearsSinceLastPromotion', 'YearsWithCurrManager', 'Attrition_caller',\n",
       "       'YearlyIncome', 'EmployeeNumber', 'Attrition_other'],\n",
       "      dtype='object')"
      ]
     },
     "execution_count": 11,
     "metadata": {},
     "output_type": "execute_result"
    }
   ],
   "source": [
    "df.columns"
   ]
  },
  {
   "cell_type": "markdown",
   "id": "940d82d5",
   "metadata": {},
   "source": [
    "Komendą T.drop_duplicates().T usuwamy zdublikowane kolumny."
   ]
  },
  {
   "cell_type": "code",
   "execution_count": 12,
   "id": "c1b55126",
   "metadata": {},
   "outputs": [],
   "source": [
    "df = df.T.drop_duplicates().T"
   ]
  },
  {
   "cell_type": "code",
   "execution_count": 13,
   "id": "2b71194a",
   "metadata": {},
   "outputs": [
    {
     "data": {
      "text/plain": [
       "(4449, 36)"
      ]
     },
     "execution_count": 13,
     "metadata": {},
     "output_type": "execute_result"
    }
   ],
   "source": [
    "df.shape"
   ]
  },
  {
   "cell_type": "code",
   "execution_count": 14,
   "id": "af84fba5",
   "metadata": {},
   "outputs": [
    {
     "data": {
      "text/plain": [
       "0"
      ]
     },
     "execution_count": 14,
     "metadata": {},
     "output_type": "execute_result"
    }
   ],
   "source": [
    "df.duplicated(keep=False).sum()"
   ]
  },
  {
   "cell_type": "markdown",
   "id": "22c69ccc",
   "metadata": {},
   "source": [
    "Usuneliśmy trzy zdublikowane komulny, następnie komendą duplicated(keep=False).sum() sprawdzimiśmy, czy napewno wszystkie powtarzające dane zostały usunięte."
   ]
  },
  {
   "cell_type": "markdown",
   "id": "53dd3e0b",
   "metadata": {},
   "source": [
    "## Sprawdzamy braki w danych."
   ]
  },
  {
   "cell_type": "code",
   "execution_count": 15,
   "id": "e8915bdb",
   "metadata": {},
   "outputs": [
    {
     "data": {
      "image/png": "[encoded data removed]",
      "text/plain": [
       "<Figure size 1080x576 with 1 Axes>"
      ]
     },
     "metadata": {
      "needs_background": "light"
     },
     "output_type": "display_data"
    }
   ],
   "source": [
    "plt.figure(figsize=(15, 8))\n",
    "\n",
    "sns.boxplot(data=df)\n",
    "\n",
    "plt.yscale('log')\n",
    "plt.xticks(rotation=90)\n",
    "plt.show()"
   ]
  },
  {
   "cell_type": "code",
   "execution_count": 16,
   "id": "208dd8ce",
   "metadata": {},
   "outputs": [
    {
     "name": "stdout",
     "output_type": "stream",
     "text": [
      "<class 'pandas.core.frame.DataFrame'>\n",
      "RangeIndex: 4449 entries, 0 to 4448\n",
      "Data columns (total 36 columns):\n",
      " #   Column                    Non-Null Count  Dtype \n",
      "---  ------                    --------------  ----- \n",
      " 0   EmployeeNumber_caller     4449 non-null   object\n",
      " 1   Age                       4449 non-null   object\n",
      " 2   BusinessTravel            4449 non-null   object\n",
      " 3   DailyRate                 4449 non-null   object\n",
      " 4   Department                4449 non-null   object\n",
      " 5   DistanceFromHome          4449 non-null   object\n",
      " 6   Education                 4449 non-null   object\n",
      " 7   EducationField            4449 non-null   object\n",
      " 8   EmployeeCount             4449 non-null   object\n",
      " 9   EnvironmentSatisfaction   4449 non-null   object\n",
      " 10  Gender                    4449 non-null   object\n",
      " 11  HourlyRate                4449 non-null   object\n",
      " 12  JobInvolvement            4449 non-null   object\n",
      " 13  JobLevel                  4449 non-null   object\n",
      " 14  JobRole                   4449 non-null   object\n",
      " 15  JobSatisfaction           4449 non-null   object\n",
      " 16  MaritalStatus             4449 non-null   object\n",
      " 17  MonthlyIncome             4449 non-null   object\n",
      " 18  MonthlyRate               4449 non-null   object\n",
      " 19  NumCompaniesWorked        4449 non-null   object\n",
      " 20  Over18                    4449 non-null   object\n",
      " 21  OverTime                  4449 non-null   object\n",
      " 22  PercentSalaryHike         4449 non-null   object\n",
      " 23  PerformanceRating         4449 non-null   object\n",
      " 24  RelationshipSatisfaction  4449 non-null   object\n",
      " 25  StandardHours             4449 non-null   object\n",
      " 26  StockOptionLevel          4449 non-null   object\n",
      " 27  TotalWorkingYears         4449 non-null   object\n",
      " 28  TrainingTimesLastYear     4449 non-null   object\n",
      " 29  WorkLifeBalance           4449 non-null   object\n",
      " 30  YearsAtCompany            4449 non-null   object\n",
      " 31  YearsInCurrentRole        4449 non-null   object\n",
      " 32  YearsSinceLastPromotion   4449 non-null   object\n",
      " 33  YearsWithCurrManager      4449 non-null   object\n",
      " 34  Attrition_caller          4302 non-null   object\n",
      " 35  YearlyIncome              4449 non-null   object\n",
      "dtypes: object(36)\n",
      "memory usage: 1.2+ MB\n"
     ]
    }
   ],
   "source": [
    "df.info()"
   ]
  },
  {
   "cell_type": "code",
   "execution_count": 17,
   "id": "dec0b9f9",
   "metadata": {},
   "outputs": [
    {
     "data": {
      "text/plain": [
       "EmployeeNumber_caller         0\n",
       "Age                           0\n",
       "BusinessTravel                0\n",
       "DailyRate                     0\n",
       "Department                    0\n",
       "DistanceFromHome              0\n",
       "Education                     0\n",
       "EducationField                0\n",
       "EmployeeCount                 0\n",
       "EnvironmentSatisfaction       0\n",
       "Gender                        0\n",
       "HourlyRate                    0\n",
       "JobInvolvement                0\n",
       "JobLevel                      0\n",
       "JobRole                       0\n",
       "JobSatisfaction               0\n",
       "MaritalStatus                 0\n",
       "MonthlyIncome                 0\n",
       "MonthlyRate                   0\n",
       "NumCompaniesWorked            0\n",
       "Over18                        0\n",
       "OverTime                      0\n",
       "PercentSalaryHike             0\n",
       "PerformanceRating             0\n",
       "RelationshipSatisfaction      0\n",
       "StandardHours                 0\n",
       "StockOptionLevel              0\n",
       "TotalWorkingYears             0\n",
       "TrainingTimesLastYear         0\n",
       "WorkLifeBalance               0\n",
       "YearsAtCompany                0\n",
       "YearsInCurrentRole            0\n",
       "YearsSinceLastPromotion       0\n",
       "YearsWithCurrManager          0\n",
       "Attrition_caller            147\n",
       "YearlyIncome                  0\n",
       "dtype: int64"
      ]
     },
     "execution_count": 17,
     "metadata": {},
     "output_type": "execute_result"
    }
   ],
   "source": [
    "df.isnull().sum()"
   ]
  },
  {
   "cell_type": "code",
   "execution_count": 18,
   "id": "24c01378",
   "metadata": {},
   "outputs": [
    {
     "data": {
      "text/plain": [
       "array(['No', 'Yes', nan], dtype=object)"
      ]
     },
     "execution_count": 18,
     "metadata": {},
     "output_type": "execute_result"
    }
   ],
   "source": [
    "df['Attrition_caller'].unique()"
   ]
  },
  {
   "cell_type": "code",
   "execution_count": 19,
   "id": "8ecd8208",
   "metadata": {},
   "outputs": [
    {
     "data": {
      "text/plain": [
       "array([104, 1638, 164, ..., 7977, 7978, 7979], dtype=object)"
      ]
     },
     "execution_count": 19,
     "metadata": {},
     "output_type": "execute_result"
    }
   ],
   "source": [
    "df['EmployeeNumber_caller'].unique()"
   ]
  },
  {
   "cell_type": "code",
   "execution_count": 20,
   "id": "dc6ab835",
   "metadata": {},
   "outputs": [
    {
     "data": {
      "text/plain": [
       "array([30.0, 38.0, 26.0, 28.0, 35.0, 34.0, 32.0, 42.0, 40.0, 48.0, 39.0,\n",
       "       18.0, 43.0, 21.0, 53.0, 45.0, 29.0, 33.0, 41.0, 24.0, 37.0, 50.0,\n",
       "       36.0, 52.0, 47.0, 31.0, 49.0, 54.0, 44.0, 22.0, 46.0, 27.0, 55.0,\n",
       "       59.0, 25.0, 23.0, 56.0, 20.0, 60.0, 51.0, 58.0, 19.0, 57.0, 8825.0,\n",
       "       3628.0, 6287.0, 9330.0, 1107.0, 4454.0, 9155.0, 9890.0, 1189.0,\n",
       "       9195.0, 9014.0, 1136.0, 5582.0, 2404.0, 1541.0, 4510.0, 4322.0,\n",
       "       4988.0, 8388.0, 2530.0, 8901.0, 2852.0, 2459.0, 2982.0, 4973.0,\n",
       "       8534.0, 8314.0, 4130.0, 4328.0, 7952.0, 8699.0, 3147.0, 8889.0,\n",
       "       3871.0, 9531.0, 8167.0, 5257.0, 8136.0, 7390.0, 2993.0, 5672.0,\n",
       "       5933.0, 5614.0, 5007.0, 3095.0, 9219.0, 6749.0, 4515.0, 6715.0,\n",
       "       1141.0, 8949.0, 3636.0, 4805.0, 5959.0, 9384.0, 8042.0, 1423.0,\n",
       "       7056.0, 5116.0, 2667.0, 8703.0, 1126.0, 9612.0, 7845.0, 6998.0,\n",
       "       1788.0, 6727.0, 5377.0, 5565.0, 4558.0, 6506.0, 4591.0, 7662.0,\n",
       "       6510.0, 4985.0, 9581.0, 2095.0, 2275.0, 6399.0, 4935.0, 2698.0,\n",
       "       7617.0, 9661.0, 4834.0, 2242.0, 1915.0, 3226.0, 7924.0, 9529.0,\n",
       "       8326.0, 1578.0, 8560.0, 9078.0, 6429.0, 9243.0, 2186.0, 2888.0,\n",
       "       6210.0, 3388.0, 2423.0, 6025.0, 1530.0, 7017.0, 4137.0, 5852.0,\n",
       "       4744.0, 7147.0, 7963.0, 2972.0, 5997.0, 3626.0, 8744.0, 2637.0,\n",
       "       4880.0, 4330.0, 2641.0, 2882.0, 5215.0, 7015.0, 8365.0, 6032.0,\n",
       "       5034.0, 2280.0, 4553.0, 3469.0, 8237.0, 8097.0, 3281.0, 6703.0,\n",
       "       2012.0, 9866.0, 1775.0, 5402.0, 9159.0, 3437.0, 8823.0],\n",
       "      dtype=object)"
      ]
     },
     "execution_count": 20,
     "metadata": {},
     "output_type": "execute_result"
    }
   ],
   "source": [
    "df['Age'].unique()"
   ]
  },
  {
   "cell_type": "code",
   "execution_count": 21,
   "id": "644b3173",
   "metadata": {},
   "outputs": [
    {
     "data": {
      "text/plain": [
       "array(['Travel_Rarely', 'Travel_Frequently', 'Non-Travel'], dtype=object)"
      ]
     },
     "execution_count": 21,
     "metadata": {},
     "output_type": "execute_result"
    }
   ],
   "source": [
    "df['BusinessTravel'].unique()"
   ]
  },
  {
   "cell_type": "code",
   "execution_count": 22,
   "id": "a7f056c0",
   "metadata": {
    "scrolled": true
   },
   "outputs": [
    {
     "data": {
      "text/plain": [
       "array([852.0, 397.0, 841.0, 1117.0, 464.0, 1107.0, 1018.0, 269.0, 296.0,\n",
       "       989.0, 855.0, 1181.0, 895.0, 827.0, 977.0, 544.0, 244.0, 995.0,\n",
       "       1343.0, 1282.0, 153.0, 280.0, 404.0, 1265.0, 252.0, 1496.0, 306.0,\n",
       "       128.0, 529.0, 553.0, 572.0, 482.0, 471.0, 509.0, 130.0, 506.0,\n",
       "       329.0, 367.0, 1219.0, 746.0, 1322.0, 969.0, 1271.0, 1158.0, 688.0,\n",
       "       319.0, 371.0, 1336.0, 107.0, 448.0, 359.0, 625.0, 1017.0, 835.0,\n",
       "       1050.0, 523.0, 1064.0, 1128.0, 928.0, 1319.0, 932.0, 809.0, 1376.0,\n",
       "       253.0, 336.0, 884.0, 1385.0, 945.0, 118.0, 1231.0, 426.0, 737.0,\n",
       "       1442.0, 853.0, 557.0, 377.0, 616.0, 1398.0, 1138.0, 531.0, 138.0,\n",
       "       1377.0, 1240.0, 1400.0, 1001.0, 1082.0, 1171.0, 136.0, 218.0,\n",
       "       452.0, 1397.0, 1192.0, 944.0, 408.0, 1040.0, 1329.0, 1416.0,\n",
       "       1125.0, 1144.0, 442.0, 1157.0, 438.0, 147.0, 140.0, 240.0, 202.0,\n",
       "       1297.0, 486.0, 1146.0, 150.0, 1404.0, 1206.0, 1172.0, 771.0,\n",
       "       1167.0, 441.0, 1141.0, 715.0, 891.0, 282.0, 1425.0, 1371.0, 170.0,\n",
       "       650.0, 1212.0, 638.0, 1255.0, 1099.0, 1222.0, 199.0, 116.0, 1296.0,\n",
       "       1294.0, 769.0, 548.0, 738.0, 933.0, 167.0, 1174.0, 304.0, 477.0,\n",
       "       607.0, 991.0, 1277.0, 318.0, 1332.0, 967.0, 311.0, 1015.0, 618.0,\n",
       "       994.0, 1311.0, 144.0, 1055.0, 530.0, 330.0, 508.0, 593.0, 1242.0,\n",
       "       430.0, 718.0, 1349.0, 663.0, 696.0, 1303.0, 970.0, 573.0, 678.0,\n",
       "       1221.0, 924.0, 1456.0, 1130.0, 1223.0, 301.0, 848.0, 370.0, 1232.0,\n",
       "       1225.0, 1234.0, 228.0, 481.0, 754.0, 1375.0, 201.0, 645.0, 1070.0,\n",
       "       791.0, 836.0, 1485.0, 1339.0, 1379.0, 267.0, 355.0, 376.0, 334.0,\n",
       "       516.0, 641.0, 763.0, 185.0, 1356.0, 1153.0, 1480.0, 316.0, 705.0,\n",
       "       427.0, 1094.0, 264.0, 560.0, 1441.0, 168.0, 216.0, 431.0, 867.0,\n",
       "       735.0, 1142.0, 556.0, 192.0, 119.0, 247.0, 248.0, 129.0, 630.0,\n",
       "       1252.0, 1300.0, 604.0, 289.0, 1420.0, 1041.0, 1112.0, 897.0, 111.0,\n",
       "       1413.0, 1355.0, 833.0, 1366.0, 721.0, 243.0, 672.0, 1076.0, 669.0,\n",
       "       1445.0, 134.0, 1275.0, 501.0, 383.0, 983.0, 1251.0, 655.0, 673.0,\n",
       "       555.0, 1193.0, 691.0, 1091.0, 1448.0, 369.0, 310.0, 1402.0, 662.0,\n",
       "       781.0, 1380.0, 703.0, 591.0, 806.0, 458.0, 342.0, 1333.0, 263.0,\n",
       "       845.0, 1358.0, 141.0, 883.0, 542.0, 1370.0, 428.0, 566.0, 1313.0,\n",
       "       279.0, 217.0, 1431.0, 390.0, 142.0, 574.0, 1434.0, 1467.0, 1009.0,\n",
       "       447.0, 1258.0, 571.0, 163.0, 906.0, 1421.0, 1354.0, 1302.0, 406.0,\n",
       "       1199.0, 1382.0, 1259.0, 1474.0, 1126.0, 1137.0, 589.0, 1045.0,\n",
       "       105.0, 626.0, 829.0, 1272.0, 146.0, 796.0, 179.0, 812.0, 1033.0,\n",
       "       500.0, 1454.0, 1084.0, 490.0, 1127.0, 345.0, 258.0, 1378.0, 697.0,\n",
       "       682.0, 1092.0, 971.0, 699.0, 1005.0, 1154.0, 131.0, 583.0, 905.0,\n",
       "       617.0, 1168.0, 1451.0, 896.0, 1236.0, 189.0, 750.0, 224.0, 636.0,\n",
       "       504.0, 1179.0, 343.0, 1361.0, 534.0, 869.0, 285.0, 1162.0, 195.0,\n",
       "       1443.0, 322.0, 878.0, 621.0, 1075.0, 1217.0, 1204.0, 188.0, 979.0,\n",
       "       821.0, 174.0, 1280.0, 480.0, 1449.0, 1182.0, 437.0, 1429.0, 676.0,\n",
       "       1274.0, 1079.0, 277.0, 1089.0, 256.0, 1238.0, 783.0, 391.0, 661.0,\n",
       "       613.0, 1029.0, 976.0, 605.0, 1066.0, 436.0, 1396.0, 194.0, 121.0,\n",
       "       419.0, 755.0, 288.0, 920.0, 959.0, 352.0, 921.0, 1103.0, 251.0,\n",
       "       1344.0, 1283.0, 657.0, 1038.0, 541.0, 911.0, 410.0, 775.0, 528.0,\n",
       "       177.0, 472.0, 1312.0, 117.0, 563.0, 957.0, 271.0, 546.0, 241.0,\n",
       "       675.0, 360.0, 1427.0, 694.0, 1309.0, 172.0, 1411.0, 964.0, 470.0,\n",
       "       722.0, 628.0, 155.0, 1054.0, 182.0, 1463.0, 1440.0, 871.0, 337.0,\n",
       "       692.0, 465.0, 693.0, 654.0, 443.0, 1353.0, 1405.0, 1131.0, 1459.0,\n",
       "       309.0, 422.0, 1134.0, 1085.0, 587.0, 1342.0, 413.0, 1218.0, 1452.0,\n",
       "       109.0, 575.0, 440.0, 507.0, 164.0, 433.0, 469.0, 592.0, 601.0,\n",
       "       415.0, 294.0, 986.0, 611.0, 894.0, 581.0, 1357.0, 832.0, 299.0,\n",
       "       1276.0, 1462.0, 1120.0, 788.0, 1479.0, 552.0, 684.0, 1200.0, 219.0,\n",
       "       1202.0, 807.0, 1122.0, 1469.0, 1188.0, 1351.0, 950.0, 1093.0,\n",
       "       286.0, 535.0, 254.0, 786.0, 956.0, 790.0, 804.0, 559.0, 713.0,\n",
       "       205.0, 1490.0, 1243.0, 1210.0, 882.0, 723.0, 1105.0, 879.0, 1136.0,\n",
       "       954.0, 200.0, 466.0, 350.0, 1053.0, 489.0, 1291.0, 594.0, 685.0,\n",
       "       840.0, 1389.0, 1305.0, 913.0, 373.0, 585.0, 862.0, 652.0, 1034.0,\n",
       "       1320.0, 203.0, 1063.0, 106.0, 1334.0, 265.0, 635.0, 1097.0, 603.0,\n",
       "       1115.0, 1194.0, 702.0, 154.0, 1475.0, 210.0, 708.0, 711.0, 1306.0,\n",
       "       792.0, 1180.0, 379.0, 505.0, 982.0, 949.0, 931.0, 1207.0, 1216.0,\n",
       "       644.0, 938.0, 741.0, 303.0, 887.0, 392.0, 1492.0, 1470.0, 1327.0,\n",
       "       1062.0, 332.0, 922.0, 1246.0, 325.0, 1323.0, 748.0, 1109.0, 580.0,\n",
       "       135.0, 1245.0, 666.0, 538.0, 1184.0, 429.0, 157.0, 462.0, 602.0,\n",
       "       885.0, 300.0, 1465.0, 532.0, 562.0, 946.0, 990.0, 805.0, 1090.0,\n",
       "       599.0, 903.0, 648.0, 929.0, 1450.0, 432.0, 797.0, 364.0, 143.0,\n",
       "       880.0, 362.0, 287.0, 817.0, 849.0, 634.0, 890.0, 161.0, 1253.0,\n",
       "       1368.0, 1178.0, 770.0, 302.0, 1318.0, 1023.0, 152.0, 160.0, 665.0,\n",
       "       930.0, 868.0, 268.0, 943.0, 1150.0, 966.0, 1069.0, 598.0, 180.0,\n",
       "       266.0, 992.0, 793.0, 1108.0, 1387.0, 1211.0, 104.0, 204.0, 1189.0,\n",
       "       499.0, 326.0, 181.0, 156.0, 1198.0, 384.0, 238.0, 561.0, 115.0,\n",
       "       671.0, 1266.0, 658.0, 1124.0, 1035.0, 942.0, 394.0, 1330.0, 819.0,\n",
       "       492.0, 461.0, 374.0, 881.0, 667.0, 813.0, 683.0, 670.0, 527.0,\n",
       "       726.0, 799.0, 498.0, 543.0, 727.0, 1230.0, 307.0, 866.0, 230.0,\n",
       "       1031.0, 1239.0, 801.0, 1365.0, 176.0, 125.0, 1214.0, 1288.0, 457.0,\n",
       "       996.0, 1495.0, 1476.0, 478.0, 999.0, 196.0, 608.0, 902.0, 558.0,\n",
       "       444.0, 1229.0, 145.0, 586.0, 1372.0, 600.0, 916.0, 917.0, 736.0,\n",
       "       640.0, 1488.0, 1176.0, 395.0, 1337.0, 1256.0, 1321.0, 1059.0,\n",
       "       1384.0, 981.0, 102.0, 1383.0, 759.0, 660.0, 317.0, 1213.0, 740.0,\n",
       "       1116.0, 728.0, 1145.0, 1403.0, 1473.0, 1362.0, 1278.0, 549.0,\n",
       "       756.0, 439.0, 536.0, 1315.0, 720.0, 629.0, 889.0, 588.0, 974.0,\n",
       "       622.0, 830.0, 734.0, 1151.0, 211.0, 1195.0, 1482.0, 810.0, 1030.0,\n",
       "       1395.0, 1457.0, 313.0, 1010.0, 328.0, 706.0, 1086.0, 1262.0, 511.0,\n",
       "       526.0, 1422.0, 1254.0, 646.0, 664.0, 1360.0, 207.0, 632.0, 984.0,\n",
       "       261.0, 193.0, 1268.0, 1098.0, 1261.0, 818.0, 401.0, 333.0, 1249.0,\n",
       "       857.0, 1224.0, 955.0, 446.0, 1436.0, 1316.0, 590.0, 1418.0, 567.0,\n",
       "       802.0, 249.0, 1410.0, 290.0, 704.0, 305.0, 525.0, 1423.0, 854.0,\n",
       "       926.0, 823.0, 1326.0, 1012.0, 1273.0, 798.0, 1037.0, 1065.0, 479.0,\n",
       "       1186.0, 988.0, 953.0, 234.0, 468.0, 1046.0, 653.0, 341.0, 1247.0,\n",
       "       1269.0, 824.0, 619.0, 1287.0, 782.0, 937.0, 120.0, 232.0, 1123.0,\n",
       "       1308.0, 132.0, 859.0, 968.0, 1003.0, 483.0, 495.0, 1102.0, 524.0,\n",
       "       1346.0, 346.0, 1169.0, 1439.0, 1328.0, 467.0, 1401.0, 103.0, 335.0,\n",
       "       1325.0, 206.0, 918.0, 772.0, 1435.0, 231.0, 570.0, 1052.0, 496.0,\n",
       "       314.0, 405.0, 1444.0, 474.0, 414.0, 1498.0, 412.0, 1391.0, 124.0,\n",
       "       1464.0, 1083.0, 776.0, 1096.0, 647.0, 1220.0, 766.0, 939.0, 1373.0,\n",
       "       237.0, 381.0, 488.0, 459.0, 1394.0, 1147.0, 1392.0, 642.0, 773.0,\n",
       "       760.0, 1111.0, 719.0, 1369.0, 674.0, 363.0, 1324.0, 717.0, 828.0,\n",
       "       1060.0, 1132.0, 898.0, 515.0, 935.0, 1499.0, 874.0, 888.0, 1002.0,\n",
       "       584.0, 1381.0, 365.0, 148.0, 689.0, 975.0, 213.0, 1299.0, 725.0,\n",
       "       208.0, 582.0], dtype=object)"
      ]
     },
     "execution_count": 22,
     "metadata": {},
     "output_type": "execute_result"
    }
   ],
   "source": [
    "df['DailyRate'].unique()"
   ]
  },
  {
   "cell_type": "code",
   "execution_count": 23,
   "id": "766b3540",
   "metadata": {},
   "outputs": [
    {
     "data": {
      "text/plain": [
       "array(['Research & Development', 'Human Resources', 'Sales'], dtype=object)"
      ]
     },
     "execution_count": 23,
     "metadata": {},
     "output_type": "execute_result"
    }
   ],
   "source": [
    "df['Department'].unique()"
   ]
  },
  {
   "cell_type": "code",
   "execution_count": 24,
   "id": "f64ed39d",
   "metadata": {},
   "outputs": [
    {
     "data": {
      "text/plain": [
       "array([1.0, 2.0, 6.0, 8.0, 4.0, 9.0, 3.0, 5.0, 22.0, 26.0, 10.0, 12.0,\n",
       "       7.0, 25.0, 29.0, 18.0, 24.0, 28.0, 16.0, 19.0, 13.0, 20.0, 11.0,\n",
       "       23.0, 21.0, 15.0, 14.0, 17.0, 27.0, 302984.0, 629986.0, 887003.0,\n",
       "       918326.0, 997422.0, 852749.0, 679106.0, 304698.0, 772706.0,\n",
       "       259089.0, 992947.0, 253620.0, 886117.0, 860358.0, 547308.0,\n",
       "       193929.0, 963929.0, 809361.0, 140916.0, 825100.0, 418093.0,\n",
       "       716417.0, 546730.0, 242839.0, 743173.0, 150886.0, 946786.0,\n",
       "       607220.0, 560047.0, 840183.0, 588585.0, 479723.0, 302239.0,\n",
       "       999590.0, 135607.0, 327380.0, 516738.0, 380120.0, 289540.0,\n",
       "       470836.0, 636415.0, 147920.0, 649517.0, 688939.0, 549089.0,\n",
       "       933385.0, 447546.0, 782402.0, 825855.0, 410963.0, 143454.0,\n",
       "       667984.0, 815600.0, 332529.0, 535366.0, 692089.0, 367120.0,\n",
       "       266645.0, 249717.0, 167566.0, 138023.0, 553235.0, 123628.0,\n",
       "       102637.0, 381469.0, 264889.0, 376075.0, 274206.0, 647087.0,\n",
       "       229109.0, 765855.0, 975446.0, 924937.0, 934448.0, 632834.0,\n",
       "       421069.0, 458858.0, 298194.0, 993161.0, 686501.0, 535160.0,\n",
       "       161435.0, 119377.0, 279509.0, 237547.0, 589265.0, 270050.0,\n",
       "       303600.0, 895533.0, 971787.0, 215000.0, 585976.0, 204179.0,\n",
       "       678387.0, 482211.0, 755441.0, 710269.0, 220024.0, 506379.0,\n",
       "       853938.0, 932144.0, 968203.0, 277125.0, 536402.0, 339434.0,\n",
       "       102583.0, 187830.0, 588809.0, 449359.0, 625879.0, 391908.0,\n",
       "       633867.0, 454423.0, 740696.0, 560263.0, 733295.0, 308024.0,\n",
       "       812485.0, 707484.0, 477232.0, 792796.0, 411835.0, 249810.0,\n",
       "       323510.0, 883970.0, 322329.0, 490741.0, 664579.0, 918785.0],\n",
       "      dtype=object)"
      ]
     },
     "execution_count": 24,
     "metadata": {},
     "output_type": "execute_result"
    }
   ],
   "source": [
    "df['DistanceFromHome'].unique()"
   ]
  },
  {
   "cell_type": "code",
   "execution_count": 27,
   "id": "b87a22d6",
   "metadata": {},
   "outputs": [
    {
     "data": {
      "text/plain": [
       "array([1.0, 2.0, 3.0, 4.0, 5.0], dtype=object)"
      ]
     },
     "execution_count": 27,
     "metadata": {},
     "output_type": "execute_result"
    }
   ],
   "source": [
    "df['Education'].unique()"
   ]
  },
  {
   "cell_type": "code",
   "execution_count": 28,
   "id": "58949650",
   "metadata": {},
   "outputs": [
    {
     "data": {
      "text/plain": [
       "array(['Life Sciences', 'Medical', 'Other', 'Technical Degree',\n",
       "       'Marketing', 'Human Resources'], dtype=object)"
      ]
     },
     "execution_count": 28,
     "metadata": {},
     "output_type": "execute_result"
    }
   ],
   "source": [
    "df['EducationField'].unique()"
   ]
  },
  {
   "cell_type": "code",
   "execution_count": 29,
   "id": "fd0b6dd2",
   "metadata": {},
   "outputs": [
    {
     "data": {
      "text/plain": [
       "array([1.0], dtype=object)"
      ]
     },
     "execution_count": 29,
     "metadata": {},
     "output_type": "execute_result"
    }
   ],
   "source": [
    "df['EmployeeCount'].unique()"
   ]
  },
  {
   "cell_type": "code",
   "execution_count": 30,
   "id": "8572715e",
   "metadata": {},
   "outputs": [
    {
     "data": {
      "text/plain": [
       "array([4.0, 3.0, 1.0, 2.0], dtype=object)"
      ]
     },
     "execution_count": 30,
     "metadata": {},
     "output_type": "execute_result"
    }
   ],
   "source": [
    "df['EnvironmentSatisfaction'].unique()"
   ]
  },
  {
   "cell_type": "code",
   "execution_count": 31,
   "id": "67e4ce9a",
   "metadata": {},
   "outputs": [
    {
     "data": {
      "text/plain": [
       "array(['Male', 'Female'], dtype=object)"
      ]
     },
     "execution_count": 31,
     "metadata": {},
     "output_type": "execute_result"
    }
   ],
   "source": [
    "df['Gender'].unique()"
   ]
  },
  {
   "cell_type": "code",
   "execution_count": 32,
   "id": "488fd7c8",
   "metadata": {},
   "outputs": [
    {
     "data": {
      "text/plain": [
       "array([55.0, 54.0, 46.0, 66.0, 75.0, 52.0, 39.0, 56.0, 33.0, 82.0, 45.0,\n",
       "       70.0, 97.0, 77.0, 40.0, 49.0, 58.0, 73.0, 43.0, 98.0, 95.0, 41.0,\n",
       "       100.0, 84.0, 79.0, 74.0, 90.0, 96.0, 91.0, 32.0, 88.0, 86.0, 76.0,\n",
       "       35.0, 94.0, 83.0, 65.0, 42.0, 31.0, 51.0, 36.0, 80.0, 69.0, 99.0,\n",
       "       48.0, 89.0, 81.0, 61.0, 92.0, 59.0, 44.0, 47.0, 53.0, 34.0, 60.0,\n",
       "       78.0, 30.0, 68.0, 37.0, 87.0, 50.0, 63.0, 72.0, 38.0, 71.0, 64.0,\n",
       "       85.0, 57.0, 67.0, 62.0, 93.0], dtype=object)"
      ]
     },
     "execution_count": 32,
     "metadata": {},
     "output_type": "execute_result"
    }
   ],
   "source": [
    "df['HourlyRate'].unique()"
   ]
  },
  {
   "cell_type": "code",
   "execution_count": 33,
   "id": "f94d7c16",
   "metadata": {},
   "outputs": [
    {
     "data": {
      "text/plain": [
       "array([2.0, 3.0, 1.0, 4.0], dtype=object)"
      ]
     },
     "execution_count": 33,
     "metadata": {},
     "output_type": "execute_result"
    }
   ],
   "source": [
    "df['JobInvolvement'].unique()"
   ]
  },
  {
   "cell_type": "code",
   "execution_count": 34,
   "id": "e254f520",
   "metadata": {},
   "outputs": [
    {
     "data": {
      "text/plain": [
       "array([2.0, 3.0, 1.0, 5.0, 4.0], dtype=object)"
      ]
     },
     "execution_count": 34,
     "metadata": {},
     "output_type": "execute_result"
    }
   ],
   "source": [
    "df['JobLevel'].unique()"
   ]
  },
  {
   "cell_type": "code",
   "execution_count": 36,
   "id": "e59c70e1",
   "metadata": {},
   "outputs": [
    {
     "data": {
      "text/plain": [
       "array(['Laboratory Technician', 'Manufacturing Director',\n",
       "       'Research Scientist', 'Human Resources', 'Research Director',\n",
       "       'Sales Representative', 'Manager', 'Healthcare Representative',\n",
       "       'Sales Executive'], dtype=object)"
      ]
     },
     "execution_count": 36,
     "metadata": {},
     "output_type": "execute_result"
    }
   ],
   "source": [
    "df['JobRole'].unique()"
   ]
  },
  {
   "cell_type": "code",
   "execution_count": 37,
   "id": "1d3c8ae5",
   "metadata": {},
   "outputs": [
    {
     "data": {
      "text/plain": [
       "array([4.0, 3.0, 2.0, 1.0], dtype=object)"
      ]
     },
     "execution_count": 37,
     "metadata": {},
     "output_type": "execute_result"
    }
   ],
   "source": [
    "df['JobSatisfaction'].unique()"
   ]
  },
  {
   "cell_type": "code",
   "execution_count": 38,
   "id": "e0d8df30",
   "metadata": {},
   "outputs": [
    {
     "data": {
      "text/plain": [
       "array(['Married', 'Single', 'Divorced'], dtype=object)"
      ]
     },
     "execution_count": 38,
     "metadata": {},
     "output_type": "execute_result"
    }
   ],
   "source": [
    "df['MaritalStatus'].unique()"
   ]
  },
  {
   "cell_type": "code",
   "execution_count": 39,
   "id": "f98702a4",
   "metadata": {},
   "outputs": [
    {
     "data": {
      "text/plain": [
       "array([5126.0, 7756.0, 2368.0, ..., 13348.0, 7978.0, 3708.0], dtype=object)"
      ]
     },
     "execution_count": 39,
     "metadata": {},
     "output_type": "execute_result"
    }
   ],
   "source": [
    "df['MonthlyIncome'].unique()"
   ]
  },
  {
   "cell_type": "code",
   "execution_count": 40,
   "id": "42b2c59e",
   "metadata": {},
   "outputs": [
    {
     "data": {
      "text/plain": [
       "array([15998.0, 14199.0, 23300.0, ..., 14842.0, 14075.0, 2104.0],\n",
       "      dtype=object)"
      ]
     },
     "execution_count": 40,
     "metadata": {},
     "output_type": "execute_result"
    }
   ],
   "source": [
    "df['MonthlyRate'].unique()"
   ]
  },
  {
   "cell_type": "code",
   "execution_count": 41,
   "id": "76b9a625",
   "metadata": {},
   "outputs": [
    {
     "data": {
      "text/plain": [
       "array([1.0, 3.0, 0.0, 5.0, 9.0, 4.0, 2.0, 6.0, 7.0, 8.0], dtype=object)"
      ]
     },
     "execution_count": 41,
     "metadata": {},
     "output_type": "execute_result"
    }
   ],
   "source": [
    "df['NumCompaniesWorked'].unique()"
   ]
  },
  {
   "cell_type": "code",
   "execution_count": 42,
   "id": "a5d00a09",
   "metadata": {},
   "outputs": [
    {
     "data": {
      "text/plain": [
       "array(['Y'], dtype=object)"
      ]
     },
     "execution_count": 42,
     "metadata": {},
     "output_type": "execute_result"
    }
   ],
   "source": [
    "df['Over18'].unique()"
   ]
  },
  {
   "cell_type": "code",
   "execution_count": 43,
   "id": "1f22ad70",
   "metadata": {},
   "outputs": [
    {
     "data": {
      "text/plain": [
       "array(['Yes', 'No'], dtype=object)"
      ]
     },
     "execution_count": 43,
     "metadata": {},
     "output_type": "execute_result"
    }
   ],
   "source": [
    "df['OverTime'].unique()"
   ]
  },
  {
   "cell_type": "code",
   "execution_count": 44,
   "id": "b1833b37",
   "metadata": {},
   "outputs": [
    {
     "data": {
      "text/plain": [
       "array([12.0, 19.0, 21.0, 15.0, 11.0, 16.0, 14.0, 13.0, 18.0, 23.0, 22.0,\n",
       "       17.0, 20.0, 25.0, 24.0], dtype=object)"
      ]
     },
     "execution_count": 44,
     "metadata": {},
     "output_type": "execute_result"
    }
   ],
   "source": [
    "df['PercentSalaryHike'].unique()"
   ]
  },
  {
   "cell_type": "code",
   "execution_count": 45,
   "id": "213c501a",
   "metadata": {},
   "outputs": [
    {
     "data": {
      "text/plain": [
       "array([3.0, 4.0], dtype=object)"
      ]
     },
     "execution_count": 45,
     "metadata": {},
     "output_type": "execute_result"
    }
   ],
   "source": [
    "df['PerformanceRating'].unique()"
   ]
  },
  {
   "cell_type": "code",
   "execution_count": 46,
   "id": "c6ec612e",
   "metadata": {},
   "outputs": [
    {
     "data": {
      "text/plain": [
       "array([3.0, 4.0, 2.0, 1.0], dtype=object)"
      ]
     },
     "execution_count": 46,
     "metadata": {},
     "output_type": "execute_result"
    }
   ],
   "source": [
    "df['RelationshipSatisfaction'].unique()"
   ]
  },
  {
   "cell_type": "code",
   "execution_count": 47,
   "id": "1a5be28c",
   "metadata": {},
   "outputs": [
    {
     "data": {
      "text/plain": [
       "array([80.0], dtype=object)"
      ]
     },
     "execution_count": 47,
     "metadata": {},
     "output_type": "execute_result"
    }
   ],
   "source": [
    "df['StandardHours'].unique()"
   ]
  },
  {
   "cell_type": "code",
   "execution_count": 48,
   "id": "621a2084",
   "metadata": {},
   "outputs": [
    {
     "data": {
      "text/plain": [
       "array([2.0, 1.0, 0.0, 3.0], dtype=object)"
      ]
     },
     "execution_count": 48,
     "metadata": {},
     "output_type": "execute_result"
    }
   ],
   "source": [
    "df['StockOptionLevel'].unique()"
   ]
  },
  {
   "cell_type": "code",
   "execution_count": 49,
   "id": "0a73b0fb",
   "metadata": {},
   "outputs": [
    {
     "data": {
      "text/plain": [
       "array([10.0, 5.0, 1.0, 2.0, 3.0, 21.0, 11.0, 19.0, 0.0, 6.0, 26.0, 9.0,\n",
       "       14.0, 17.0, 25.0, 12.0, 13.0, 7.0, 8.0, 18.0, 28.0, 15.0, 20.0,\n",
       "       23.0, 24.0, 16.0, 37.0, 22.0, 4.0, 30.0, 32.0, 31.0, 27.0, 29.0,\n",
       "       35.0, 38.0, 34.0, 40.0, 36.0, 33.0, 6618.0, 3808.0, 2764.0, 4370.0,\n",
       "       1086.0, 5377.0, 8821.0, 9536.0, 1822.0, 4740.0, 3625.0, 8183.0,\n",
       "       8890.0, 9670.0, 9815.0, 4506.0, 1442.0, 4031.0, 4196.0, 2450.0,\n",
       "       6907.0, 8095.0, 4409.0, 5482.0, 9714.0, 8746.0, 7825.0, 6463.0,\n",
       "       1123.0, 2194.0, 4607.0, 7635.0, 9501.0, 8270.0, 5787.0, 4958.0,\n",
       "       3077.0, 8575.0, 2270.0, 4176.0, 1143.0, 5257.0, 6100.0, 8929.0,\n",
       "       7173.0, 9311.0, 5407.0, 3201.0, 2230.0, 7349.0, 2651.0, 6666.0,\n",
       "       2976.0, 4969.0, 1953.0, 6345.0, 8311.0, 6990.0, 6502.0, 8583.0,\n",
       "       4640.0, 4132.0, 9939.0, 5789.0, 2027.0, 7864.0, 4795.0, 8062.0,\n",
       "       6456.0, 9905.0, 9781.0, 6563.0, 9198.0, 3778.0, 5772.0, 9626.0,\n",
       "       3360.0, 3089.0, 5629.0, 5742.0, 2730.0, 5463.0, 1337.0, 9495.0,\n",
       "       2091.0, 8052.0, 5670.0, 6606.0, 5002.0, 8888.0, 9327.0, 8323.0,\n",
       "       8622.0, 1735.0, 6314.0, 6566.0, 8957.0, 8334.0, 7843.0, 5676.0,\n",
       "       2041.0, 5505.0, 3311.0, 8665.0, 2820.0, 2352.0, 9794.0, 4264.0,\n",
       "       7053.0, 5644.0, 6652.0, 6167.0, 4694.0, 2300.0, 1016.0, 7267.0,\n",
       "       7515.0, 1758.0, 7680.0, 3417.0, 3206.0, 7089.0, 7762.0, 5649.0,\n",
       "       9606.0, 2439.0, 2604.0, 9432.0, 7223.0, 8104.0, 3879.0, 1220.0],\n",
       "      dtype=object)"
      ]
     },
     "execution_count": 49,
     "metadata": {},
     "output_type": "execute_result"
    }
   ],
   "source": [
    "df['TotalWorkingYears'].unique()"
   ]
  },
  {
   "cell_type": "code",
   "execution_count": 50,
   "id": "d1b766e5",
   "metadata": {},
   "outputs": [
    {
     "data": {
      "text/plain": [
       "array([1.0, 6.0, 3.0, 0.0, 4.0, 2.0, 5.0], dtype=object)"
      ]
     },
     "execution_count": 50,
     "metadata": {},
     "output_type": "execute_result"
    }
   ],
   "source": [
    "df['TrainingTimesLastYear'].unique()"
   ]
  },
  {
   "cell_type": "code",
   "execution_count": 51,
   "id": "0d566a86",
   "metadata": {},
   "outputs": [
    {
     "data": {
      "text/plain": [
       "array([2.0, 4.0, 3.0, 1.0], dtype=object)"
      ]
     },
     "execution_count": 51,
     "metadata": {},
     "output_type": "execute_result"
    }
   ],
   "source": [
    "df['WorkLifeBalance'].unique()"
   ]
  },
  {
   "cell_type": "code",
   "execution_count": 52,
   "id": "521c7f79",
   "metadata": {},
   "outputs": [
    {
     "data": {
      "text/plain": [
       "array([10.0, 5.0, 1.0, 2.0, 7.0, 9.0, 20.0, 0.0, 3.0, 14.0, 8.0, 24.0,\n",
       "       6.0, 4.0, 11.0, 15.0, 13.0, 21.0, 36.0, 26.0, 19.0, 16.0, 22.0,\n",
       "       18.0, 25.0, 17.0, 12.0, 37.0, 33.0, 40.0, 34.0, 23.0, 29.0, 31.0,\n",
       "       32.0, 27.0, 30.0, 5078.0, 7345.0, 3079.0, 2332.0, 1761.0, 1378.0,\n",
       "       8870.0, 4879.0, 9445.0, 2265.0, 5801.0, 8553.0, 3761.0, 2051.0,\n",
       "       7735.0, 2506.0, 9066.0, 3335.0, 1621.0, 8120.0, 3743.0, 9681.0,\n",
       "       6797.0, 3707.0, 7547.0, 6133.0, 3177.0, 3549.0, 8717.0, 1036.0,\n",
       "       9508.0, 1488.0, 5359.0, 2744.0, 5581.0, 9676.0, 1286.0, 5904.0,\n",
       "       1872.0, 4763.0, 7324.0, 6140.0, 3687.0, 1420.0, 9767.0, 3507.0,\n",
       "       6524.0, 5096.0, 6225.0, 7747.0, 5066.0, 9984.0, 5132.0, 5706.0,\n",
       "       3231.0, 2659.0, 5506.0, 8867.0, 8875.0, 3912.0, 1625.0, 9577.0,\n",
       "       3584.0, 9352.0, 5150.0, 6253.0, 1646.0, 8862.0, 2516.0, 3126.0,\n",
       "       4604.0, 5276.0, 6040.0, 3074.0, 7335.0, 4706.0, 3645.0, 2987.0,\n",
       "       3190.0, 3202.0, 1295.0, 5368.0, 1282.0, 2925.0, 2203.0, 2785.0,\n",
       "       1375.0, 3734.0, 1564.0, 8543.0, 5736.0, 7366.0, 4014.0, 9481.0,\n",
       "       5512.0, 1239.0, 2072.0, 3132.0, 8179.0, 5209.0, 8298.0, 1184.0,\n",
       "       2809.0, 2551.0, 3655.0, 9196.0, 6834.0, 7337.0, 6705.0, 2041.0,\n",
       "       1977.0, 6103.0, 3812.0, 4783.0, 9505.0, 5765.0, 5888.0, 7338.0,\n",
       "       8976.0, 7217.0, 3649.0, 4369.0, 4198.0, 8039.0, 1344.0, 8890.0,\n",
       "       8110.0, 6144.0, 3927.0], dtype=object)"
      ]
     },
     "execution_count": 52,
     "metadata": {},
     "output_type": "execute_result"
    }
   ],
   "source": [
    "df['YearsAtCompany'].unique()"
   ]
  },
  {
   "cell_type": "code",
   "execution_count": 53,
   "id": "17ead48d",
   "metadata": {},
   "outputs": [
    {
     "data": {
      "text/plain": [
       "array([8.0, 4.0, 3.0, 0.0, 2.0, 7.0, 6.0, 9.0, 5.0, 13.0, 11.0, 1.0, 10.0,\n",
       "       17.0, 12.0, 15.0, 14.0, 16.0, 18.0, 3099.0, 3591.0, 6908.0, 1099.0,\n",
       "       3814.0, 6651.0, 4218.0, 1179.0, 4230.0, 9454.0, 5438.0, 2975.0,\n",
       "       4252.0, 2939.0, 9459.0, 9420.0, 4139.0, 8200.0, 2100.0, 4858.0,\n",
       "       6364.0, 8251.0, 4925.0, 3723.0, 4194.0, 4323.0, 4558.0, 1858.0,\n",
       "       7125.0, 4435.0, 8935.0, 4986.0, 9107.0, 7137.0, 4656.0, 2515.0,\n",
       "       7635.0, 4461.0, 7908.0, 5735.0, 8835.0, 1797.0, 4137.0, 9193.0,\n",
       "       6691.0, 9596.0, 7077.0, 1191.0, 4174.0, 4713.0, 3606.0, 5335.0,\n",
       "       9822.0, 7420.0, 2816.0, 7866.0, 3509.0, 2360.0, 2514.0, 4376.0,\n",
       "       7320.0, 3443.0, 3453.0, 3978.0, 8619.0, 6081.0, 6378.0, 1190.0,\n",
       "       7925.0, 5834.0, 6862.0, 6131.0, 3235.0, 6430.0, 2470.0, 8497.0,\n",
       "       9038.0, 4362.0, 1810.0, 3364.0, 7606.0, 3683.0, 6188.0, 5203.0,\n",
       "       6421.0, 9395.0, 2647.0, 2825.0, 9551.0, 7664.0, 6169.0, 7105.0,\n",
       "       3802.0, 5274.0, 4551.0, 9120.0, 3033.0, 3015.0, 1615.0, 6784.0,\n",
       "       1009.0, 8222.0, 8058.0, 1584.0, 1924.0, 9217.0, 7484.0, 3121.0,\n",
       "       2582.0, 6387.0, 4212.0, 8090.0, 6246.0, 8807.0, 6180.0, 9937.0,\n",
       "       2848.0, 1335.0, 8102.0, 5841.0, 2979.0, 1838.0, 6415.0, 6048.0,\n",
       "       1602.0, 6001.0, 2931.0, 1732.0, 5181.0, 9053.0, 4623.0, 2868.0,\n",
       "       7822.0, 2596.0, 3726.0, 7395.0, 7392.0, 1404.0, 2822.0, 2112.0,\n",
       "       5637.0, 1995.0, 8020.0, 6755.0, 3797.0], dtype=object)"
      ]
     },
     "execution_count": 53,
     "metadata": {},
     "output_type": "execute_result"
    }
   ],
   "source": [
    "df['YearsInCurrentRole'].unique()"
   ]
  },
  {
   "cell_type": "code",
   "execution_count": 54,
   "id": "03cbb7e3",
   "metadata": {},
   "outputs": [
    {
     "data": {
      "text/plain": [
       "array([3.0, 0.0, 4.0, 2.0, 7.0, 1.0, 9.0, 8.0, 5.0, 11.0, 6.0, 15.0, 12.0,\n",
       "       13.0, 14.0, 10.0, 8080.0, 3720.0, 7291.0, 6920.0, 8467.0, 9420.0,\n",
       "       3246.0, 8913.0, 9952.0, 8550.0, 7997.0, 8534.0, 6773.0, 4940.0,\n",
       "       1973.0, 6763.0, 8021.0, 5738.0, 5291.0, 1094.0, 3771.0, 4958.0,\n",
       "       8890.0, 8538.0, 3982.0, 2153.0, 6279.0, 7240.0, 4204.0, 5392.0,\n",
       "       3486.0, 3742.0, 6401.0, 2166.0, 8312.0, 5994.0, 5894.0, 2293.0,\n",
       "       6747.0, 7989.0, 4200.0, 2754.0, 8922.0, 4370.0, 9389.0, 4704.0,\n",
       "       1201.0, 3777.0, 1815.0, 4382.0, 2576.0, 2475.0, 6551.0, 9509.0,\n",
       "       5284.0, 5292.0, 9990.0, 6003.0, 4575.0, 5649.0, 2081.0, 7609.0,\n",
       "       9572.0, 5308.0, 5383.0, 1058.0, 5165.0, 7897.0, 3832.0, 9595.0,\n",
       "       4763.0, 4071.0, 2723.0, 7868.0, 4619.0, 5391.0, 4885.0, 3884.0,\n",
       "       5431.0, 3089.0, 8515.0, 5266.0, 6440.0, 6350.0, 6968.0, 1639.0,\n",
       "       7859.0, 7427.0, 2922.0, 2282.0, 8966.0, 9175.0, 4409.0, 5346.0,\n",
       "       8213.0, 2025.0, 2789.0, 5151.0, 8053.0, 6233.0, 8113.0, 3057.0,\n",
       "       4094.0, 8650.0, 6305.0, 4434.0, 9624.0, 7137.0, 8853.0, 4547.0,\n",
       "       6767.0, 7056.0, 6847.0, 2743.0, 5881.0, 7659.0, 4468.0, 8366.0,\n",
       "       6196.0, 9373.0, 7521.0, 8652.0, 5957.0, 6881.0, 9041.0, 7322.0,\n",
       "       2079.0, 4098.0, 8932.0, 9885.0, 8810.0, 3082.0, 7816.0, 2745.0,\n",
       "       4586.0, 7403.0, 2778.0], dtype=object)"
      ]
     },
     "execution_count": 54,
     "metadata": {},
     "output_type": "execute_result"
    }
   ],
   "source": [
    "df['YearsSinceLastPromotion'].unique()"
   ]
  },
  {
   "cell_type": "code",
   "execution_count": 55,
   "id": "546f28cd",
   "metadata": {},
   "outputs": [
    {
     "data": {
      "text/plain": [
       "array([0.0, 2.0, 3.0, 7.0, 8.0, 9.0, 6.0, 11.0, 4.0, 12.0, 5.0, 10.0,\n",
       "       17.0, 1.0, 13.0, 14.0, 16.0, 15.0, 1798.0, 9404.0, 4163.0, 2411.0,\n",
       "       1947.0, 5987.0, 9201.0, 5346.0, 2106.0, 8731.0, 1759.0, 2736.0,\n",
       "       2181.0, 7012.0, 6277.0, 7405.0, 2101.0, 3908.0, 1781.0, 2883.0,\n",
       "       4389.0, 7032.0, 2811.0, 5256.0, 6162.0, 5242.0, 3922.0, 5168.0,\n",
       "       8672.0, 9717.0, 6129.0, 5048.0, 3434.0, 2879.0, 9333.0, 2892.0,\n",
       "       4528.0, 7876.0, 2702.0, 6788.0, 1077.0, 2428.0, 5233.0, 8457.0,\n",
       "       9709.0, 3546.0, 9321.0, 5326.0, 2333.0, 9882.0, 2564.0, 1910.0,\n",
       "       4869.0, 2480.0, 8393.0, 4404.0, 6426.0, 8841.0, 7091.0, 4220.0,\n",
       "       1540.0, 6691.0, 7781.0, 4321.0, 2220.0, 4326.0, 4212.0, 6700.0,\n",
       "       9147.0, 8932.0, 9382.0, 2962.0, 7386.0, 6873.0, 7230.0, 3097.0,\n",
       "       5198.0, 9734.0, 6480.0, 1982.0, 8712.0, 4811.0, 9772.0, 4210.0,\n",
       "       6606.0, 1948.0, 1142.0, 2460.0, 5869.0, 1643.0, 1067.0, 3385.0,\n",
       "       5941.0, 3193.0, 5707.0, 1691.0, 4760.0, 5136.0, 3876.0, 4911.0,\n",
       "       8954.0, 4456.0, 7971.0, 8170.0, 1914.0, 7729.0, 5905.0, 7420.0,\n",
       "       1845.0, 5747.0, 6349.0, 6432.0, 9414.0, 5885.0, 1913.0, 2728.0,\n",
       "       3217.0, 7779.0, 1898.0, 9207.0, 6654.0, 3596.0, 4134.0, 9582.0,\n",
       "       5403.0, 1929.0, 7553.0, 5867.0, 6746.0, 9133.0, 9202.0, 7518.0,\n",
       "       6754.0, 4249.0, 8195.0, 5651.0, 4738.0, 5948.0, 6683.0],\n",
       "      dtype=object)"
      ]
     },
     "execution_count": 55,
     "metadata": {},
     "output_type": "execute_result"
    }
   ],
   "source": [
    "df['YearsWithCurrManager'].unique()"
   ]
  },
  {
   "cell_type": "code",
   "execution_count": 56,
   "id": "0bff269f",
   "metadata": {},
   "outputs": [
    {
     "data": {
      "text/plain": [
       "array(['No', 'Yes', nan], dtype=object)"
      ]
     },
     "execution_count": 56,
     "metadata": {},
     "output_type": "execute_result"
    }
   ],
   "source": [
    "df['Attrition_caller'].unique()"
   ]
  },
  {
   "cell_type": "code",
   "execution_count": 57,
   "id": "800aa8fd",
   "metadata": {},
   "outputs": [
    {
     "data": {
      "text/plain": [
       "array([61512.0, 93072.0, 28416.0, ..., 160176.0, 95736.0, 44496.0],\n",
       "      dtype=object)"
      ]
     },
     "execution_count": 57,
     "metadata": {},
     "output_type": "execute_result"
    }
   ],
   "source": [
    "df['YearlyIncome'].unique()"
   ]
  },
  {
   "cell_type": "code",
   "execution_count": null,
   "id": "99e1f9ec",
   "metadata": {},
   "outputs": [],
   "source": []
  }
 ],
 "metadata": {
  "kernelspec": {
   "display_name": "Python 3 (ipykernel)",
   "language": "python",
   "name": "python3"
  },
  "language_info": {
   "codemirror_mode": {
    "name": "ipython",
    "version": 3
   },
   "file_extension": ".py",
   "mimetype": "text/x-python",
   "name": "python",
   "nbconvert_exporter": "python",
   "pygments_lexer": "ipython3",
   "version": "3.9.12"
  },
  "toc": {
   "base_numbering": 1,
   "nav_menu": {},
   "number_sections": true,
   "sideBar": true,
   "skip_h1_title": false,
   "title_cell": "Table of Contents",
   "title_sidebar": "Contents",
   "toc_cell": false,
   "toc_position": {},
   "toc_section_display": true,
   "toc_window_display": false
  }
 },
 "nbformat": 4,
 "nbformat_minor": 5
}
